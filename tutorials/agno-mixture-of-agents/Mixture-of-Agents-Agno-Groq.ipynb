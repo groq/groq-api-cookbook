{
 "cells": [
  {
   "cell_type": "markdown",
   "id": "6613d551-2164-4824-a4de-1c4d021b61a9",
   "metadata": {},
   "source": [
    "# MLB Stats Report: Mixture of Agents with Agno and Groq"
   ]
  },
  {
   "cell_type": "markdown",
   "id": "444802de-1d9f-4a5d-873d-2aeca7cea4ca",
   "metadata": {},
   "source": [
    "In this notebook, we will showcase the concept of [Mixture of Agents (MoA)](https://arxiv.org/pdf/2406.04692) using [Agno Agents](https://github.com/agno-agi/agno) and [Groq API](https://console.groq.com/playground). \n",
    "\n",
    "The Mixture of Agents approach involves leveraging multiple AI agents, each equipped with different language models, to collaboratively complete a task. By combining the strengths and perspectives of various models, we can achieve a more robust and nuanced result. \n",
    "\n",
    "In our project, multiple MLB Writer agents, each utilizing a different language model (`llama3-70b-8192`, `llama3-8b-8192`, `gemma2-9b-it`, and `mixtral-8x7b-32768`), will independently generate game recap articles based on game data collected from other Agno Agents. These diverse outputs will then be aggregated by an MLB Editor agent, which will synthesize the best elements from each article to create a final, polished game recap. This process not only demonstrates the power of collaborative AI but also highlights the effectiveness of integrating multiple models to enhance the quality of the generated content."
   ]
  },
  {
   "cell_type": "markdown",
   "id": "633760fa",
   "metadata": {},
   "source": [
    "## About Agno\n",
    "\n",
    "Agno is a lightweight framework for building multi-modal Agents.\n",
    "\n",
    "\n",
    "### Key features\n",
    "Here’s why you should build Agents with Agno:\n",
    "\n",
    "- Lightning Fast: Agent creation is 5000x faster than LangGraph (see performance).\n",
    "- Model Agnostic: Use any model, any provider, no lock-in.\n",
    "- Multi Modal: Native support for text, image, audio and video.\n",
    "- Multi Agent: Delegate tasks across a team of specialized agents.\n",
    "- Memory Management: Store user sessions and agent state in a database.\n",
    "- Knowledge Stores: Use vector databases for Agentic RAG or dynamic few-shot.\n",
    "- Structured Outputs: Make Agents respond with structured data.\n",
    "- Monitoring: Track agent sessions and performance in real-time on agno.com.\n",
    "\n",
    "Join us on our [Discord server](https://agno.link/discord) where we are actively building with the community. \n"
   ]
  },
  {
   "cell_type": "markdown",
   "id": "7cb2c24f",
   "metadata": {},
   "source": [
    "## How it works\n",
    "\n",
    "- **Step 1:** Create an `Agent`\n",
    "- **Step 2:** Add Tools (functions), Knowledge (vectordb) and Storage (database)\n",
    "- **Step 3:** Serve using Streamlit, FastApi or Django to build your AI application"
   ]
  },
  {
   "cell_type": "markdown",
   "id": "226eaba9-16a9-432c-9ad3-67bb54c9a053",
   "metadata": {},
   "source": [
    "### Setup"
   ]
  },
  {
   "cell_type": "code",
   "execution_count": 7,
   "id": "23f35a12",
   "metadata": {},
   "outputs": [],
   "source": [
    "# Import packages\n",
    "import os\n",
    "import json\n",
    "import statsapi\n",
    "import datetime\n",
    "from datetime import timedelta, datetime\n",
    "import pandas as pd\n",
    "\n",
    "from agno.agent import Agent\n",
    "from agno.models.groq import Groq"
   ]
  },
  {
   "cell_type": "code",
   "execution_count": 8,
   "id": "40534034-a556-424b-8f5b-81392939369e",
   "metadata": {},
   "outputs": [],
   "source": [
    "api_key = os.getenv('GROQ_API_KEY')"
   ]
  },
  {
   "cell_type": "markdown",
   "id": "cee9fc13-e27d-4e93-95df-57c87f5a8df4",
   "metadata": {},
   "source": [
    "We will configure multiple LLMs using [Agno Agents](https://github.com/agno-agi/agno), each requiring a Groq API Key for access which you can create [here](https://console.groq.com/keys). These models include different versions of Meta's LLaMA 3 and other specialized models like Google's Gemma 2 and Mixtral. Each model will be used by different agents to generate diverse outputs for the MLB game recap."
   ]
  },
  {
   "cell_type": "code",
   "execution_count": 9,
   "id": "1cd20615-fe84-4b35-bb39-2e4d7f388b35",
   "metadata": {},
   "outputs": [],
   "source": [
    "model_llama70b = Groq(id=\"llama3-70b-8192\", api_key=api_key)\n",
    "model_llama8b  = Groq(id=\"llama3-groq-8b-8192-tool-use-preview\", api_key=api_key)\n",
    "model_gemma2   = Groq(id=\"gemma2-9b-it\", api_key=api_key)\n",
    "model_mixtral  = Groq(id=\"mixtral-8x7b-32768\", api_key=api_key)"
   ]
  },
  {
   "cell_type": "markdown",
   "id": "cfe24034-9aa0-4f7d-90aa-d310dd5e685e",
   "metadata": {},
   "source": [
    "### Define Tools"
   ]
  },
  {
   "cell_type": "markdown",
   "id": "81fbc977-f417-4bfa-953d-05bc41a184e6",
   "metadata": {},
   "source": [
    "First, we will define specialized tools to equip some of the agents with to assist in gathering and processing MLB game data. These tools are designed to fetch game information and player boxscores via the [MLB-Stats API](https://github.com/toddrob99/MLB-StatsAPI). By providing these tools to our agents, they can call them with relevant information provided by the user prompt and infuse our MLB game recaps with accurate, up-to-date external information.\n",
    "\n",
    "- **get_game_info**: Fetches high-level information about an MLB game, including teams, scores, and key players.\n",
    "- **get_batting_stats**: Retrieves detailed player batting statistics for a specified MLB game.\n",
    "- **get_pitching_stats**: Retrieves detailed player pitching statistics for a specified MLB game.\n",
    "\n",
    "For more information on tool use/function calling with Agno Mixture of Agents, check out [Agno Documentation](https://docs.agno.com/introduction)."
   ]
  },
  {
   "cell_type": "code",
   "execution_count": 10,
   "id": "a1099020-ce9e-41ba-a477-760281d07f4f",
   "metadata": {},
   "outputs": [],
   "source": [
    "def get_game_info(game_date: str, team_name: str) -> str:\n",
    "    \"\"\"Gets high-level information on an MLB game.\n",
    "    \n",
    "    Params:\n",
    "    game_date: The date of the game of interest, in the form \"yyyy-mm-dd\". \n",
    "    team_name: MLB team name. Both full name (e.g. \"New York Yankees\") or nickname (\"Yankees\") are valid. If multiple teams are mentioned, use the first one\n",
    "    \"\"\"\n",
    "    sched = statsapi.schedule(start_date=game_date,end_date=game_date)\n",
    "    sched_df = pd.DataFrame(sched)\n",
    "    game_info_df = sched_df[sched_df['summary'].str.contains(team_name, case=False, na=False)]\n",
    "\n",
    "    game_info = {\n",
    "        \"game_id\": str(game_info_df.game_id.tolist()[0]),\n",
    "        \"home_team\": game_info_df.home_name.tolist()[0],\n",
    "        \"home_score\": game_info_df.home_score.tolist()[0],\n",
    "        \"away_team\": game_info_df.away_name.tolist()[0],\n",
    "        \"away_score\": game_info_df.away_score.tolist()[0],\n",
    "        \"winning_team\": game_info_df.winning_team.tolist()[0],\n",
    "        \"series_status\": game_info_df.series_status.tolist()[0]\n",
    "    }\n",
    "\n",
    "    return json.dumps(game_info)\n",
    "\n",
    "\n",
    "def get_batting_stats(game_id: str) -> str:\n",
    "    \"\"\"Gets player boxscore batting stats for a particular MLB game\n",
    "    \n",
    "    Params:\n",
    "    game_id: The 6-digit ID of the game\n",
    "    \"\"\"\n",
    "    boxscores=statsapi.boxscore_data(game_id)\n",
    "    player_info_df = pd.DataFrame(boxscores['playerInfo']).T.reset_index()\n",
    "\n",
    "    away_batters_box = pd.DataFrame(boxscores['awayBatters']).iloc[1:]\n",
    "    away_batters_box['team_name'] = boxscores['teamInfo']['away']['teamName']\n",
    "\n",
    "    home_batters_box = pd.DataFrame(boxscores['homeBatters']).iloc[1:]\n",
    "    home_batters_box['team_name'] = boxscores['teamInfo']['home']['teamName']\n",
    "\n",
    "    batters_box_df = pd.concat([away_batters_box, home_batters_box]).merge(player_info_df, left_on = 'name', right_on = 'boxscoreName')\n",
    "    batting_stats = batters_box_df[['team_name','fullName','position','ab','r','h','hr','rbi','bb','sb']].to_dict(orient='records')\n",
    "\n",
    "    return json.dumps(batting_stats)\n",
    "\n",
    "\n",
    "def get_pitching_stats(game_id: str) -> str:\n",
    "    \"\"\"Gets player boxscore pitching stats for a particular MLB game\n",
    "    \n",
    "    Params:\n",
    "    game_id: The 6-digit ID of the game\n",
    "    \"\"\"\n",
    "    boxscores=statsapi.boxscore_data(game_id)\n",
    "    player_info_df = pd.DataFrame(boxscores['playerInfo']).T.reset_index()\n",
    "\n",
    "    away_pitchers_box = pd.DataFrame(boxscores['awayPitchers']).iloc[1:]\n",
    "    away_pitchers_box['team_name'] = boxscores['teamInfo']['away']['teamName']\n",
    "\n",
    "    home_pitchers_box = pd.DataFrame(boxscores['homePitchers']).iloc[1:]\n",
    "    home_pitchers_box['team_name'] = boxscores['teamInfo']['home']['teamName']\n",
    "\n",
    "    pitchers_box_df = pd.concat([away_pitchers_box,home_pitchers_box]).merge(player_info_df, left_on = 'name', right_on = 'boxscoreName')\n",
    "    pitching_stats = pitchers_box_df[['team_name','fullName','ip','h','r','er','bb','k','note']].to_dict(orient='records')\n",
    "\n",
    "    return json.dumps(pitching_stats)"
   ]
  },
  {
   "cell_type": "markdown",
   "id": "5410103f-5afa-4b33-a834-01212d7dc0e5",
   "metadata": {},
   "source": [
    "### Define Agents"
   ]
  },
  {
   "cell_type": "markdown",
   "id": "2e0e09f2-e772-4c45-b29e-5bf2b9c91efc",
   "metadata": {},
   "source": [
    "In Agno, Agents are autonomous entities designed to execute a task using their Knowledge, Memory, and Tools. \n",
    "\n",
    "- **MLB Researcher**: Uses the `get_game_info` tool to gather high-level game information.\n",
    "- **MLB Batting and Pitching Statistician**: Retrieves player batting and pitching boxscore stats using the `get_batting_stats` and `get_pitching_stats` tools.\n",
    "- **MLB Writers**: Three agents, each using different LLMs (LLaMA-8b, Gemma-9b, Mixtral-8x7b), to write game recap articles.\n",
    "- **MLB Editor**: Edits the articles from the writers to create the final game recap."
   ]
  },
  {
   "cell_type": "markdown",
   "id": "ba83d424-865f-4a57-8662-308c426ddd07",
   "metadata": {},
   "source": [
    "#### Mixture of Agents"
   ]
  },
  {
   "cell_type": "markdown",
   "id": "d18f6612-3af0-4fc8-a38f-5d0bef87bb6a",
   "metadata": {},
   "source": [
    "In this demo, although the MLB Researcher and MLB Statistician agents use tool calling to gather data for the output, our Mixture of Agents framework consists of the three MLB Writer agents and the MLB Editor. This makes our MoA architecture a simple 2 layer design, but more complex architectures are possible to improve the output even more:"
   ]
  },
  {
   "cell_type": "markdown",
   "id": "e938b3f8-d0b5-4692-877e-5c7d1cde82d1",
   "metadata": {},
   "source": [
    "![Alt text](mixture_of_agents_diagram.png)"
   ]
  },
  {
   "cell_type": "code",
   "execution_count": 16,
   "id": "54a40307-bfc5-4636-aa98-14f49513c611",
   "metadata": {},
   "outputs": [],
   "source": [
    "default_date = datetime.now().date() - timedelta(1) # Set default date to yesterday in case no date is specified\n",
    "\n",
    "mlb_researcher = Agent(\n",
    "    model=model_mixtral,\n",
    "    description=\"An detailed accurate MLB researcher extracts game information from the user question\",\n",
    "    instructions=[\n",
    "        f\"Parse the Team and date (use {default_date} if user does not specify) from the user question.\",\n",
    "        \"Pass to your get_game_info tool\",\n",
    "        \"\"\"\n",
    "        Respond in the following format:\n",
    "            game_id: game_id\n",
    "            home_team: home_team\n",
    "            home_score: home_score\n",
    "            away_team: away_team\n",
    "            away_score: away_score\n",
    "            winning_team: winning_team\n",
    "            series_status: series_status\n",
    "        \"\"\"        \n",
    "    ],\n",
    "    tools=[get_game_info],   \n",
    ")\n",
    "\n",
    "mlb_batting_statistician = Agent(\n",
    "    model=model_mixtral,\n",
    "    description=\"An industrious MLB Statistician analyzing player boxscore stats for the relevant game\",\n",
    "    instructions=[\n",
    "        \"Given information about a MLB game, retrieve ONLY boxscore player batting stats for the game identified by the MLB Researcher\",\n",
    "        \"Your analysis should be atleast 500 words long, and include inning-by-inning statistical summaries\",\n",
    "        ],\n",
    "    tools=[get_batting_stats],\n",
    ")\n",
    "\n",
    "mlb_pitching_statistician = Agent(\n",
    "    model=model_mixtral,\n",
    "    description=\"An industrious MLB Statistician analyzing player boxscore stats for the relevant game\",\n",
    "    instructions=[\n",
    "        \"Given information about a MLB game, retrieve ONLY boxscore player pitching stats for a specific game\",\n",
    "        \"Your analysis should be atleast 500 words long, and include inning-by-inning statistical summaries\",\n",
    "        ],\n",
    "    tools=[get_pitching_stats],\n",
    ")\n",
    "\n",
    "mlb_writer_llama = Agent(\n",
    "    model=model_llama70b,\n",
    "    description=\"An experienced, honest, and industrious writer who does not make things up\",\n",
    "    instructions=[\n",
    "        \"\"\"\n",
    "            Write a game recap article using the provided game information and stats.\n",
    "            Key instructions:\n",
    "            - Include things like final score, top performers and winning/losing pitcher.\n",
    "            - Use ONLY the provided data and DO NOT make up any information, such as specific innings when events occurred, that isn't explicitly from the provided input.\n",
    "            - Do not print the box score\n",
    "        \"\"\",\n",
    "        \"Your recap from the stats should be at least 1000 words. Impress your readers!!!\"\n",
    "    ],\n",
    ")\n",
    "\n",
    "mlb_writer_gemma = Agent(\n",
    "    model=model_gemma2,\n",
    "    description=\"An experienced and honest writer who does not make things up\",\n",
    "    instructions=[\"Write a detailed game recap article using the provided game information and stats\"],\n",
    ")\n",
    "\n",
    "mlb_writer_mixtral = Agent(\n",
    "    model=model_mixtral,\n",
    "    description=\"An experienced and honest writer who does not make things up\",\n",
    "    instructions=[\"Write a detailed game recap article using the provided game information and stats\"],\n",
    ")\n",
    "\n",
    "mlb_editor = Agent(\n",
    "    model=model_llama70b,\n",
    "    description=\"An experienced editor that excels at taking the best parts of multiple texts to create the best final product\",\n",
    "    instructions=[\"Edit recap articles to create the best final product.\"],\n",
    ")"
   ]
  },
  {
   "cell_type": "code",
   "execution_count": 12,
   "id": "d56d9ff7-e337-40c4-b2c1-e2f69940ce41",
   "metadata": {
    "scrolled": true
   },
   "outputs": [],
   "source": [
    "user_prompt = 'write a recap of the Yankees game on July 14, 2024'"
   ]
  },
  {
   "cell_type": "code",
   "execution_count": null,
   "id": "fe2f239d",
   "metadata": {},
   "outputs": [],
   "source": [
    "game_information = mlb_researcher.run(user_prompt, stream=False)\n",
    "print(game_information)\n",
    "\n",
    "batting_stats  = mlb_batting_statistician.run(game_information, stream=False)\n",
    "pitching_stats = mlb_pitching_statistician.run(game_information, stream=False)\n",
    "\n",
    "stats = f\"Statistical summaries for the game:\\n\\nBatting stats:\\n{batting_stats}\\n\\nPitching stats:\\n{pitching_stats}\"\n",
    "llama_writer   = mlb_writer_llama.run(stats, stream=False)\n",
    "gemma_writer   = mlb_writer_gemma.run(stats, stream=False)\n",
    "mixtral_writer = mlb_writer_mixtral.run(stats, stream=False)\n",
    "\n",
    "# Edit final outputs\n",
    "editor_inputs = [llama_writer, gemma_writer, mixtral_writer]\n",
    "editor = mlb_editor.run(\"\\n\".join(editor_inputs), stream=False)\n",
    "\n",
    "print(editor)"
   ]
  },
  {
   "cell_type": "markdown",
   "id": "6294e4a6",
   "metadata": {},
   "source": [
    "# Conclusion:\n",
    "\n",
    "Using Agno Agents + Groq allows developers to build a cost effective and high quality solution for generating MLB game recaps. The Mixture-of-Agents approach leverages multiple AI agents, each equipped with small and different language models, to complete a task.\n",
    "\n",
    "We use multiple MLB Writer agents utilizing different language models to independently generate game recap articles based on game data collected from other Agno Agents. An MLB Editor agent then synthesizes the best elements from each article to create a final, polished game recap.\n",
    "\n",
    "# Connect with us:\n",
    "Join the [Agno Discord](https://agno.link/discord) and [Groq Discord](https://discord.com/invite/groq) servers to discuss your ideas and get support from the community. If you have questions, feel free to reach out to us at [Discourse](https://agno.link/community)\n",
    "\n",
    "# Resources:\n",
    "Mixture-of-Agents:\n",
    "https://arxiv.org/pdf/2406.04692\n",
    "\n",
    "Agno:\n",
    "https://docs.agno.com/introduction"
   ]
  }
 ],
 "metadata": {
  "kernelspec": {
   "display_name": "Python 3 (ipykernel)",
   "language": "python",
   "name": "python3"
  },
  "language_info": {
   "codemirror_mode": {
    "name": "ipython",
    "version": 3
   },
   "file_extension": ".py",
   "mimetype": "text/x-python",
   "name": "python",
   "nbconvert_exporter": "python",
   "pygments_lexer": "ipython3",
   "version": "3.9.6"
  }
 },
 "nbformat": 4,
 "nbformat_minor": 5
}
