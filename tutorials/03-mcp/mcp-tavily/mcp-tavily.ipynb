{
 "cells": [
  {
   "cell_type": "markdown",
   "metadata": {},
   "source": [
    "# Groq + Tavily MCP: Real-Time Search\n",
    "This notebook is designed for Python developers who want to empower Groq inference with real-time web access, enabling Groq models to utilize up-to-date information as context via Tavily's Model Context Protocol (MCP) server that will give models access to various tools. Live web information is critical for AI agents tasked with performing research, monitoring trends, or generating context-aware responses. \n",
    "\n",
    "We will achieve this through three simple steps:\n",
    "1. Set up **Groq MCP client** for fast inference.\n",
    "2. Set up **Tavily MCP server** for web search, web scraping, and web crawling.\n",
    "3. Seemlessly **connect the client to the server** through the Responses API.\n",
    "\n",
    "---"
   ]
  },
  {
   "cell_type": "markdown",
   "metadata": {},
   "source": [
    "## Getting Started\n",
    "\n",
    "Follow these steps to set up:\n",
    "1. **Sign up** for Tavily at [app.tavily.com](https://app.tavily.com/home/) to get your free API key.\n",
    "2. **Sign up** for Groq at [console.groq.com](https://console.groq.com/keys) to get your free API key.\n",
    "3. **Copy your API keys** from your Tavily and Groq account dashboards.\n",
    "4. **Paste your API keys** into the cell below and run the cell."
   ]
  },
  {
   "cell_type": "code",
   "execution_count": null,
   "metadata": {},
   "outputs": [],
   "source": [
    "# To export your API keys into a .env file, run the following cell (replace with your actual keys):\n",
    "!echo \"TAVILY_API_KEY=<your-tavily-api-key>\" >> .env\n",
    "!echo \"GROQ_API_KEY=<your-groq-api-key>\" >> .env"
   ]
  },
  {
   "cell_type": "code",
   "execution_count": null,
   "metadata": {},
   "outputs": [
    {
     "name": "stdout",
     "output_type": "stream",
     "text": [
      "Groq API key configured successfully!\n",
      "Tavily API key configured successfully!\n"
     ]
    }
   ],
   "source": [
    "import json\n",
    "import os\n",
    "import time\n",
    "from datetime import datetime\n",
    "\n",
    "# API Configuration\n",
    "GROQ_API_KEY = os.getenv(\"GROQ_API_KEY\")\n",
    "TAVILY_API_KEY = os.getenv(\"TAVILY_API_KEY\")\n",
    "\n",
    "# Check if API key is set\n",
    "if not GROQ_API_KEY:\n",
    "    print(\"Please set your Groq production API key\")\n",
    "else:\n",
    "    print(\"Groq API key configured successfully!\")\n",
    "if not TAVILY_API_KEY:\n",
    "    print(\"Please set your Tavily API key\")\n",
    "else:\n",
    "    print(\"Tavily API key configured successfully!\")"
   ]
  },
  {
   "cell_type": "markdown",
   "metadata": {},
   "source": [
    "Select the foundation model to power inference. Let's try OpenAI's flagship open-weight MoE model, [gpt-oss-120b](https://console.groq.com/docs/model/openai/gpt-oss-120b), available via Groq for fast inference."
   ]
  },
  {
   "cell_type": "code",
   "execution_count": 3,
   "metadata": {},
   "outputs": [],
   "source": [
    "# Model configuration\n",
    "MODEL = \"openai/gpt-oss-120b\""
   ]
  },
  {
   "cell_type": "markdown",
   "metadata": {},
   "source": [
    "## Step 1: Set up the Groq client"
   ]
  },
  {
   "cell_type": "code",
   "execution_count": null,
   "metadata": {},
   "outputs": [],
   "source": [
    "from openai import OpenAI\n",
    "\n",
    "# set up Groq MCP client\n",
    "client = OpenAI(base_url=\"https://api.groq.com/api/openai/v1\", api_key=\"GROQ_API_KEY\")"
   ]
  },
  {
   "cell_type": "markdown",
   "metadata": {},
   "source": [
    "## Step 2: Set up Tavily's remote MCP server"
   ]
  },
  {
   "cell_type": "code",
   "execution_count": 13,
   "metadata": {},
   "outputs": [],
   "source": [
    "# set up Tavily MCP server\n",
    "tools = [\n",
    "    {\n",
    "        \"type\": \"mcp\",\n",
    "        \"server_url\": f\"https://mcp.tavily.com/mcp/?tavilyApiKey={TAVILY_API_KEY}\",\n",
    "        \"server_label\": \"tavily\",\n",
    "        \"require_approval\": \"never\",\n",
    "    }\n",
    "]"
   ]
  },
  {
   "cell_type": "markdown",
   "metadata": {},
   "source": [
    "## Step 3: Connect Groq to the Tavily MCP through Groq's OpenAI-compatible Responses API"
   ]
  },
  {
   "cell_type": "code",
   "execution_count": 14,
   "metadata": {},
   "outputs": [],
   "source": [
    "def connect_groq_to_tavily(client, tools, query):\n",
    "    \"\"\"\n",
    "    Connect Groq client to Tavily server through responses API.\n",
    "\n",
    "    This function demonstrates the speed and accuracy of combining:\n",
    "    - Groq's fast LLM inference (500+ tokens/second)\n",
    "    - Tavily MCP server for real-time web retrieval\n",
    "    \"\"\"\n",
    "\n",
    "    start_time = time.time()\n",
    "\n",
    "    # Call Groq with Tavily MCP integration using responses API\n",
    "    response = client.responses.create(\n",
    "        model=MODEL,\n",
    "        input=query,\n",
    "        tools=tools,\n",
    "        stream=False,\n",
    "        temperature=0.1,\n",
    "        top_p=0.4,\n",
    "    )\n",
    "\n",
    "    total_time = time.time() - start_time\n",
    "\n",
    "    # Get response content from responses API\n",
    "    content = (\n",
    "        response.output_text if hasattr(response, \"output_text\") else str(response)\n",
    "    )\n",
    "\n",
    "    # collect executed tools (MCP tool calls)\n",
    "    executed_tools = []\n",
    "\n",
    "    # Extract MCP calls from response if available\n",
    "    if hasattr(response, \"output\") and response.output:\n",
    "        for output_item in response.output:\n",
    "            if hasattr(output_item, \"type\") and output_item.type == \"mcp_call\":\n",
    "                executed_tools.append(\n",
    "                    {\n",
    "                        \"type\": \"mcp\",\n",
    "                        \"arguments\": getattr(output_item, \"arguments\", \"{}\"),\n",
    "                        \"output\": getattr(output_item, \"output\", \"\"),\n",
    "                        \"name\": getattr(output_item, \"name\", \"\"),\n",
    "                        \"server_label\": getattr(output_item, \"server_label\", \"\"),\n",
    "                    }\n",
    "                )\n",
    "    return {\n",
    "        \"content\": content,\n",
    "        \"total_time\": total_time,\n",
    "        \"mcp_calls_performed\": executed_tools,\n",
    "        \"timestamp\": datetime.now().isoformat(),\n",
    "    }"
   ]
  },
  {
   "cell_type": "markdown",
   "metadata": {},
   "source": [
    "Let's implement a helper function to display MCP tool calls and their results. This will provide transparency into which tools were called, their arguments, and outputs."
   ]
  },
  {
   "cell_type": "code",
   "execution_count": 15,
   "metadata": {},
   "outputs": [],
   "source": [
    "def print_mcp_calls(mcp_calls):\n",
    "    executed_tools = mcp_calls[\"mcp_calls_performed\"]\n",
    "    if executed_tools:\n",
    "        print(f\"\\nTAVILY MCP CALLS: Found {len(executed_tools)} tool call(s):\")\n",
    "        print(\"-\" * 50)\n",
    "        for i, tool in enumerate(executed_tools, 1):\n",
    "            print(f\"\\nTool Call #{i}\")\n",
    "            print(f\"   Type: {tool['type']}\")\n",
    "            print(f\"   Tool Name: {tool['name']}\")\n",
    "            print(f\"   Server: {tool['server_label']}\")\n",
    "            try:\n",
    "                if tool[\"arguments\"]:\n",
    "                    args = (\n",
    "                        json.loads(tool[\"arguments\"])\n",
    "                        if isinstance(tool[\"arguments\"], str)\n",
    "                        else tool[\"arguments\"]\n",
    "                    )\n",
    "                    print(f\"   Arguments: {args}\")\n",
    "\n",
    "                # Print model results for transparency\n",
    "                if tool[\"output\"]:\n",
    "                    output_data = (\n",
    "                        json.loads(tool[\"output\"])\n",
    "                        if isinstance(tool[\"output\"], str)\n",
    "                        else tool[\"output\"]\n",
    "                    )\n",
    "                    if isinstance(output_data, dict) and \"models\" in output_data:\n",
    "                        print(f\"   Models found: {len(output_data['models'])}\")\n",
    "                        for j, model in enumerate(\n",
    "                            output_data[\"models\"][:5], 1\n",
    "                        ):  # Show top 5\n",
    "                            model_name = model.get(\"id\", model.get(\"name\", \"Unknown\"))\n",
    "                            print(f\"      {j}. {model_name}\")\n",
    "                        if len(output_data[\"models\"]) > 5:\n",
    "                            print(\n",
    "                                f\"      ... and {len(output_data['models']) - 5} more models\"\n",
    "                            )\n",
    "                    else:\n",
    "                        print(f\"   Output: {str(output_data)[:200]}...\")\n",
    "            except Exception as e:\n",
    "                print(f\"   Could not parse tool data: {e}\")\n",
    "    print(f\"   Total time: {mcp_calls['total_time']:.2f} seconds\")\n",
    "    print(f\"   Tavily MCP calls: {len(mcp_calls['mcp_calls_performed'])}\")"
   ]
  },
  {
   "cell_type": "markdown",
   "metadata": {},
   "source": [
    "# Examples\n",
    "\n",
    "**Note:** Some queries may consume more tokens than others depending on the amount of tool calls the model makes. Please be aware of various rate limits that are tied to your API keys if you happen to run into any rate limit errors. \n",
    "\n",
    "---"
   ]
  },
  {
   "cell_type": "markdown",
   "metadata": {},
   "source": [
    "## Demo 1: AI startup funding announcements"
   ]
  },
  {
   "cell_type": "code",
   "execution_count": 16,
   "metadata": {},
   "outputs": [],
   "source": [
    "from IPython.display import Markdown\n",
    "\n",
    "ai_funding_news = connect_groq_to_tavily(\n",
    "    client,\n",
    "    tools,\n",
    "    \"What are some recent AI startup funding announcements?\",\n",
    ")"
   ]
  },
  {
   "cell_type": "markdown",
   "metadata": {},
   "source": [
    "Let's display the agent's response in markdown format."
   ]
  },
  {
   "cell_type": "code",
   "execution_count": 17,
   "metadata": {},
   "outputs": [
    {
     "data": {
      "text/markdown": [
       "**Recent AI‑startup funding announcements (September 2025 – early October 2025)**  \n",
       "\n",
       "| Date (2025) | Startup | Funding round & amount | Valuation (if disclosed) | Lead / notable investors | Key focus |\n",
       "|-------------|---------|------------------------|--------------------------|--------------------------|-----------|\n",
       "| **Sep 10** | **Cognition AI** (U.S.) | $400 M Series B | $10.2 B | Founders Fund (lead) – also Lux Capital, 8VC, Neo, Elad Gil, Bain Cap Ventures | AI‑coding assistant “Devin” for software development |\n",
       "| **Sep 10** | **Mistral AI** (France) | €1.7 B (~$2 B) Series C | $13.7 B | ASML Holding (lead) – also Nvidia, General Catalyst, Index Ventures | Open‑source generative‑AI models |\n",
       "| **Sep 10** | **Runware** (San Francisco) | $13 M Seed | — | Insight Partners (lead) – Andreessen Horowitz Speedrun Fund, Begin Capital, Zero Prime | Unified API for AI‑generated images, video, audio, text |\n",
       "| **Sep 10** | **Astrus** (Toronto/Waterloo) | $8 M Seed | — | — | Physics‑aware foundation model for analog chip design |\n",
       "| **Sep 10** | **PixVerse AI** (Beijing) | $60 M Series B | — | Alibaba (lead) – Antler | AI‑powered video creation platform (100 M+ users) |\n",
       "| **Sep 10** | **Nuclearn** (U.S.) | $10.5 M Series A | — | Blue Bear Capital (lead) – AZ‑VC, Nucleation Capital, SJF Ventures | AI for nuclear‑reactor operations & predictive maintenance |\n",
       "| **Sep 2** | **Predoc** (NY) | $30 M Series A | — | Base10 Partners (lead) – Northzone, ENIAC Ventures, ERA Ventures | AI‑native platform automating health‑information workflows |\n",
       "| **Sep 2** | **CHARM Therapeutics** (UK) | $80 M Series B | — | NEA & SR One (lead) – OrbiMed, F‑Prime, Khosla Ventures, NVIDIA | AI‑enabled oncology drug (menin inhibitor) |\n",
       "| **Sep 2** | **Leo AI** (Massachusetts) | $9.7 M Seed | — | Flint Capital (lead) – a16z scout, Tech Aviv, Two Lanterns VC, Google VP Yossi Matias | Mechanical‑engineering “copilot” (large‑mechanical‑model) |\n",
       "| **Sep 2** | **Camera Intelligence** (London) | €1.7 M Seed | — | Betaworks, F4 Fund, Next Wave (Flybridge), 7pc Ventures, Digital Catapult | AI‑integrated camera with LLM‑based voice assistant |\n",
       "| **Sep 1** | **LayerX** (Japan) | $100 M Series B | — | Technology Cross Ventures (TCV, lead) – MUFG Bank, JAFCO, Keyrock Capital | AI SaaS for enterprise back‑office automation |\n",
       "| **Sep 16** | **Figure** (San Jose) – AI robotics | $1 B committed capital (Series C) | $39 B post‑money | Parkway Venture Capital (lead) – Nvidia, Intel Capital, LG Tech Ventures, Salesforce, T‑Mobile Ventures, Qualcomm Ventures, Brookfield Asset Mgmt, Macquarie Capital | Humanoid robots for logistics, manufacturing & home use |\n",
       "| **Oct 12** | **EliseAI** (NY) | $250 M Series E | $2.2 B | Andreessen Horowitz (lead) – Bessemer, Sapphire Ventures | Vertical AI for real‑estate & healthcare automation |\n",
       "| **Oct 12** | **Cohere** (Toronto) | $500 M Series D | $6.8 B | Radical Ventures & Inovia Capital (co‑lead) – AMD Ventures, Nvidia, Salesforce Ventures | Enterprise‑focused generative AI (sovereign AI) |\n",
       "| **Oct 12** | **Perplexity AI** (U.S.) | $500 M Series D | $9 B | — (investors not disclosed) | AI‑powered search with citation‑rich answers |\n",
       "| **Oct 12** | **Databricks** (U.S.) | $10 B Series G | $62 B | Thrive Capital (lead) – Andreessen Horowitz, DST Global, GIC, Insight Partners, WCM Investment Mgmt | AI‑enabled data‑analytics platform |\n",
       "| **Oct 12** | **OpenAI** (U.S.) | $8.3 B (new round) | $300 B (potential) | SoftBank (lead, $15‑25 B) – others | Scaling foundational models, safety research, enterprise tools |\n",
       "| **Oct 12** | **Anthropic** (U.S.) | $5 B (potential) | $170 B (rumored) | Lightspeed Ventures (lead) – Amazon (existing) | Claude agentic‑AI system |\n",
       "| **Oct 12** | **Thinking Machines Lab** (U.S.) | $2 B Series B | $10 B | DST Global, Sequoia, General Catalyst (lead) | Agentic‑AI infrastructure & foundation models |\n",
       "| **Oct 12** | **Glean** (U.S.) | $150 M Series F | $7.2 B | Kleiner Perkins, Lightspeed, Sequoia, Coatue, General Catalyst | Enterprise AI agents that surface organizational knowledge |\n",
       "| **Oct 12** | **Lambda Labs** (U.S.) | $480 M Series D | — | — (undisclosed) | GPU cloud for AI training & inference |\n",
       "| **Oct 12** | **Cast AI** (Lithuania) | $108 M Series C | $850 M | Vintage Investment, Cota Capital, Creandum | AI‑driven cloud‑cost optimization |\n",
       "| **Oct 12** | **Nexthop AI** (U.S.) | $110 M Series A | — | Lightspeed Ventures (lead) – Kleiner Perkins, WestBridge, Battery Ventures | AI‑focused networking hardware for hyperscalers |\n",
       "| **Oct 12** | **Valid** (San Francisco) | $5.5 M Seed | — | Canaan Partners | AI‑powered digital‑ad agency automating campaign optimization |\n",
       "| **Oct 12** | **iEduGPT** (Singapore) | $10 M Seed | — | New Wheel Capital, Baywise, SWC Global, K3 Ventures, Welight | Adaptive AI for professional & academic exam prep |\n",
       "| **Oct 12** | **Arise AI** (U.S.) | $100 M Series B | — | Tiger Global (lead) – Samsung Ventures, HH‑CTBC, In‑Q‑Tel, RTX Ventures | Analog in‑memory AI accelerator chips |\n",
       "| **Oct 12** | **Latent Labs** (U.S.) | $50 M Series B | — | Radical Ventures & Sofinnova Partners (co‑lead) | AI‑driven protein‑design platform (ex‑DeepMind AlphaFold) |\n",
       "| **Oct 12** | **CUSP AI** (U.S.) | $100 M Series A | — | Index Ventures, Lightspeed Ventures | AI‑driven materials discovery for climate‑tech |\n",
       "| **Oct 12** | **Mistral AI** (France) – additional raise | Targeting $1 B at $10 B valuation (ongoing) | — | MGX (Abu Dhabi) & others (rumored) | Scaling open‑source LLMs & data‑center build‑out |\n",
       "\n",
       "### Take‑aways\n",
       "* **AI‑related capital is surging:** $118 B raised in the first half of 2025 (≈ 75 % YoY growth), with AI accounting for ~48 % of all global VC money.\n",
       "* **Concentration on a few mega‑rounds:** Eight companies (including OpenAI, Figure, Mistral, Cohere, Databricks, Anthropic, Anduril, and Safe Superintelligence) captured ~62 % of AI funding.\n",
       "* **Investor mix:** Large‑cap tech corporates (Nvidia, Google, Meta, Salesforce, SpaceX), sovereign‑wealth/PE funds (SoftBank, Greenoaks, Brookfield), and top‑tier VCs (Lightspeed, Andreessen Horowitz, Sequoia, Khosla, Accel) are leading the biggest checks.\n",
       "* **Sector breadth:** Funding spans **foundational models**, **AI‑powered developer tools**, **enterprise AI agents**, **AI‑chip & robotics**, **AI‑generated media**, **health‑tech**, **fin‑tech**, **materials & climate‑tech**, and **AI‑driven legal/education platforms**.\n",
       "\n",
       "These announcements illustrate the breadth of the AI boom—both deep‑tech (hardware, chips, robotics) and application‑layer startups are attracting multi‑hundred‑million to multi‑billion‑dollar rounds, pushing valuations into the tens‑of‑billions."
      ],
      "text/plain": [
       "<IPython.core.display.Markdown object>"
      ]
     },
     "execution_count": 17,
     "metadata": {},
     "output_type": "execute_result"
    }
   ],
   "source": [
    "Markdown(ai_funding_news[\"content\"])"
   ]
  },
  {
   "cell_type": "markdown",
   "metadata": {},
   "source": [
    "Let's examine the agent's intermediate steps, including how it calls different tools and configures tool arguments such as `search_depth`, `time_range`, `max_results`, and more."
   ]
  },
  {
   "cell_type": "code",
   "execution_count": 18,
   "metadata": {},
   "outputs": [
    {
     "name": "stdout",
     "output_type": "stream",
     "text": [
      "\n",
      "TAVILY MCP CALLS: Found 2 tool call(s):\n",
      "--------------------------------------------------\n",
      "\n",
      "Tool Call #1\n",
      "   Type: mcp\n",
      "   Tool Name: tavily_search\n",
      "   Server: tavily\n",
      "   Arguments: {'max_results': 10, 'query': 'AI startup funding announcements September 2025', 'search_depth': 'advanced', 'time_range': 'month'}\n",
      "   Output: {'query': 'AI startup funding announcements September 2025', 'follow_up_questions': None, 'answer': None, 'images': [], 'results': [{'url': 'https://intellizence.com/insights/startup-funding/weekly-to...\n",
      "\n",
      "Tool Call #2\n",
      "   Type: mcp\n",
      "   Tool Name: tavily_extract\n",
      "   Server: tavily\n",
      "   Arguments: {'format': 'markdown', 'urls': ['https://theaiworld.org/news/ai-startups-secure-major-funding-in-september-2025-signaling-global-innovation-surge', 'https://www.crescendo.ai/news/latest-vc-investment-deals-in-ai-startups', 'https://news.crunchbase.com/venture/big-dollar-ai-investors-2025-softbank/', 'https://www.reuters.com/business/robotics-startup-figure-valued-39-billion-latest-funding-round-2025-09-16/']}\n",
      "   Output: {'results': [{'url': 'https://theaiworld.org/news/ai-startups-secure-major-funding-in-september-2025-signaling-global-innovation-surge', 'raw_content': '[## The AI World](/)\\n\\n# AI Startups Secure Ma...\n",
      "   Total time: 13.48 seconds\n",
      "   Tavily MCP calls: 2\n"
     ]
    }
   ],
   "source": [
    "print_mcp_calls(ai_funding_news)"
   ]
  },
  {
   "cell_type": "markdown",
   "metadata": {},
   "source": [
    "## Demo 2: Product Search\n"
   ]
  },
  {
   "cell_type": "code",
   "execution_count": 20,
   "metadata": {},
   "outputs": [],
   "source": [
    "product_search = connect_groq_to_tavily(\n",
    "    client,\n",
    "    tools,\n",
    "    \"Find the iphone models currently available on apple.com\",\n",
    ")"
   ]
  },
  {
   "cell_type": "markdown",
   "metadata": {},
   "source": [
    "Let's display the agent's response in markdown format."
   ]
  },
  {
   "cell_type": "code",
   "execution_count": 21,
   "metadata": {},
   "outputs": [
    {
     "data": {
      "text/markdown": [
       "**iPhone models that are currently available for purchase on Apple .com (global store – as of Sept 2025)**  \n",
       "\n",
       "| Series | Models that can be bought today | Key notes |\n",
       "|--------|--------------------------------|-----------|\n",
       "| **iPhone 16 series** | • iPhone 16 Pro  <br>• iPhone 16 Pro Max  <br>• iPhone 16  <br>• iPhone 16 Plus  <br>• iPhone 16e (the “iPhone Air”) | The newest lineup launched in 2025. All five models appear on Apple’s *Compare iPhone* page with active **Buy** links 【0†L1-L9】. |\n",
       "| **iPhone 15 series** | • iPhone 15 Pro  <br>• iPhone 15 Pro Max  <br>• iPhone 15  <br>• iPhone 15 Plus | Still sold alongside the 16 series; they are listed on the same comparison page and have “Buy” buttons 【0†L1-L9】. |\n",
       "| **iPhone 14 series** | • iPhone 14 Pro  <br>• iPhone 14 Pro Max  <br>• iPhone 14  <br>• iPhone 14 Plus | Part of Apple’s current catalog (shown in the full model list on the compare page) 【0†L1-L9】. |\n",
       "| **iPhone 13 series** | • iPhone 13 Pro  <br>• iPhone 13 Pro Max  <br>• iPhone 13 mini  <br>• iPhone 13 | Still listed on the comparison page, indicating they remain available for purchase 【0†L1-L9】. |\n",
       "| **iPhone SE** | • iPhone SE (3rd generation) | The latest SE model is included in the comparison list and is sold on Apple.com 【0†L1-L9】. |\n",
       "\n",
       "> **What the source shows**  \n",
       "> The Apple “Compare iPhone models” page (e.g., https://www.apple.com/in/iphone/compare/) lists **all** iPhone models that Apple currently sells. The page’s model list (excerpted below) includes the nine entries above, plus older generations that are shown for comparison only. The presence of active “Buy” links for the 16‑, 15‑, 14‑, 13‑series and SE (3rd gen) confirms that these are the models you can actually order today.  \n",
       "\n",
       "*Excerpt from the compare page (showing the model list):*  \n",
       "\n",
       "```\n",
       "iPhone 16 Pro\n",
       "iPhone 16 Pro Max\n",
       "iPhone 16\n",
       "iPhone 16 Plus\n",
       "iPhone 16e\n",
       "iPhone 15 Pro\n",
       "iPhone 15 Pro Max\n",
       "iPhone 15\n",
       "iPhone 15 Plus\n",
       "iPhone 14 Pro\n",
       "iPhone 14 Pro Max\n",
       "iPhone 14\n",
       "iPhone 14 Plus\n",
       "iPhone 13 Pro\n",
       "iPhone 13 Pro Max\n",
       "iPhone 13 mini\n",
       "iPhone 13\n",
       "iPhone SE (3rd generation)\n",
       "… (older models follow)\n",
       "```  \n",
       "\n",
       "**In short:** the current purchasable iPhone lineup on Apple’s website consists of the iPhone 16 family, the iPhone 15 family, the iPhone 14 family, the iPhone 13 family, and the latest iPhone SE (3rd gen)."
      ],
      "text/plain": [
       "<IPython.core.display.Markdown object>"
      ]
     },
     "execution_count": 21,
     "metadata": {},
     "output_type": "execute_result"
    }
   ],
   "source": [
    "Markdown(product_search[\"content\"])"
   ]
  },
  {
   "cell_type": "markdown",
   "metadata": {},
   "source": [
    "Let's examine the agent's intermediate steps."
   ]
  },
  {
   "cell_type": "code",
   "execution_count": 22,
   "metadata": {},
   "outputs": [
    {
     "name": "stdout",
     "output_type": "stream",
     "text": [
      "\n",
      "TAVILY MCP CALLS: Found 3 tool call(s):\n",
      "--------------------------------------------------\n",
      "\n",
      "Tool Call #1\n",
      "   Type: mcp\n",
      "   Tool Name: tavily_search\n",
      "   Server: tavily\n",
      "   Arguments: {'max_results': 10, 'query': 'iPhone models currently available on apple.com', 'search_depth': 'basic', 'top_k': 10, 'topic': 'general'}\n",
      "   Could not parse tool data: Expecting value: line 1 column 1 (char 0)\n",
      "\n",
      "Tool Call #2\n",
      "   Type: mcp\n",
      "   Tool Name: tavily_search\n",
      "   Server: tavily\n",
      "   Arguments: {'max_results': 10, 'query': 'iPhone models currently available on apple.com', 'search_depth': 'basic', 'topic': 'general'}\n",
      "   Output: {'query': 'iPhone models currently available on apple.com', 'follow_up_questions': None, 'answer': None, 'images': [], 'results': [{'url': 'https://www.apple.com/in/iphone/compare/', 'title': 'Compare...\n",
      "\n",
      "Tool Call #3\n",
      "   Type: mcp\n",
      "   Tool Name: tavily_extract\n",
      "   Server: tavily\n",
      "   Arguments: {'extract_depth': 'basic', 'format': 'markdown', 'urls': ['https://www.apple.com/in/iphone/compare/']}\n",
      "   Output: {'results': [{'url': 'https://www.apple.com/in/iphone/compare/', 'raw_content': 'Get iPhone 16 from just ₹12483.00/mo. for up to 6 mo.[‡](#footnote*-1) with No Cost EMI and instant cashback. [Buy](/in...\n",
      "   Total time: 11.66 seconds\n",
      "   Tavily MCP calls: 3\n"
     ]
    }
   ],
   "source": [
    "print_mcp_calls(product_search)"
   ]
  },
  {
   "cell_type": "markdown",
   "metadata": {},
   "source": [
    "## Demo 3: Try it Yourself\n",
    "\n",
    "Now it's your turn! Replace the query with some real time information you want to discover.\n"
   ]
  },
  {
   "cell_type": "code",
   "execution_count": null,
   "metadata": {},
   "outputs": [],
   "source": [
    "your_query = \"Your Query Here\"  # Change this!\n",
    "\n",
    "custom_response = connect_groq_to_tavily(client, tools, your_query)"
   ]
  },
  {
   "cell_type": "code",
   "execution_count": null,
   "metadata": {},
   "outputs": [],
   "source": [
    "Markdown(custom_response[\"content\"])"
   ]
  },
  {
   "cell_type": "code",
   "execution_count": null,
   "metadata": {},
   "outputs": [],
   "source": [
    "print_mcp_calls(custom_response)"
   ]
  }
 ],
 "metadata": {
  "kernelspec": {
   "display_name": ".venv",
   "language": "python",
   "name": "python3"
  },
  "language_info": {
   "codemirror_mode": {
    "name": "ipython",
    "version": 3
   },
   "file_extension": ".py",
   "mimetype": "text/x-python",
   "name": "python",
   "nbconvert_exporter": "python",
   "pygments_lexer": "ipython3",
   "version": "3.11.6"
  }
 },
 "nbformat": 4,
 "nbformat_minor": 2
}
