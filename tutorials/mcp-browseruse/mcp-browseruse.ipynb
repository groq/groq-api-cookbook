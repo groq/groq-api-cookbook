{
 "cells": [
  {
   "cell_type": "markdown",
   "metadata": {},
   "source": [
    "# Groq + Browser Use MCP: Intelligent Product Comparison\n",
    "**The Problem:** Comparing products online means opening multiple tabs, checking various retailers, and manually tracking prices and features across different sources.\n",
    "\n",
    "**The Solution:** This tutorial shows how to combine Groq's fast inference with Browser Use's Model Context Protocol (MCP) server to automatically research and compare products across multiple websites in real-time.\n",
    "\n",
    "## What is Browser Use MCP?\n",
    "Browser Use MCP enables AI models to autonomously browse websites, extract information, and interact with web pages. Think of it as giving your model the ability to:\n",
    "- Navigate websites and click links\n",
    "- Extract data from multiple sources\n",
    "- Compare information across retailers\n",
    "\n",
    "You can learn more about Browser Use at [browser-use.com](https://browser-use.com).\n",
    "\n",
    "## Prerequisites"
   ]
  },
  {
   "cell_type": "code",
   "execution_count": 12,
   "metadata": {},
   "outputs": [
    {
     "name": "stdout",
     "output_type": "stream",
     "text": [
      "Requirement already satisfied: groq in /Users/sauravpanda/opt/anaconda3/envs/buse/lib/python3.11/site-packages (0.30.0)\n",
      "Requirement already satisfied: python-dotenv in /Users/sauravpanda/opt/anaconda3/envs/buse/lib/python3.11/site-packages (1.1.0)\n",
      "Requirement already satisfied: anyio<5,>=3.5.0 in /Users/sauravpanda/opt/anaconda3/envs/buse/lib/python3.11/site-packages (from groq) (4.9.0)\n",
      "Requirement already satisfied: distro<2,>=1.7.0 in /Users/sauravpanda/opt/anaconda3/envs/buse/lib/python3.11/site-packages (from groq) (1.9.0)\n",
      "Requirement already satisfied: httpx<1,>=0.23.0 in /Users/sauravpanda/opt/anaconda3/envs/buse/lib/python3.11/site-packages (from groq) (0.27.0)\n",
      "Requirement already satisfied: pydantic<3,>=1.9.0 in /Users/sauravpanda/opt/anaconda3/envs/buse/lib/python3.11/site-packages (from groq) (2.11.7)\n",
      "Requirement already satisfied: sniffio in /Users/sauravpanda/opt/anaconda3/envs/buse/lib/python3.11/site-packages (from groq) (1.3.1)\n",
      "Requirement already satisfied: typing-extensions<5,>=4.10 in /Users/sauravpanda/opt/anaconda3/envs/buse/lib/python3.11/site-packages (from groq) (4.13.2)\n",
      "Requirement already satisfied: idna>=2.8 in /Users/sauravpanda/opt/anaconda3/envs/buse/lib/python3.11/site-packages (from anyio<5,>=3.5.0->groq) (3.10)\n",
      "Requirement already satisfied: certifi in /Users/sauravpanda/opt/anaconda3/envs/buse/lib/python3.11/site-packages (from httpx<1,>=0.23.0->groq) (2025.4.26)\n",
      "Requirement already satisfied: httpcore==1.* in /Users/sauravpanda/opt/anaconda3/envs/buse/lib/python3.11/site-packages (from httpx<1,>=0.23.0->groq) (1.0.9)\n",
      "Requirement already satisfied: h11>=0.16 in /Users/sauravpanda/opt/anaconda3/envs/buse/lib/python3.11/site-packages (from httpcore==1.*->httpx<1,>=0.23.0->groq) (0.16.0)\n",
      "Requirement already satisfied: annotated-types>=0.6.0 in /Users/sauravpanda/opt/anaconda3/envs/buse/lib/python3.11/site-packages (from pydantic<3,>=1.9.0->groq) (0.7.0)\n",
      "Requirement already satisfied: pydantic-core==2.33.2 in /Users/sauravpanda/opt/anaconda3/envs/buse/lib/python3.11/site-packages (from pydantic<3,>=1.9.0->groq) (2.33.2)\n",
      "Requirement already satisfied: typing-inspection>=0.4.0 in /Users/sauravpanda/opt/anaconda3/envs/buse/lib/python3.11/site-packages (from pydantic<3,>=1.9.0->groq) (0.4.1)\n"
     ]
    }
   ],
   "source": [
    "# install dependencies\n",
    "!pip install groq python-dotenv"
   ]
  },
  {
   "cell_type": "markdown",
   "metadata": {},
   "source": [
    "## Setup and Configuration"
   ]
  },
  {
   "cell_type": "code",
   "execution_count": 13,
   "metadata": {},
   "outputs": [],
   "source": [
    "#!/usr/bin/env python3\n",
    "\"\"\"\n",
    "Groq + Browser Use MCP Demo\n",
    "\"\"\"\n",
    "\n",
    "import json\n",
    "import os\n",
    "import time\n",
    "from datetime import datetime\n",
    "\n",
    "from groq import Groq"
   ]
  },
  {
   "cell_type": "markdown",
   "metadata": {},
   "source": [
    "# Set API Keys\n",
    "\n",
    "Here we will set the API keys for the Groq and Browser Use APIs via either environment variables or a userdata object in Google Colab.\n",
    "\n",
    "- You can get your Groq API key from [here](https://console.groq.com/keys)\n",
    "- You can get your Browser Use API key from [here](https://browser-use.com)"
   ]
  },
  {
   "cell_type": "code",
   "execution_count": 14,
   "metadata": {},
   "outputs": [
    {
     "name": "stdout",
     "output_type": "stream",
     "text": [
      "Groq API key and Browser Use API key configured successfully!\n"
     ]
    }
   ],
   "source": [
    "try:\n",
    "    from google.colab import userdata\n",
    "\n",
    "    GROQ_API_KEY = userdata.get(\"GROQ_API_KEY\")\n",
    "    BROWSER_USE_API_KEY = userdata.get(\"BROWSER_USE_API_KEY\")\n",
    "except ImportError:\n",
    "    # Try loading from .env file first, then fall back to environment\n",
    "    try:\n",
    "        from dotenv import load_dotenv\n",
    "        load_dotenv()\n",
    "    except ImportError:\n",
    "        pass  # dotenv not available, will use os.getenv directly\n",
    "    \n",
    "    # Get from environment (either from .env or shell environment)\n",
    "    GROQ_API_KEY = os.getenv(\"GROQ_API_KEY\")\n",
    "    BROWSER_USE_API_KEY = os.getenv(\"BROWSER_USE_API_KEY\")\n",
    "\n",
    "# Check if API keys are set\n",
    "if not GROQ_API_KEY:\n",
    "    print(\"Please set your Groq API key\")\n",
    "elif not BROWSER_USE_API_KEY:\n",
    "    print(\"Please set your Browser Use API key\")\n",
    "else:\n",
    "    print(\"Groq API key and Browser Use API key configured successfully!\")\n",
    "\n",
    "# Model configuration\n",
    "MODEL = \"openai/gpt-oss-120b\""
   ]
  },
  {
   "cell_type": "code",
   "execution_count": 16,
   "metadata": {},
   "outputs": [],
   "source": [
    "def browser_research(query):\n",
    "    \"\"\"\n",
    "    Research products using Groq + Browser Use MCP\n",
    "\n",
    "    This function demonstrates the speed and accuracy of combining:\n",
    "    - Groq's fast LLM inference (500+ tokens/second)\n",
    "    - Browser Use MCP server for real-time web browsing\n",
    "    \"\"\"\n",
    "\n",
    "    if not GROQ_API_KEY:\n",
    "        print(\"Please set your Groq API key first!\")\n",
    "        return\n",
    "\n",
    "    client = Groq(api_key=GROQ_API_KEY)\n",
    "\n",
    "    print(f\"{query}\")\n",
    "\n",
    "    start_time = time.time()\n",
    "\n",
    "    # Configure MCP tools using Browser Use server\n",
    "    tools = [\n",
    "        {\n",
    "            \"type\": \"mcp\",\n",
    "            \"server_url\": \"https://api.browser-use.com/mcp/\",\n",
    "            \"server_label\": \"browseruse\",\n",
    "            \"headers\": {\n",
    "                \"X-Browser-Use-API-Key\": BROWSER_USE_API_KEY\n",
    "            }\n",
    "        }\n",
    "    ]\n",
    "\n",
    "    try:\n",
    "        # Call Groq with Browser Use MCP integration - use streaming to avoid timeouts\n",
    "        completion = client.chat.completions.create(\n",
    "            model=MODEL,\n",
    "            messages=[\n",
    "                {\n",
    "                    \"role\": \"system\",\n",
    "                    \"content\": \"You are a helpful research assistant. Use browser tools to find accurate, up-to-date information. Keep tasks focused and simple - check one site at a time if needed.\"\n",
    "                },\n",
    "                {\n",
    "                    \"role\": \"user\",\n",
    "                    \"content\": query\n",
    "                }\n",
    "            ],\n",
    "            temperature=0.3,\n",
    "            max_completion_tokens=4096,\n",
    "            top_p=0.8,\n",
    "            stream=True,  # Use streaming to avoid timeouts\n",
    "            tools=tools\n",
    "        )\n",
    "\n",
    "        print(\"=\" * 80)\n",
    "        print(\"BROWSER RESEARCH RESULTS\")\n",
    "        print(\"=\" * 80)\n",
    "\n",
    "        # Stream the response to avoid timeouts\n",
    "        full_response = \"\"\n",
    "        for chunk in completion:\n",
    "            if chunk.choices[0].delta.content:\n",
    "                content = chunk.choices[0].delta.content\n",
    "                print(content, end=\"\")\n",
    "                full_response += content\n",
    "\n",
    "        total_time = time.time() - start_time\n",
    "        print(\"\\\\n\" + \"=\" * 80)\n",
    "\n",
    "        # Performance summary\n",
    "        print(\"PERFORMANCE SUMMARY\")\n",
    "        print(f\"   Total time: {total_time:.2f} seconds\")\n",
    "        print(f\"   Response length: {len(full_response)} characters\")\n",
    "        print(\"Note: Response time includes real-time web browsing and data extraction across multiple sites - this is normal for autonomous web agent interactions!\")\n",
    "\n",
    "        return {\n",
    "            \"content\": full_response,\n",
    "            \"total_time\": total_time,\n",
    "            \"timestamp\": datetime.now().isoformat(),\n",
    "        }\n",
    "\n",
    "    except Exception as e:\n",
    "        total_time = time.time() - start_time\n",
    "        error_msg = f\"Browser research failed after {total_time:.2f} seconds: {str(e)}\"\n",
    "        print(f\"\\\\n❌ {error_msg}\")\n",
    "        \n",
    "        return {\n",
    "            \"content\": error_msg,\n",
    "            \"total_time\": total_time,\n",
    "            \"timestamp\": datetime.now().isoformat(),\n",
    "            \"error\": True\n",
    "        }"
   ]
  },
  {
   "cell_type": "markdown",
   "metadata": {},
   "source": [
    "## Demo 1: iPhone Comparison Research\n",
    "\n",
    "Let's start by comparing iPhone models to see the speed and accuracy in action.\n",
    "\n",
    "**What to watch for:**\n",
    "- **Speed**: Response time with Groq + Browser Use MCP\n",
    "- **Real-time data**: Current pricing and availability\n",
    "- **Multi-source**: Information from Apple, carriers, and retailers\n",
    "- **Intelligent analysis**: AI-powered comparison and recommendations"
   ]
  },
  {
   "cell_type": "code",
   "execution_count": 17,
   "metadata": {
    "scrolled": true
   },
   "outputs": [
    {
     "name": "stdout",
     "output_type": "stream",
     "text": [
      "Whats the current price of iphone 15 pro on amazon and best buy?\n",
      "================================================================================\n",
      "BROWSER RESEARCH RESULTS\n",
      "================================================================================\n",
      "**iPhone 15 Pro (128 GB) – Approximate U.S. pricing (as of September 2025)**  \n",
      "\n",
      "| Retailer | Listed price (USD) | Notes |\n",
      "|----------|-------------------|-------|\n",
      "| **Amazon** | **$999** (often listed at the Apple‑set MSRP) – occasional “Deal of the Day” or “Lightning Deal” can bring it down to **$979–$989**. | Prices can fluctuate quickly; check the product page for any limited‑time promotions, bundle offers, or refurbished options. |\n",
      "| **Best Buy** | **$999** (standard MSRP) – Best Buy frequently runs “Open‑Box” or “Clearance” specials that drop the price to **$979–$989**. | Best Buy also offers a “Free Shipping” incentive and the option to add AppleCare+ at checkout. |\n",
      "\n",
      "### How to verify the current price yourself\n",
      "1. **Amazon** – Go to [amazon.com](https://www.amazon.com) and search for **“iPhone 15 Pro 128 GB”**. The price shown on the main product card (or the “Buy New” button) is the current retail price.  \n",
      "2. **Best Buy** – Visit [bestbuy.com](https://www.bestbuy.com) and search for **“iPhone 15 Pro 128 GB”**. The price displayed on the product detail page reflects the current Best Buy listing.\n",
      "\n",
      "> **Quick tip:** Both sites often list a “Deal” badge when the price is below the standard $999 MSRP. If you see a lower price, double‑check that the listing is for the **128 GB** model (not a different storage size) and that it’s being sold by the retailer (not a third‑party seller) to avoid unexpected shipping or warranty issues.  \n",
      "\n",
      "If you need the exact price at the moment you’re reading this, a quick visit to the two product pages will give you the most up‑to‑date figure, as prices can change with flash sales, holiday promotions, or inventory clear‑outs.\\n================================================================================\n",
      "PERFORMANCE SUMMARY\n",
      "   Total time: 159.09 seconds\n",
      "   Response length: 1684 characters\n",
      "Note: Response time includes real-time web browsing and data extraction across multiple sites - this is normal for autonomous web agent interactions!\n"
     ]
    }
   ],
   "source": [
    "# Compare iPhone models with current pricing and availability\n",
    "result_iphone = browser_research(\n",
    "    \"Whats the current price of iphone 15 pro on amazon and best buy?\"\n",
    ")"
   ]
  },
  {
   "cell_type": "markdown",
   "metadata": {},
   "source": [
    "## Demo 2: Laptop Shopping Research"
   ]
  },
  {
   "cell_type": "code",
   "execution_count": 18,
   "metadata": {},
   "outputs": [
    {
     "name": "stdout",
     "output_type": "stream",
     "text": [
      "Find the top 3 laptops under $1000 by checking Amazon and Best Buy. Compare specs, prices, and customer reviews.\n",
      "================================================================================\n",
      "BROWSER RESEARCH RESULTS\n",
      "================================================================================\n",
      "**Top 3 Laptops under $1,000 (Amazon vs. Best Buy)**  \n",
      "\n",
      "| Rank | Store | Model | Price* | Rating (★) | # Reviews | Processor | RAM | Storage | Screen | Notable Features |\n",
      "|------|-------|-------|--------|------------|-----------|-----------|-----|---------|--------|-------------------|\n",
      "| **1** | **Amazon** | **HP 15 Laptop** (incl. 1 yr Office 365) | **$349.99** (typical $379.99) | **4.8** | 249 | – (likely Intel i5/i7, not listed) | **16 GB** LPDDR4X | **1 TB** SSD | **15.6″** Full‑HD IPS | Office 365 bundle, back‑lit keyboard, fingerprint reader |\n",
      "| **2** | **Amazon** | **Samsung Galaxy Book4** | **$759.00** | **4.9** | 36 | **Intel Core i7‑150U** (10‑core, 12‑thread, 1.2‑5.4 GHz) | **16 GB** LPDDR4X (6000 MHz) | **1 TB** NVMe SSD | **15.6″** Full‑HD LED | Windows 11 Pro, integrated Intel graphics, up to 15 h battery |\n",
      "| **3** | **Amazon** | **NIMO 17.3″ Light‑Gaming Laptop** | **$749.98** (list $999.99) | **4.8** | 68 | **AMD Ryzen 7** (mobile) | **32 GB** DDR5 | **1 TB** SSD | **17.3″** (likely Full‑HD) | Light‑gaming focus, high‑refresh display (if advertised) |\n",
      "| **1** | **Best Buy** | **Lenovo IdeaPad 1 15.6″ Full‑HD Touchscreen** | **$329.99** | **4.7** | 683 | **AMD Ryzen 5 7520U** | **8 GB** | **256 GB** SSD | **15.6″** Full‑HD | Touchscreen, thin‑and‑light chassis |\n",
      "| **2** | **Best Buy** | **Samsung Galaxy Book4 Edge – Copilot+ PC** | **$499.99** | **4.7** | 11 | **Qualcomm Snapdragon X** (ARM) | **16 GB** | **512 GB** SSD | **15.6″** LED | Windows 11 Copilot integration, ultra‑portable |\n",
      "| **3** | **Best Buy** | **Lenovo IdeaPad Slim 3i 15.6″ Full‑HD** | **$249.99** | – (review count not shown) | – | **Intel Core i3‑N305** | **8 GB** | **128 GB** UFS | **15.6″** Full‑HD | Budget‑friendly, compact design |\n",
      "\n",
      "\\* Prices are current at the time of the search (Sept 2025) and may vary with promotions.\n",
      "\n",
      "### Quick Takeaways  \n",
      "\n",
      "| Category | Amazon Highlights | Best Buy Highlights |\n",
      "|----------|-------------------|---------------------|\n",
      "| **Best Value (price / specs)** | HP 15 offers a **large 1 TB SSD** and **16 GB RAM** for **$350**, a solid all‑rounder for productivity. | Lenovo IdeaPad Slim 3i is the **cheapest** at **$250** with an **i3** CPU and **8 GB RAM** – good for basic tasks. |\n",
      "| **Performance‑Focused** | Samsung Galaxy Book4 (i7, 16 GB, 1 TB) and NIMO gaming laptop (Ryzen 7, 32 GB) deliver **high‑end CPU & RAM** for demanding work or light gaming. | Lenovo IdeaPad 1 (Ryzen 5, 8 GB) offers decent performance for everyday use at a lower price. |\n",
      "| **Battery / Portability** | Galaxy Book4 advertises **up to 15 h** battery life and a **light chassis**. | IdeaPad 1 is thin & light with a touchscreen, good for on‑the‑go. |\n",
      "| **Customer Sentiment** | Samsung Galaxy Book4 leads with **4.9★** (though only 36 reviews), HP 15 and NIMO both sit at **4.8★** with solid review counts. | IdeaPad 1 enjoys the highest review volume (**683**) and a solid **4.7★** rating, indicating broad satisfaction. |\n",
      "| **Unique Features** | – HP 15 includes a **1‑yr Office 365** subscription.<br>– Samsung Book4 Edge integrates **Windows 11 Copilot** (ARM).<br>– NIMO offers a **17.3″** larger display for a more immersive experience. | – Lenovo IdeaPad 1 has a **touchscreen**.<br>– Samsung Book4 Edge runs on **Snapdragon**, offering long battery life and LTE/5G options (if configured). |\n",
      "\n",
      "### Recommendation Guidance  \n",
      "\n",
      "| Need | Suggested Model |\n",
      "|------|-----------------|\n",
      "| **Best overall performance for under $1,000** | **Samsung Galaxy Book4 (Amazon)** – i7, 16 GB, 1 TB SSD, excellent battery. |\n",
      "| **Best value for storage & RAM** | **HP 15 (Amazon)** – 16 GB RAM + 1 TB SSD at a very competitive price. |\n",
      "| **Light‑gaming or larger screen** | **NIMO 17.3″ Light‑Gaming (Amazon)** – Ryzen 7, 32 GB RAM, 17.3″ display. |\n",
      "| **Budget‑friendly everyday laptop** | **Lenovo IdeaPad Slim 3i (Best Buy)** – $250, i3, 8 GB RAM – sufficient for web, office, streaming. |\n",
      "| **Touchscreen & portability** | **Lenovo IdeaPad 1 (Best Buy)** – $330, touchscreen, good review count. |\n",
      "| **ARM‑based ultra‑portable with AI features** | **Samsung Galaxy Book4 Edge (Best Buy)** – Snapdragon, 16 GB, Copilot integration. |\n",
      "\n",
      "**Bottom line:**  \n",
      "- **Amazon** offers higher‑end specs (i7, Ryzen 7, large RAM/storage) with strong ratings, making it the go‑to for performance‑oriented buyers.  \n",
      "- **Best Buy** provides a broader range of budget‑friendly options and a few niche models (touchscreen, ARM‑based) with solid customer feedback, ideal for cost‑conscious shoppers or those seeking specific form‑factors.  \n",
      "\n",
      "Feel free to let me know if you’d like deeper specs on any model (e.g., GPU details, exact screen resolution, warranty info) or assistance with purchasing links.\\n================================================================================\n",
      "PERFORMANCE SUMMARY\n",
      "   Total time: 390.23 seconds\n",
      "   Response length: 4701 characters\n",
      "Note: Response time includes real-time web browsing and data extraction across multiple sites - this is normal for autonomous web agent interactions!\n"
     ]
    }
   ],
   "source": [
    "result_laptops = browser_research(\n",
    "    \"Find the top 3 laptops under $1000 by checking Amazon and Best Buy. Compare specs, prices, and customer reviews.\"\n",
    ")"
   ]
  },
  {
   "cell_type": "markdown",
   "metadata": {},
   "source": [
    "\n",
    "You just witnessed MCP in action - where models autonomously browse websites and extract information during generation. The model doesn't just generate text; it actively navigates web pages, compares prices, and analyzes product information across multiple sources.\n",
    "\n",
    "The Browser Use integration here demonstrates autonomous web browsing. MCP works with any tools - APIs, databases, file systems. Ready to build AI that can research and act on the web? We are too."
   ]
  },
  {
   "cell_type": "code",
   "execution_count": null,
   "metadata": {},
   "outputs": [],
   "source": []
  }
 ],
 "metadata": {
  "kernelspec": {
   "display_name": "Python 3 (ipykernel)",
   "language": "python",
   "name": "python3"
  },
  "language_info": {
   "codemirror_mode": {
    "name": "ipython",
    "version": 3
   },
   "file_extension": ".py",
   "mimetype": "text/x-python",
   "name": "python",
   "nbconvert_exporter": "python",
   "pygments_lexer": "ipython3",
   "version": "3.11.11"
  }
 },
 "nbformat": 4,
 "nbformat_minor": 4
}
