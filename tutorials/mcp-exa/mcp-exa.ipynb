{
  "cells": [
    {
      "cell_type": "markdown",
      "metadata": {},
      "source": [
        "# Groq + Exa MCP: Real-Time Web Search\n",
        "This notebook shows Python developers how to connect Groq with Exa MCP's web search tools. Exa MCP helps AI models get current information from the internet. Exa provides smart web search that can find relevant content.\n",
        "\n",
        "We will do this in three simple steps:\n",
        "1. Set up **Groq client** for fast AI responses.\n",
        "2. Set up **Exa MCP server** for web search and content crawling.\n",
        "3. **Connect them together** using the Responses API.\n",
        "\n",
        "---\n"
      ]
    },
    {
      "cell_type": "markdown",
      "metadata": {},
      "source": [
        "## Getting Started\n",
        "\n",
        "Follow these steps to set up:\n",
        "1. **Sign up** for Exa at [dashboard.exa.ai](https://dashboard.exa.ai/api-keys) to get your free API key.\n",
        "2. **Sign up** for Groq at [console.groq.com](https://console.groq.com/keys) to get your free API key.\n",
        "3. **Copy your API keys** from your Exa and Groq account dashboards.\n",
        "4. **Paste your API keys** into the cell below and run the cell.\n"
      ]
    },
    {
      "cell_type": "code",
      "execution_count": null,
      "metadata": {},
      "outputs": [],
      "source": [
        "# To export your API keys into a .env file, run the following cell (replace with your actual keys):\n",
        "!echo \"EXA_API_KEY=<your-exa-api-key>\" >> .env\n",
        "!echo \"GROQ_API_KEY=<your-groq-api-key>\" >> .env\n"
      ]
    },
    {
      "cell_type": "code",
      "execution_count": null,
      "metadata": {},
      "outputs": [],
      "source": [
        "import json\n",
        "import os\n",
        "import time\n",
        "from datetime import datetime\n",
        "\n",
        "# API Configuration\n",
        "GROQ_API_KEY = os.getenv(\"GROQ_API_KEY\")\n",
        "EXA_API_KEY = os.getenv(\"EXA_API_KEY\")\n",
        "\n",
        "# Check if API keys are set\n",
        "if not GROQ_API_KEY:\n",
        "    print(\"Please set your Groq production API key\")\n",
        "else:\n",
        "    print(\"Groq API key configured successfully!\")\n",
        "if not EXA_API_KEY:\n",
        "    print(\"Please set your Exa API key\")\n",
        "else:\n",
        "    print(\"Exa API key configured successfully!\")\n"
      ]
    },
    {
      "cell_type": "markdown",
      "metadata": {},
      "source": [
        "Choose the AI model for our responses. We'll use OpenAI's [gpt-oss-120b](https://console.groq.com/docs/model/openai/gpt-oss-120b) model, which runs very fast on Groq.\n"
      ]
    },
    {
      "cell_type": "code",
      "execution_count": null,
      "metadata": {},
      "outputs": [],
      "source": [
        "# Model configuration\n",
        "MODEL = \"openai/gpt-oss-120b\"\n"
      ]
    },
    {
      "cell_type": "markdown",
      "metadata": {},
      "source": [
        "## Step 1: Set up the Groq client\n"
      ]
    },
    {
      "cell_type": "code",
      "execution_count": null,
      "metadata": {},
      "outputs": [],
      "source": [
        "from openai import OpenAI\n",
        "\n",
        "# set up Groq MCP client\n",
        "client = OpenAI(base_url=\"https://api.groq.com/api/openai/v1\", api_key=GROQ_API_KEY)\n"
      ]
    },
    {
      "cell_type": "markdown",
      "metadata": {},
      "source": [
        "## Step 2: Set up Exa's remote MCP server\n"
      ]
    },
    {
      "cell_type": "code",
      "execution_count": null,
      "metadata": {},
      "outputs": [],
      "source": [
        "# set up Exa MCP server\n",
        "tools = [\n",
        "    {\n",
        "        \"type\": \"mcp\",\n",
        "        \"server_url\": f\"https://mcp.exa.ai/mcp?exaApiKey={EXA_API_KEY}\",\n",
        "        \"server_label\": \"exa\",\n",
        "        \"require_approval\": \"never\",\n",
        "    }\n",
        "]\n"
      ]
    },
    {
      "cell_type": "markdown",
      "metadata": {},
      "source": [
        "## Step 3: Connect Groq to the Exa MCP through Groq's OpenAI-compatible Responses API\n"
      ]
    },
    {
      "cell_type": "code",
      "execution_count": null,
      "metadata": {},
      "outputs": [],
      "source": [
        "def connect_groq_to_exa(client, tools, query):\n",
        "    \"\"\"\n",
        "    Connect Groq to Exa for web search.\n",
        "\n",
        "    This function shows how to combine:\n",
        "    - Groq's fast AI responses\n",
        "    - Exa's web search tools\n",
        "    \"\"\"\n",
        "\n",
        "    start_time = time.time()\n",
        "\n",
        "    # Call Groq with Exa MCP integration using responses API\n",
        "    response = client.responses.create(\n",
        "        model=MODEL,\n",
        "        input=query,\n",
        "        tools=tools,\n",
        "        stream=False,\n",
        "        temperature=0.1,\n",
        "        top_p=0.4,\n",
        "    )\n",
        "\n",
        "    total_time = time.time() - start_time\n",
        "\n",
        "    # Get response content from responses API\n",
        "    content = (\n",
        "        response.output_text if hasattr(response, \"output_text\") else str(response)\n",
        "    )\n",
        "\n",
        "    # collect executed tools (MCP tool calls)\n",
        "    executed_tools = []\n",
        "\n",
        "    # Extract MCP calls from response if available\n",
        "    if hasattr(response, \"output\") and response.output:\n",
        "        for output_item in response.output:\n",
        "            if hasattr(output_item, \"type\") and output_item.type == \"mcp_call\":\n",
        "                executed_tools.append(\n",
        "                    {\n",
        "                        \"type\": \"mcp\",\n",
        "                        \"arguments\": getattr(output_item, \"arguments\", \"{}\"),\n",
        "                        \"output\": getattr(output_item, \"output\", \"\"),\n",
        "                        \"name\": getattr(output_item, \"name\", \"\"),\n",
        "                        \"server_label\": getattr(output_item, \"server_label\", \"\"),\n",
        "                    }\n",
        "                )\n",
        "    return {\n",
        "        \"content\": content,\n",
        "        \"total_time\": total_time,\n",
        "        \"mcp_calls_performed\": executed_tools,\n",
        "        \"timestamp\": datetime.now().isoformat(),\n",
        "    }\n"
      ]
    },
    {
      "cell_type": "markdown",
      "metadata": {},
      "source": [
        "Let's create a helper function to show what tools were used and their results. This helps us see exactly what Exa did behind the scenes.\n"
      ]
    },
    {
      "cell_type": "code",
      "execution_count": null,
      "metadata": {},
      "outputs": [],
      "source": [
        "def print_mcp_calls(mcp_calls):\n",
        "    executed_tools = mcp_calls[\"mcp_calls_performed\"]\n",
        "    if executed_tools:\n",
        "        print(f\"\\nEXA MCP CALLS: Found {len(executed_tools)} tool call(s):\")\n",
        "        print(\"-\" * 50)\n",
        "        for i, tool in enumerate(executed_tools, 1):\n",
        "            print(f\"\\nTool Call #{i}\")\n",
        "            print(f\"   Type: {tool['type']}\")\n",
        "            print(f\"   Tool Name: {tool['name']}\")\n",
        "            print(f\"   Server: {tool['server_label']}\")\n",
        "            try:\n",
        "                if tool[\"arguments\"]:\n",
        "                    args = (\n",
        "                        json.loads(tool[\"arguments\"])\n",
        "                        if isinstance(tool[\"arguments\"], str)\n",
        "                        else tool[\"arguments\"]\n",
        "                    )\n",
        "                    print(f\"   Arguments: {args}\")\n",
        "\n",
        "                if tool[\"output\"]:\n",
        "                    output_data = (\n",
        "                        json.loads(tool[\"output\"])\n",
        "                        if isinstance(tool[\"output\"], str)\n",
        "                        else tool[\"output\"]\n",
        "                    )\n",
        "                    print(f\"   Output: {str(output_data)[:500]}...\")\n",
        "            except Exception as e:\n",
        "                print(f\"   Could not parse tool data: {e}\")\n",
        "                \n",
        "    print(f\"   Total time: {mcp_calls['total_time']:.2f} seconds\")\n",
        "    print(f\"   Exa MCP calls: {len(mcp_calls['mcp_calls_performed'])}\")\n"
      ]
    },
    {
      "cell_type": "markdown",
      "metadata": {},
      "source": [
        "## Available Exa Tools\n",
        "\n",
        "Exa MCP provides several powerful tools for different types of research and search:\n",
        "\n",
        "| Tool | Description |\n",
        "|------|-------------|\n",
        "| **`web_search_exa`** | Smart web search that finds relevant content using AI |\n",
        "| **`company_research`** | Research companies by crawling their official websites |\n",
        "| **`crawling`** | Extract content from specific URLs (articles, PDFs, web pages) |\n",
        "| **`linkedin_search`** | Search LinkedIn for companies and people |\n",
        "| **`deep_researcher_start`** | Start an AI researcher for complex questions with multiple sources |\n",
        "| **`deep_researcher_check`** | Check if deep research is complete and get the report |\n",
        "\n",
        "\n",
        "---\n"
      ]
    },
    {
      "cell_type": "markdown",
      "metadata": {},
      "source": [
        "## Demo 1: Web Search\n"
      ]
    },
    {
      "cell_type": "code",
      "execution_count": null,
      "metadata": {},
      "outputs": [],
      "source": [
        "from IPython.display import Markdown\n",
        "\n",
        "web_search_demo = connect_groq_to_exa(\n",
        "    client,\n",
        "    tools,\n",
        "    \"Find recent breakthroughs in quantum computing research\",\n",
        ")\n"
      ]
    },
    {
      "cell_type": "markdown",
      "metadata": {},
      "source": [
        "Let's display the agent's response in markdown format.\n"
      ]
    },
    {
      "cell_type": "code",
      "execution_count": null,
      "metadata": {},
      "outputs": [],
      "source": [
        "Markdown(web_search_demo[\"content\"])\n"
      ]
    },
    {
      "cell_type": "markdown",
      "metadata": {},
      "source": [
        "Let's examine the agent's intermediate steps, including how it uses Exa's search capabilities.\n"
      ]
    },
    {
      "cell_type": "code",
      "execution_count": null,
      "metadata": {},
      "outputs": [],
      "source": [
        "print_mcp_calls(web_search_demo)\n"
      ]
    },
    {
      "cell_type": "markdown",
      "metadata": {},
      "source": [
        "## Demo 2: Try it Yourself\n",
        "\n",
        "Now it's your turn! Replace the query with some real-time information you want to discover using Exa's search capabilities.\n"
      ]
    },
    {
      "cell_type": "code",
      "execution_count": null,
      "metadata": {},
      "outputs": [],
      "source": [
        "your_query = \"Your Query Here\"  # Change this!\n",
        "\n",
        "custom_response = connect_groq_to_exa(client, tools, your_query)\n"
      ]
    },
    {
      "cell_type": "code",
      "execution_count": null,
      "metadata": {},
      "outputs": [],
      "source": [
        "Markdown(custom_response[\"content\"])\n"
      ]
    },
    {
      "cell_type": "code",
      "execution_count": null,
      "metadata": {},
      "outputs": [],
      "source": [
        "print_mcp_calls(custom_response)\n"
      ]
    },
    {
      "cell_type": "markdown",
      "metadata": {},
      "source": [
        "## Summary\n",
        "\n",
        "You've just experienced the power of combining **Groq's fast responses** with the **Exa Web Search MCP**.\n",
        "\n",
        "## 🔍 **Exa Web Search MCP**\n",
        "\n",
        "**Description**: Exa MCP is a powerful web search and web crawling MCP. It lets you do real-time web searches, extract content from any URL, and even run deep research for detailed reports.\n",
        "\n",
        "**Resources**:\n",
        "- 📖 **Documentation**: [https://docs.exa.ai/reference/exa-mcp](https://docs.exa.ai/reference/exa-mcp)\n",
        "- 🔧 **Open Source**: [https://github.com/exa-labs/exa-mcp-server/](https://github.com/exa-labs/exa-mcp-server/)\n",
        "\n",
        "\n",
        "### Available Tools:\n",
        "1. **`web_search_exa`** - Web search for realtime and correct info\n",
        "2. **`company_research`** - Business research by crawling websites\n",
        "3. **`crawling`** - Extract content from specific URLs\n",
        "4. **`linkedin_search`** - Professional network research\n",
        "5. **`deep_researcher_start`** - Start comprehensive research report\n",
        "6. **`deep_researcher_check`** - Get the completed research report\n",
        "\n",
        "---\n",
        "\n",
        "**Resources:**\n",
        "- Explore the [Exa MCP documentation](https://docs.exa.ai/reference/exa-mcp)\n",
        "- View the Exa MCP [opensource code](https://github.com/exa-labs/exa-mcp-server/)\n",
        "- Check out the [Exa website](https://exa.ai)\n"
      ]
    }
  ],
  "metadata": {
    "language_info": {
      "name": "python"
    }
  },
  "nbformat": 4,
  "nbformat_minor": 2
}
