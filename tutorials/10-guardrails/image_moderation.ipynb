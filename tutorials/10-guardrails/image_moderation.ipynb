{
 "cells": [
  {
   "cell_type": "markdown",
   "metadata": {},
   "source": [
    "# Groq and Gradio for Image Moderation with LLaVA and Llama Guard 📷\n",
    "\n",
    "In this tutorial, we'll build an image moderation application powered by Groq for fast image analysis and content safety checking. We'll also leverage [Gradio](https://www.gradio.app/) for creating a user-friendly interface and [Hugging Face Spaces](https://huggingface.co/spaces) for hosting our application.\n",
    "\n",
    "[Groq](groq.com) is known for crazy fast inference speed that is very well-suited for realtime AI applications, providing multiple Large Language Models (LLMs) across various modalities via Groq API. In this tutorial, we will use [LlaVA 1.5 7B](https://huggingface.co/liuhaotian/llava-v1.5-7b) for image analysis and [Llama Guard 3 8B](https://huggingface.co/meta-llama/Llama-Guard-3-8B) for assessing the safety of a given image.\n",
    "\n",
    "## Content Moderation\n",
    "In today's digital age, the internet is a ubiquitous part of our daily lives. However, with the vast amount of information available online, ensuring a safe and positive environment for users has become a significant challenge. This is where content moderation comes into play.\n",
    "\n",
    "Specifically, image moderation is the process of detecting and filtering out inappropriate or harmful images. This is important for maintaining a safe and positive environment for users, especially in applications like online marketplaces, community forums, and social media in general.\n",
    "\n",
    "In this tutorial, we will use the LlaVA model to generate a description of a given image and use the generated description as input for the Llama Guard model to check for conteny safety. LlaVA is a state-of-the-art image understanding model that can answer questions about an image, describe its content, and perform Optical Character Recognition (OCR) to extract text from images. Llama Guard is an advanced content moderation tool designed to assess user messages, or text, for harmful content across 14 categories, including hate speech, threats, and misinformation.\n",
    "\n",
    "Let's dive into the code and learn how to combine the capabilities of Llama Guard and LlaVA to moderate images in real-time!"
   ]
  },
  {
   "cell_type": "markdown",
   "metadata": {},
   "source": [
    "## Step 1: Create a Free GroqCloud Account and Generate Your Groq API Key\n",
    "\n",
    "If you don't already have a GroqCloud account, you can create one for free [here](https://console.groq.com) to generate a Groq API Key. We'll need the key to be able to try out the tutorial we build! "
   ]
  },
  {
   "cell_type": "markdown",
   "metadata": {},
   "source": [
    "## Step 2: Install and Import Required Libraries\n",
    "Let's install and import the libraries we'll need to interact with Groq API and build our image moderation application."
   ]
  },
  {
   "cell_type": "code",
   "execution_count": null,
   "metadata": {
    "vscode": {
     "languageId": "plaintext"
    }
   },
   "outputs": [],
   "source": [
    "!pip install groq\n",
    "!pip install gradio\n",
    "\n",
    "import base64\n",
    "import io\n",
    "import gradio as gr\n",
    "from groq import Groq\n",
    "from PIL import Image\n",
    "import requests"
   ]
  },
  {
   "cell_type": "markdown",
   "metadata": {},
   "source": [
    "## Step 3: Implement Image Encoding Function\n",
    "Next, we'll implement a function to encode image inputs to base64 format, which is required by Groq API."
   ]
  },
  {
   "cell_type": "code",
   "execution_count": null,
   "metadata": {
    "vscode": {
     "languageId": "plaintext"
    }
   },
   "outputs": [],
   "source": [
    "def encode_image(image):\n",
    "    buffered = io.BytesIO()\n",
    "    image.save(buffered, format=\"JPEG\")\n",
    "    return base64.b64encode(buffered.getvalue()).decode('utf-8')"
   ]
  },
  {
   "cell_type": "markdown",
   "metadata": {},
   "source": [
    "## Step 4: Implement Image Analysis Function\n",
    "Now let's implement a function that will analyze our input image using the LlaVA model powered by Groq."
   ]
  },
  {
   "cell_type": "code",
   "execution_count": null,
   "metadata": {
    "vscode": {
     "languageId": "plaintext"
    }
   },
   "outputs": [],
   "source": [
    "def analyze_image(image, prompt, api_key, is_url=False):\n",
    "    client = Groq(api_key=api_key)\n",
    "\n",
    "    if is_url:\n",
    "        image_content = {\"type\": \"image_url\", \"image_url\": {\"url\": image}}\n",
    "    else:\n",
    "        base64_image = encode_image(image)\n",
    "        image_content = {\"type\": \"image_url\", \"image_url\": {\"url\": f\"data:image/jpeg;base64,{base64_image}\"}}\n",
    "\n",
    "    try:\n",
    "        chat_completion = client.chat.completions.create(\n",
    "            messages=[\n",
    "                {\n",
    "                    \"role\": \"user\",\n",
    "                    \"content\": [\n",
    "                        {\"type\": \"text\", \"text\": prompt},\n",
    "                        image_content,\n",
    "                    ],\n",
    "                }\n",
    "            ],\n",
    "            model=\"llava-v1.5-7b-4096-preview\",\n",
    "        )\n",
    "        return chat_completion.choices[0].message.content\n",
    "    except Exception as e:\n",
    "        return f\"Error: {str(e)}\""
   ]
  },
  {
   "cell_type": "markdown",
   "metadata": {},
   "source": [
    "## Step 5: Implement Content Safety Check Function\n",
    "Now we'll implement a function to use the Llama Guard model powered by Groq to check the safety of the image by analyzing the image description generated by the LlaVA model."
   ]
  },
  {
   "cell_type": "code",
   "execution_count": null,
   "metadata": {
    "vscode": {
     "languageId": "plaintext"
    }
   },
   "outputs": [],
   "source": [
    "def check_content_safety(image_description, api_key):\n",
    "    client = Groq(api_key=api_key)\n",
    "\n",
    "    try:\n",
    "        chat_completion = client.chat.completions.create(\n",
    "            messages=[\n",
    "                {\"role\": \"system\", \"content\": \"You are a content safety classifier. Analyze the given text and determine if it contains any unsafe or inappropriate content.\"},\n",
    "                {\"role\": \"user\", \"content\": f\"Please analyze this image description for any unsafe or inappropriate content: {image_description}\"}\n",
    "            ],\n",
    "            model=\"llama-guard-3-8b\",\n",
    "        )\n",
    "        return chat_completion.choices[0].message.content\n",
    "    except Exception as e:\n",
    "        return f\"Error: {str(e)}\""
   ]
  },
  {
   "cell_type": "markdown",
   "metadata": {},
   "source": [
    "## Step 6: Implement Image Processing Function\n",
    "The final function we'll create will handle both uploaded images and image URLs, then call the analysis and safety check functions we built earlier."
   ]
  },
  {
   "cell_type": "code",
   "execution_count": null,
   "metadata": {
    "vscode": {
     "languageId": "plaintext"
    }
   },
   "outputs": [],
   "source": [
    "def process_image(image, url, prompt, api_key):\n",
    "    if image is not None:\n",
    "        return analyze_image(image, prompt, api_key), check_content_safety(analyze_image(image, prompt, api_key), api_key)\n",
    "    elif url:\n",
    "        try:\n",
    "            response = requests.get(url)\n",
    "            image = Image.open(io.BytesIO(response.content))\n",
    "            return analyze_image(url, prompt, api_key, is_url=True), check_content_safety(analyze_image(url, prompt, api_key, is_url=True), api_key)\n",
    "        except:\n",
    "            return \"Invalid image URL. Please provide a direct link to an image.\", \"\"\n",
    "    else:\n",
    "        return \"Please provide an image to analyze.\", \"\""
   ]
  },
  {
   "cell_type": "markdown",
   "metadata": {},
   "source": [
    "## Step 7: Create Gradio Interface and Launch Application\n",
    "Now we'll use Gradio components to build out a simple user interface and launch our image moderation application!"
   ]
  },
  {
   "cell_type": "code",
   "execution_count": null,
   "metadata": {
    "vscode": {
     "languageId": "plaintext"
    }
   },
   "outputs": [],
   "source": [
    "ddef launch():\n",
    "    with gr.Blocks(\n",
    "        theme=gr.themes.Default(primary_hue=\"orange\"),\n",
    "        css=\"\"\"\n",
    "        #app-container { max-width: 1000px; margin: auto; padding: 10px; }\n",
    "        #title { text-align: center; margin-bottom: 10px; font-size: 24px; }\n",
    "        #groq-badge { text-align: center; margin-top: 10px; }\n",
    "        .gr-button { border-radius: 15px; }\n",
    "        .gr-input, .gr-box { border-radius: 10px; }\n",
    "        .gr-form { gap: 5px; }\n",
    "        .gr-block.gr-box { padding: 10px; }\n",
    "        .gr-paddle { height: auto; }\n",
    "        \"\"\"\n",
    "    ) as demo:\n",
    "        with gr.Column(elem_id=\"app-container\"):\n",
    "            gr.Markdown(\"# 🖼️ Groq x Gradio Image Analysis and Content Safety Check\", elem_id=\"title\")\n",
    "            \n",
    "            with gr.Row():\n",
    "                api_key = gr.Textbox(label=\"Groq API Key:\", type=\"password\", scale=2)\n",
    "                prompt = gr.Textbox(\n",
    "                    label=\"Image Analysis Prompt:\",\n",
    "                    value=\"Describe the image content.\",\n",
    "                    scale=3\n",
    "                )\n",
    "            \n",
    "            with gr.Row():\n",
    "                with gr.Column(scale=1):\n",
    "                    image_input = gr.Image(type=\"pil\", label=\"Upload Image:\", height=200, sources=[\"upload\"])\n",
    "                with gr.Column(scale=1):\n",
    "                    url_input = gr.Textbox(label=\"Or Paste Image URL:\", lines=1)\n",
    "                    analyze_button = gr.Button(\"🚀 Analyze Image\", variant=\"primary\")\n",
    "            \n",
    "            with gr.Row():\n",
    "                with gr.Column():\n",
    "                    analysis_output = gr.Textbox(label=\"Image Analysis with LlaVA 1.5 7B:\", lines=6)\n",
    "                with gr.Column():\n",
    "                    safety_output = gr.Textbox(label=\"Safety Check with Llama Guard 3 8B:\", lines=6)\n",
    "            \n",
    "            analyze_button.click(\n",
    "                fn=process_image,\n",
    "                inputs=[image_input, url_input, prompt, api_key],\n",
    "                outputs=[analysis_output, safety_output]\n",
    "            )\n",
    "            \n",
    "            with gr.Row():\n",
    "                with gr.Column():\n",
    "                    gr.HTML(\"\"\"\n",
    "                    <div id=\"groq-badge\">\n",
    "                        <div style=\"color: #f55036; font-weight: bold; font-size: 1em;\">⚡ POWERED BY GROQ ⚡</div>\n",
    "                    </div>\n",
    "                    \"\"\")\n",
    "                    \n",
    "                with gr.Column():\n",
    "                    gr.Markdown(\"\"\"\n",
    "                    **How to use this app:** \n",
    "                    1. Enter your [Groq API Key](https://console.groq.com/keys) in the provided field.\n",
    "                    2. Upload an image file or paste an image URL.\n",
    "                    3. Use default prompt or enter custom prompt for image analysis.\n",
    "                    4. Click \"Analyze Image\" to check for content safety.\n",
    "                    \"\"\")\n",
    "    \n",
    "    demo.launch()\n",
    "\n",
    "if __name__ == \"__main__\":\n",
    "    launch()"
   ]
  },
  {
   "cell_type": "markdown",
   "metadata": {},
   "source": [
    "## (Optional) Step 8: Host on Hugging Face Spaces\n",
    "If you don't already have one, create a free Hugging Face account [here](https://huggingface.co/join). To deploy our app to Hugging Face Spaces from our browser, all we have to do is drag and drop all related files [here](https://huggingface.co/new-space). In this case, we'll create an `app.py` file as well as a `requirements.txt` file. \n",
    "\n",
    "In the `app.py` file, simply copy-paste the above code and feel free to modify for additional features or a different look! \n",
    "\n",
    "In the `requirements.txt` file, add in the required dependencies for Hugging Face Spaces to detect and automatically install before deploying our application to a public link that anyone can access.\n",
    "\n",
    "For this project, the following dependencies were added to the `requirements.txt` file:\n",
    "\n",
    "```\n",
    "groq\n",
    "gradio\n",
    "```\n",
    "\n",
    "Once the required application files are added, Hugging Face Spaces will automatically detect, build, run, and deploy our application! You can see and try this tutorial live [here](https://huggingface.co/spaces/Groq/image-moderation)! 😁\n",
    "\n",
    "# Conclusion\n",
    "By combining Groq, Gradio, and Hugging Face Spaces, we've created and deployed a powerful and easy-to-use image moderation tool.\n",
    "\n",
    "We hope you found this tutorial helpful and that you'll use it to create your own image moderation tools and applications. Feel free to experiment with this code and extend the functionality to create your own personal project! Happy building! 🤩"
   ]
  }
 ],
 "metadata": {
  "language_info": {
   "name": "python"
  }
 },
 "nbformat": 4,
 "nbformat_minor": 2
}
