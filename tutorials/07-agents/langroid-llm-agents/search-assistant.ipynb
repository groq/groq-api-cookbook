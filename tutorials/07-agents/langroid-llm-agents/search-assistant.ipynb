{
 "nbformat": 4,
 "nbformat_minor": 0,
 "metadata": {
  "colab": {
   "provenance": [],
   "authorship_tag": "ABX9TyNDR7JtoPryDA2hitsRZSxj",
   "include_colab_link": true
  },
  "kernelspec": {
   "name": "python3",
   "display_name": "Python 3"
  },
  "language_info": {
   "name": "python"
  }
 },
 "cells": [
  {
   "cell_type": "markdown",
   "metadata": {
    "id": "view-in-github",
    "colab_type": "text"
   },
   "source": [
    "<a href=\"https://colab.research.google.com/github/langroid/groq-api-cookbook/blob/main/langroid-llm-agents/search-assistant.ipynb\" target=\"_parent\"><img src=\"https://colab.research.google.com/assets/colab-badge.svg\" alt=\"Open In Colab\"/></a>"
   ]
  },
  {
   "cell_type": "markdown",
   "source": [
    "## Overview\n",
    "\n",
    "[Langroid](https://github.com/langroid/langroid) is a multi-agent LLM framework from ex-CMU/UW-Madison researchers, in production use at some companies. It does not use LangChain or any other framework. \n",
    " Langroid has a principled, flexible, elegant multi-agent orchestration mechanism partly inspired by the [Actor Framework](https://en.wikipedia.org/wiki/Actor_model). Langroid is LLM-agnostic and works with any LLM available via an OpenAI-Compatible API (e.g. via Groq, litellm, ollama, ooba), \n",
    " has support for tools/function-calls via Pydantic, vector-databases, RAG, SQL-Chat, and many other features.\n",
    "\n",
    "This notebook shows how you can use Langroid's multi-agent LLM framework with a Groq-hosted LLM to build a simple 2-agent web-search system:\n",
    "\n",
    "- Assistant takes your (complex) question, breaks it down into smaller pieces if needed, so the WebSearcher can answer them via an internet search;\n",
    "- Searcher takes Assistant's question, uses the Search tool to search the web (using DuckDuckGo), and returns a coherent answer to the Assistant.\n",
    "\n",
    "Once the Assistant thinks it has enough info to answer the user's question, it\n",
    "says DONE and presents the answer to the user.\n"
   ],
   "metadata": {
    "id": "Z2c6Ou0upPN3"
   }
  },
  {
   "cell_type": "markdown",
   "source": [
    "## Setup"
   ],
   "metadata": {
    "id": "tNV1cCkgqnXI"
   }
  },
  {
   "cell_type": "markdown",
   "source": [
    "Get your `GROQ_API_KEY` here:\n",
    "\n",
    "https://console.groq.com/keys\n",
    "\n"
   ],
   "metadata": {
    "id": "Z_u8yF0cJJ2B"
   }
  },
  {
   "cell_type": "markdown",
   "source": [
    "Install Langroid"
   ],
   "metadata": {
    "id": "MVws2r4Iqq8Y"
   }
  },
  {
   "cell_type": "code",
   "execution_count": null,
   "metadata": {
    "colab": {
     "base_uri": "https://localhost:8080/"
    },
    "id": "UBdvGAHlIhYb",
    "outputId": "ea3c2f2c-8713-428c-90ea-256250a3062b"
   },
   "outputs": [
    {
     "output_type": "stream",
     "name": "stdout",
     "text": [
      "Name: langroid\n",
      "Version: 0.2.6\n",
      "Summary: Harness LLMs with Multi-Agent Programming\n",
      "Home-page: \n",
      "Author: Prasad Chalasani\n",
      "Author-email: pchalasani@gmail.com\n",
      "License: MIT\n",
      "Location: /usr/local/lib/python3.10/dist-packages\n",
      "Requires: aiohttp, async-generator, bs4, colorlog, docstring-parser, duckduckgo-search, faker, fakeredis, fire, google-api-python-client, google-generativeai, groq, grpcio, halo, jinja2, lxml, nest-asyncio, nltk, onnxruntime, openai, pandas, prettytable, pydantic, pygithub, pygments, pyparsing, python-dotenv, python-magic, pyyaml, qdrant-client, rank-bm25, redis, requests, requests-oauthlib, rich, thefuzz, tiktoken, trafilatura, typer, wget\n",
      "Required-by: \n"
     ]
    }
   ],
   "source": [
    "!pip install -q --upgrade langroid &> /dev/null\n",
    "!pip show langroid\n"
   ]
  },
  {
   "cell_type": "code",
   "source": [
    "import os\n",
    "import getpass\n",
    "os.environ[\"GROQ_API_KEY\"] = getpass.getpass(\"Enter your GROQ_API_KEY: \")"
   ],
   "metadata": {
    "colab": {
     "base_uri": "https://localhost:8080/"
    },
    "id": "7uJwV8DuIq-F",
    "outputId": "5f9d20ec-b633-46e6-c640-f2df8c4e67ec"
   },
   "execution_count": null,
   "outputs": [
    {
     "name": "stdout",
     "output_type": "stream",
     "text": [
      "Enter your GROQ_API_KEY: ··········\n"
     ]
    }
   ]
  },
  {
   "cell_type": "markdown",
   "source": [
    "Imports from Langroid"
   ],
   "metadata": {
    "id": "bSu9MKOJqzvZ"
   }
  },
  {
   "cell_type": "code",
   "source": [
    "import langroid as lr\n",
    "import langroid.language_models as lm\n",
    "from langroid.agent.tools.duckduckgo_search_tool import DuckduckgoSearchTool\n",
    "from langroid.utils.configuration import settings\n",
    "settings.notebook = True\n",
    "\n",
    "MODEL = \"groq/llama3-70b-8192\"\n"
   ],
   "metadata": {
    "id": "dZnsG9APJtZa"
   },
   "execution_count": null,
   "outputs": []
  },
  {
   "cell_type": "markdown",
   "source": [
    "## Configure the LLM, define the Assistant Agent and Task"
   ],
   "metadata": {
    "id": "qDLCActTKpi_"
   }
  },
  {
   "cell_type": "markdown",
   "source": [
    "### Configure the LLM to use a Groq-hosted model"
   ],
   "metadata": {
    "id": "HoVsjOmIq-c-"
   }
  },
  {
   "cell_type": "code",
   "source": [
    "llm_config = lm.OpenAIGPTConfig(\n",
    "      chat_model=MODEL, # or lr.OpenAIChatModel.GPT4_TURBO\n",
    "      chat_context_length=8192,\n",
    "      temperature=0,\n",
    "      max_output_tokens=200,\n",
    "      timeout=45,\n",
    "  )\n",
    "\n",
    "\n",
    "\n"
   ],
   "metadata": {
    "id": "eS2J7KqBKkfH"
   },
   "execution_count": null,
   "outputs": []
  },
  {
   "cell_type": "markdown",
   "source": [
    "### Define the main Assistant Agent and Task\n",
    "Here we specify the Assistant's goal in the `system_message`,\n",
    "and we use the `llm_config` defined above. We wrap the Assistant agent in a Task class, which enables it to interact with other agents (in this case the Searcher defined below)."
   ],
   "metadata": {
    "id": "12JKXX8grMAd"
   }
  },
  {
   "cell_type": "code",
   "source": [
    "\n",
    "assistant_config = lr.ChatAgentConfig(\n",
    "    system_message=\"\"\"\n",
    "    You are a resourceful assistant, able to think step by step to answer\n",
    "    complex questions from the user. You must break down complex questions into\n",
    "    simpler questions that can be answered by a web search. You must ask me\n",
    "    (the user) each question ONE BY ONE, and I will do a web search and send you\n",
    "    a brief answer. Once you have enough information to answer my original\n",
    "    (complex) question, you MUST say DONE and present the answer to me.\n",
    "    \"\"\",\n",
    "    llm=llm_config,\n",
    "    vecdb=None,\n",
    ")\n",
    "assistant_agent = lr.ChatAgent(assistant_config)\n",
    "\n",
    "assistant_task = lr.Task(\n",
    "    assistant_agent,\n",
    "    name=\"Assistant\",\n",
    "    llm_delegate=True,\n",
    "    single_round=False,\n",
    "    interactive=False,\n",
    ")\n",
    "\n"
   ],
   "metadata": {
    "id": "kwEWTJ5ZrK7l",
    "outputId": "84b2a0f1-0b64-4d65-dbc1-49f7c8952493",
    "colab": {
     "base_uri": "https://localhost:8080/"
    }
   },
   "execution_count": null,
   "outputs": [
    {
     "output_type": "stream",
     "name": "stderr",
     "text": [
      "WARNING:langroid.cachedb.redis_cachedb:REDIS_PASSWORD, REDIS_HOST, REDIS_PORT not set in .env file,\n",
      "                        using fake redis client\n",
      "\u001B[33m2024-06-24 19:24:31 - WARNING - REDIS_PASSWORD, REDIS_HOST, REDIS_PORT not set in .env file,\n",
      "                        using fake redis client\u001B[0m\n"
     ]
    }
   ]
  },
  {
   "cell_type": "markdown",
   "source": [
    "### Define the Searcher Agent and Task\n",
    "\n",
    "Similar to how we defined the Assistant agent, we define the Searcher agent, specifying its role in the `system_message`.\n",
    "Note how we enable this agent to use an Internet Search tool, in this case the `DuckduckgoSearchTool`. Finally, we wrap the agent in a Task to enable it to interact with the Assistant agent.\n"
   ],
   "metadata": {
    "id": "ZwEd43ngKvlL"
   }
  },
  {
   "cell_type": "code",
   "source": [
    "search_tool_handler_method = DuckduckgoSearchTool.default_value(\"request\")\n",
    "\n",
    "search_agent_config = lr.ChatAgentConfig(\n",
    "    llm=llm_config,\n",
    "    vecdb=None,\n",
    "    system_message=f\"\"\"\n",
    "    You are a web-searcher. For any question you get, you must use the\n",
    "    `{search_tool_handler_method}` tool/function-call to get up to 5 results.\n",
    "    I WILL SEND YOU THE RESULTS; DO NOT MAKE UP THE RESULTS!!\n",
    "    Once you receive the results, you must compose a CONCISE answer\n",
    "    based on the search results and say DONE and show the answer to me,\n",
    "    in this format:\n",
    "    DONE [... your CONCISE answer here ...]\n",
    "    IMPORTANT: YOU MUST WAIT FOR ME TO SEND YOU THE\n",
    "    SEARCH RESULTS BEFORE saying you're DONE.\n",
    "    \"\"\",\n",
    ")\n",
    "search_agent = lr.ChatAgent(search_agent_config)\n",
    "search_agent.enable_message(DuckduckgoSearchTool)\n",
    "\n",
    "\n",
    "search_task = lr.Task(\n",
    "    search_agent,\n",
    "    name=\"Searcher\",\n",
    "    llm_delegate=True,\n",
    "    single_round=False,\n",
    "    interactive=False,\n",
    ")"
   ],
   "metadata": {
    "id": "5oLidvmnLNDz"
   },
   "execution_count": null,
   "outputs": []
  },
  {
   "cell_type": "markdown",
   "source": [
    "### Attach the Searcher to the Assistant, run Assistant.\n",
    "\n",
    "To enable the Assistant agent to delegate to the Searcher agent,\n",
    "we set up the Searcher Task as a sub-task of the Assistant Task, and then run the Assistant Task. When it waits for user input, try asking it some questions!\n",
    "\n",
    "Example:\n",
    "> Did Beethoven compose more pieces than Bach?\n"
   ],
   "metadata": {
    "id": "NmZRm9sbLRih"
   }
  },
  {
   "cell_type": "code",
   "source": [
    "assistant_task.add_sub_task(search_task)\n",
    "question = \"Was Liszt born before Wagner?\"\n",
    "assistant_task.run(question)"
   ],
   "metadata": {
    "id": "o5GD_wGwLZR-",
    "colab": {
     "base_uri": "https://localhost:8080/",
     "height": 1000
    },
    "outputId": "5deee475-84a5-4ab4-a289-228aa069d2be"
   },
   "execution_count": null,
   "outputs": [
    {
     "output_type": "display_data",
     "data": {
      "text/plain": [
       "\u001B[1;35m>>> Starting Agent Assistant \u001B[0m\u001B[1;35m(\u001B[0m\u001B[1;35m1\u001B[0m\u001B[1;35m)\u001B[0m\u001B[1;35m llama3-70b-\u001B[0m\u001B[1;35m8192\u001B[0m\u001B[1;35m \u001B[0m\n"
      ],
      "text/html": [
       "<pre style=\"white-space:pre;overflow-x:auto;line-height:normal;font-family:Menlo,'DejaVu Sans Mono',consolas,'Courier New',monospace\"><span style=\"color: #800080; text-decoration-color: #800080; font-weight: bold\">&gt;&gt;&gt; Starting Agent Assistant (</span><span style=\"color: #800080; text-decoration-color: #800080; font-weight: bold\">1</span><span style=\"color: #800080; text-decoration-color: #800080; font-weight: bold\">) llama3-70b-</span><span style=\"color: #800080; text-decoration-color: #800080; font-weight: bold\">8192</span><span style=\"color: #800080; text-decoration-color: #800080; font-weight: bold\"> </span>\n",
       "</pre>\n"
      ]
     },
     "metadata": {}
    },
    {
     "output_type": "display_data",
     "data": {
      "text/plain": [],
      "text/html": [
       "<pre style=\"white-space:pre;overflow-x:auto;line-height:normal;font-family:Menlo,'DejaVu Sans Mono',consolas,'Courier New',monospace\"></pre>\n"
      ]
     },
     "metadata": {}
    },
    {
     "output_type": "stream",
     "name": "stdout",
     "text": [
      "\u001B[32m\u001B[32mTo\u001B[32m answer\u001B[32m this\u001B[32m question\u001B[32m,\u001B[32m I\u001B[32m'll\u001B[32m need\u001B[32m to\u001B[32m break\u001B[32m it\u001B[32m down\u001B[32m into\u001B[32m simpler\u001B[32m questions\u001B[32m.\u001B[32m Here\u001B[32m's\u001B[32m the\u001B[32m first\u001B[32m one\u001B[32m:\n",
      "\n",
      "\u001B[32mWhat\u001B[32m is\u001B[32m the\u001B[32m birth\u001B[32m year\u001B[32m of\u001B[32m Franz\u001B[32m Lis\u001B[32mzt\u001B[32m?"
     ]
    },
    {
     "output_type": "display_data",
     "data": {
      "text/plain": [
       "\n"
      ],
      "text/html": [
       "<pre style=\"white-space:pre;overflow-x:auto;line-height:normal;font-family:Menlo,'DejaVu Sans Mono',consolas,'Courier New',monospace\">\n",
       "</pre>\n"
      ]
     },
     "metadata": {}
    },
    {
     "output_type": "display_data",
     "data": {
      "text/plain": [
       "\u001B[1mStats:\u001B[0m \u001B[35mN_MSG\u001B[0m\u001B[35m=\u001B[0m\u001B[1;35m2\u001B[0m\u001B[35m, TOKENS: \u001B[0m\u001B[35min\u001B[0m\u001B[35m=\u001B[0m\u001B[1;35m109\u001B[0m\u001B[35m, \u001B[0m\u001B[35mout\u001B[0m\u001B[35m=\u001B[0m\u001B[1;35m32\u001B[0m\u001B[35m, \u001B[0m\u001B[35mmax\u001B[0m\u001B[35m=\u001B[0m\u001B[1;35m200\u001B[0m\u001B[35m, \u001B[0m\u001B[35mctx\u001B[0m\u001B[35m=\u001B[0m\u001B[1;35m8192\u001B[0m\u001B[35m, COST: \u001B[0m\u001B[35mnow\u001B[0m\u001B[35m=$\u001B[0m\u001B[1;35m0.0000\u001B[0m\u001B[35m, \u001B[0m\u001B[35mcumul\u001B[0m\u001B[35m=$\u001B[0m\u001B[1;35m0.0000\u001B[0m\u001B[35m, \u001B[0m\u001B[35mtot\u001B[0m\u001B[35m=$\u001B[0m\u001B[1;35m0.0000\u001B[0m\u001B[35m \u001B[0m\n",
       "\u001B[1;35m(\u001B[0m\u001B[1;35mllama3-70b-\u001B[0m\u001B[1;35m8192\u001B[0m\u001B[1;35m)\u001B[0m\n"
      ],
      "text/html": [
       "<pre style=\"white-space:pre;overflow-x:auto;line-height:normal;font-family:Menlo,'DejaVu Sans Mono',consolas,'Courier New',monospace\"><span style=\"font-weight: bold\">Stats:</span> <span style=\"color: #800080; text-decoration-color: #800080\">N_MSG</span><span style=\"color: #800080; text-decoration-color: #800080\">=</span><span style=\"color: #800080; text-decoration-color: #800080; font-weight: bold\">2</span><span style=\"color: #800080; text-decoration-color: #800080\">, TOKENS: </span><span style=\"color: #800080; text-decoration-color: #800080\">in</span><span style=\"color: #800080; text-decoration-color: #800080\">=</span><span style=\"color: #800080; text-decoration-color: #800080; font-weight: bold\">109</span><span style=\"color: #800080; text-decoration-color: #800080\">, </span><span style=\"color: #800080; text-decoration-color: #800080\">out</span><span style=\"color: #800080; text-decoration-color: #800080\">=</span><span style=\"color: #800080; text-decoration-color: #800080; font-weight: bold\">32</span><span style=\"color: #800080; text-decoration-color: #800080\">, </span><span style=\"color: #800080; text-decoration-color: #800080\">max</span><span style=\"color: #800080; text-decoration-color: #800080\">=</span><span style=\"color: #800080; text-decoration-color: #800080; font-weight: bold\">200</span><span style=\"color: #800080; text-decoration-color: #800080\">, </span><span style=\"color: #800080; text-decoration-color: #800080\">ctx</span><span style=\"color: #800080; text-decoration-color: #800080\">=</span><span style=\"color: #800080; text-decoration-color: #800080; font-weight: bold\">8192</span><span style=\"color: #800080; text-decoration-color: #800080\">, COST: </span><span style=\"color: #800080; text-decoration-color: #800080\">now</span><span style=\"color: #800080; text-decoration-color: #800080\">=$</span><span style=\"color: #800080; text-decoration-color: #800080; font-weight: bold\">0.0000</span><span style=\"color: #800080; text-decoration-color: #800080\">, </span><span style=\"color: #800080; text-decoration-color: #800080\">cumul</span><span style=\"color: #800080; text-decoration-color: #800080\">=$</span><span style=\"color: #800080; text-decoration-color: #800080; font-weight: bold\">0.0000</span><span style=\"color: #800080; text-decoration-color: #800080\">, </span><span style=\"color: #800080; text-decoration-color: #800080\">tot</span><span style=\"color: #800080; text-decoration-color: #800080\">=$</span><span style=\"color: #800080; text-decoration-color: #800080; font-weight: bold\">0.0000</span><span style=\"color: #800080; text-decoration-color: #800080\"> </span>\n",
       "<span style=\"color: #800080; text-decoration-color: #800080; font-weight: bold\">(llama3-70b-</span><span style=\"color: #800080; text-decoration-color: #800080; font-weight: bold\">8192</span><span style=\"color: #800080; text-decoration-color: #800080; font-weight: bold\">)</span>\n",
       "</pre>\n"
      ]
     },
     "metadata": {}
    },
    {
     "output_type": "display_data",
     "data": {
      "text/plain": [
       "\u001B[1;35m...\u001B[0m\u001B[1;35m|>>> Starting Agent Searcher \u001B[0m\u001B[1;35m(\u001B[0m\u001B[1;35m1\u001B[0m\u001B[1;35m)\u001B[0m\u001B[1;35m llama3-70b-\u001B[0m\u001B[1;35m8192\u001B[0m\u001B[1;35m \u001B[0m\n"
      ],
      "text/html": [
       "<pre style=\"white-space:pre;overflow-x:auto;line-height:normal;font-family:Menlo,'DejaVu Sans Mono',consolas,'Courier New',monospace\"><span style=\"color: #800080; text-decoration-color: #800080; font-weight: bold\">...|&gt;&gt;&gt; Starting Agent Searcher (</span><span style=\"color: #800080; text-decoration-color: #800080; font-weight: bold\">1</span><span style=\"color: #800080; text-decoration-color: #800080; font-weight: bold\">) llama3-70b-</span><span style=\"color: #800080; text-decoration-color: #800080; font-weight: bold\">8192</span><span style=\"color: #800080; text-decoration-color: #800080; font-weight: bold\"> </span>\n",
       "</pre>\n"
      ]
     },
     "metadata": {}
    },
    {
     "output_type": "display_data",
     "data": {
      "text/plain": [
       "\u001B[32m...\u001B[0m\u001B[32m|\u001B[0m"
      ],
      "text/html": [
       "<pre style=\"white-space:pre;overflow-x:auto;line-height:normal;font-family:Menlo,'DejaVu Sans Mono',consolas,'Courier New',monospace\"><span style=\"color: #008000; text-decoration-color: #008000\">...|</span></pre>\n"
      ]
     },
     "metadata": {}
    },
    {
     "output_type": "stream",
     "name": "stdout",
     "text": [
      "\u001B[32m\u001B[32mTO\u001B[32mOL\u001B[32m:\u001B[32m \n",
      "\u001B[32m{\n",
      "\u001B[32m   \u001B[32m \"\u001B[32mrequest\u001B[32m\":\u001B[32m \"\u001B[32mduck\u001B[32mduck\u001B[32mgo\u001B[32m_search\u001B[32m\",\n",
      "\u001B[32m   \u001B[32m \"\u001B[32mquery\u001B[32m\":\u001B[32m \"\u001B[32mWhat\u001B[32m is\u001B[32m the\u001B[32m birth\u001B[32m year\u001B[32m of\u001B[32m Franz\u001B[32m Lis\u001B[32mzt\u001B[32m?\",\n",
      "\u001B[32m   \u001B[32m \"\u001B[32mnum\u001B[32m_results\u001B[32m\":\u001B[32m \u001B[32m5\u001B[32m\n",
      "\u001B[32m}"
     ]
    },
    {
     "output_type": "display_data",
     "data": {
      "text/plain": [
       "\n"
      ],
      "text/html": [
       "<pre style=\"white-space:pre;overflow-x:auto;line-height:normal;font-family:Menlo,'DejaVu Sans Mono',consolas,'Courier New',monospace\">\n",
       "</pre>\n"
      ]
     },
     "metadata": {}
    },
    {
     "output_type": "display_data",
     "data": {
      "text/plain": [
       "\u001B[33m...\u001B[0m|\u001B[1mStats:\u001B[0m \u001B[35mN_MSG\u001B[0m\u001B[35m=\u001B[0m\u001B[1;35m2\u001B[0m\u001B[35m, TOKENS: \u001B[0m\u001B[35min\u001B[0m\u001B[35m=\u001B[0m\u001B[1;35m493\u001B[0m\u001B[35m, \u001B[0m\u001B[35mout\u001B[0m\u001B[35m=\u001B[0m\u001B[1;35m39\u001B[0m\u001B[35m, \u001B[0m\u001B[35mmax\u001B[0m\u001B[35m=\u001B[0m\u001B[1;35m200\u001B[0m\u001B[35m, \u001B[0m\u001B[35mctx\u001B[0m\u001B[35m=\u001B[0m\u001B[1;35m8192\u001B[0m\u001B[35m, COST: \u001B[0m\u001B[35mnow\u001B[0m\u001B[35m=$\u001B[0m\u001B[1;35m0.0000\u001B[0m\u001B[35m, \u001B[0m\u001B[35mcumul\u001B[0m\u001B[35m=$\u001B[0m\u001B[1;35m0.0000\u001B[0m\u001B[35m, \u001B[0m\u001B[35mtot\u001B[0m\u001B[35m=$\u001B[0m\u001B[1;35m0.0000\u001B[0m\u001B[35m \u001B[0m\n",
       "\u001B[1;35m(\u001B[0m\u001B[1;35mllama3-70b-\u001B[0m\u001B[1;35m8192\u001B[0m\u001B[1;35m)\u001B[0m\n"
      ],
      "text/html": [
       "<pre style=\"white-space:pre;overflow-x:auto;line-height:normal;font-family:Menlo,'DejaVu Sans Mono',consolas,'Courier New',monospace\"><span style=\"color: #808000; text-decoration-color: #808000\">...</span>|<span style=\"font-weight: bold\">Stats:</span> <span style=\"color: #800080; text-decoration-color: #800080\">N_MSG</span><span style=\"color: #800080; text-decoration-color: #800080\">=</span><span style=\"color: #800080; text-decoration-color: #800080; font-weight: bold\">2</span><span style=\"color: #800080; text-decoration-color: #800080\">, TOKENS: </span><span style=\"color: #800080; text-decoration-color: #800080\">in</span><span style=\"color: #800080; text-decoration-color: #800080\">=</span><span style=\"color: #800080; text-decoration-color: #800080; font-weight: bold\">493</span><span style=\"color: #800080; text-decoration-color: #800080\">, </span><span style=\"color: #800080; text-decoration-color: #800080\">out</span><span style=\"color: #800080; text-decoration-color: #800080\">=</span><span style=\"color: #800080; text-decoration-color: #800080; font-weight: bold\">39</span><span style=\"color: #800080; text-decoration-color: #800080\">, </span><span style=\"color: #800080; text-decoration-color: #800080\">max</span><span style=\"color: #800080; text-decoration-color: #800080\">=</span><span style=\"color: #800080; text-decoration-color: #800080; font-weight: bold\">200</span><span style=\"color: #800080; text-decoration-color: #800080\">, </span><span style=\"color: #800080; text-decoration-color: #800080\">ctx</span><span style=\"color: #800080; text-decoration-color: #800080\">=</span><span style=\"color: #800080; text-decoration-color: #800080; font-weight: bold\">8192</span><span style=\"color: #800080; text-decoration-color: #800080\">, COST: </span><span style=\"color: #800080; text-decoration-color: #800080\">now</span><span style=\"color: #800080; text-decoration-color: #800080\">=$</span><span style=\"color: #800080; text-decoration-color: #800080; font-weight: bold\">0.0000</span><span style=\"color: #800080; text-decoration-color: #800080\">, </span><span style=\"color: #800080; text-decoration-color: #800080\">cumul</span><span style=\"color: #800080; text-decoration-color: #800080\">=$</span><span style=\"color: #800080; text-decoration-color: #800080; font-weight: bold\">0.0000</span><span style=\"color: #800080; text-decoration-color: #800080\">, </span><span style=\"color: #800080; text-decoration-color: #800080\">tot</span><span style=\"color: #800080; text-decoration-color: #800080\">=$</span><span style=\"color: #800080; text-decoration-color: #800080; font-weight: bold\">0.0000</span><span style=\"color: #800080; text-decoration-color: #800080\"> </span>\n",
       "<span style=\"color: #800080; text-decoration-color: #800080; font-weight: bold\">(llama3-70b-</span><span style=\"color: #800080; text-decoration-color: #800080; font-weight: bold\">8192</span><span style=\"color: #800080; text-decoration-color: #800080; font-weight: bold\">)</span>\n",
       "</pre>\n"
      ]
     },
     "metadata": {}
    },
    {
     "output_type": "display_data",
     "data": {
      "text/plain": [
       "\u001B[31m...\u001B[0m\u001B[31m|\u001B[0m"
      ],
      "text/html": [
       "<pre style=\"white-space:pre;overflow-x:auto;line-height:normal;font-family:Menlo,'DejaVu Sans Mono',consolas,'Courier New',monospace\"><span style=\"color: #800000; text-decoration-color: #800000\">...|</span></pre>\n"
      ]
     },
     "metadata": {}
    },
    {
     "output_type": "display_data",
     "data": {
      "text/plain": [
       "\u001B[31mAgent: \u001B[0m\n",
       "\u001B[31m        BELOW ARE THE RESULTS FROM THE WEB SEARCH. USE THESE TO COMPOSE YOUR RESPONSE:\u001B[0m\n",
       "\u001B[31m        Title: Franz Liszt - Compositions, Facts & Death - Biography\u001B[0m\n",
       "\u001B[31mLink: \u001B[0m\u001B[4;31mhttps://www.biography.com/musicians/franz-liszt\u001B[0m\n",
       "\u001B[31mSummary: Franz Liszt - Compositions, Facts & Death Search LGBTQ Pride History & Culture Musicians Movies & TV \u001B[0m\n",
       "\u001B[31mAthletes Artists Power & Politics Business Scholars & Educators Scientists Activists Notorious Figures BIO Buys \u001B[0m\n",
       "\u001B[31mNewsletter Your Privacy Choices Privacy Notice Terms Of Use Skip to Content Pride Month\u001B[0m\n",
       "\n",
       "\u001B[31mTitle: Franz Liszt | Biography, Music, Compositions, Famous Works, Children \u001B[0m\u001B[31m...\u001B[0m\n",
       "\u001B[31mLink: \u001B[0m\u001B[4;31mhttps://www.britannica.com/biography/Franz-Liszt\u001B[0m\n",
       "\u001B[31mSummary: Franz Liszt | Biography, Music, Compositions, Famous Works, Children, & Facts | Britannica Search \u001B[0m\n",
       "\u001B[31mBritannica Click here to search Search Britannica Click here to search Subscribe Now Subscribe Login Home Games & \u001B[0m\n",
       "\u001B[31mQuizzes History & Society Science & Tech Biographies Animals & Nature Geography & Travel\u001B[0m\n",
       "\n",
       "\u001B[31mTitle: Franz Liszt - Wikipedia\u001B[0m\n",
       "\u001B[31mLink: \u001B[0m\u001B[4;31mhttps://en.wikipedia.org/wiki/Franz_Liszt\u001B[0m\n",
       "\u001B[31mSummary: Franz Liszt - Wikipedia Jump to content Main menu Main menu move to sidebar hide Navigation Main page \u001B[0m\n",
       "\u001B[31mContents Current events Random article About Wikipedia Contact us Donate Contribute Help Learn to edit Community \u001B[0m\n",
       "\u001B[31mportal Recent changes Upload file Search Search Appearance Create account Log in Pers\u001B[0m\n",
       "\n",
       "\u001B[31mTitle: Franz Liszt - World History Encyclopedia\u001B[0m\n",
       "\u001B[31mLink: \u001B[0m\u001B[4;31mhttps://www.worldhistory.org/Franz_Liszt/\u001B[0m\n",
       "\u001B[31mSummary: Franz Liszt - World History Encyclopedia Facebook Membership No ads Encyclopedia Index Timeline Maps Book \u001B[0m\n",
       "\u001B[31mReviews Weights & Measures Translations Education Teaching Materials Link Database Quizzes Primary Sources \u001B[0m\n",
       "\u001B[31mCollections School Subscription Media Media Library Audio Articles Podcast Youtube Chan\u001B[0m\n",
       "\n",
       "\u001B[31mTitle: Franz Liszt Biography - History of Franz Liszt - CMUSE\u001B[0m\n",
       "\u001B[31mLink: \u001B[0m\u001B[4;31mhttps://www.cmuse.org/franz-liszt-biography/\u001B[0m\n",
       "\u001B[31mSummary: Franz Liszt Biography - History of Franz Liszt - CMUSE Skip to content Menu HOME CLASSICAL INSPIRATIONAL \u001B[0m\n",
       "\u001B[31mLISTS MUSIC PROMOTION MUSICIAN INTERVIEW CONTACT US Franz Liszt Biography – History of Franz Liszt Dec \u001B[0m\u001B[1;31m18\u001B[0m\u001B[31m, \u001B[0m\u001B[1;31m2018\u001B[0m\u001B[31m Feb\u001B[0m\n",
       "\u001B[1;31m22\u001B[0m\u001B[31m, \u001B[0m\u001B[1;31m2018\u001B[0m\u001B[31m by CMUSE Franz Liszt Biography Franz Liszt \u001B[0m\u001B[1;31m(\u001B[0m\u001B[1;31m1811\u001B[0m\u001B[31m – \u001B[0m\u001B[1;31m1886\u001B[0m\u001B[1;31m)\u001B[0m\u001B[31m was a creativ\u001B[0m\n",
       "\u001B[31m        \u001B[0m\n"
      ],
      "text/html": [
       "<pre style=\"white-space:pre;overflow-x:auto;line-height:normal;font-family:Menlo,'DejaVu Sans Mono',consolas,'Courier New',monospace\"><span style=\"color: #800000; text-decoration-color: #800000\">Agent: </span>\n",
       "<span style=\"color: #800000; text-decoration-color: #800000\">        BELOW ARE THE RESULTS FROM THE WEB SEARCH. USE THESE TO COMPOSE YOUR RESPONSE:</span>\n",
       "<span style=\"color: #800000; text-decoration-color: #800000\">        Title: Franz Liszt - Compositions, Facts &amp; Death - Biography</span>\n",
       "<span style=\"color: #800000; text-decoration-color: #800000\">Link: </span><span style=\"color: #800000; text-decoration-color: #800000; text-decoration: underline\">https://www.biography.com/musicians/franz-liszt</span>\n",
       "<span style=\"color: #800000; text-decoration-color: #800000\">Summary: Franz Liszt - Compositions, Facts &amp; Death Search LGBTQ Pride History &amp; Culture Musicians Movies &amp; TV </span>\n",
       "<span style=\"color: #800000; text-decoration-color: #800000\">Athletes Artists Power &amp; Politics Business Scholars &amp; Educators Scientists Activists Notorious Figures BIO Buys </span>\n",
       "<span style=\"color: #800000; text-decoration-color: #800000\">Newsletter Your Privacy Choices Privacy Notice Terms Of Use Skip to Content Pride Month</span>\n",
       "\n",
       "<span style=\"color: #800000; text-decoration-color: #800000\">Title: Franz Liszt | Biography, Music, Compositions, Famous Works, Children ...</span>\n",
       "<span style=\"color: #800000; text-decoration-color: #800000\">Link: </span><span style=\"color: #800000; text-decoration-color: #800000; text-decoration: underline\">https://www.britannica.com/biography/Franz-Liszt</span>\n",
       "<span style=\"color: #800000; text-decoration-color: #800000\">Summary: Franz Liszt | Biography, Music, Compositions, Famous Works, Children, &amp; Facts | Britannica Search </span>\n",
       "<span style=\"color: #800000; text-decoration-color: #800000\">Britannica Click here to search Search Britannica Click here to search Subscribe Now Subscribe Login Home Games &amp; </span>\n",
       "<span style=\"color: #800000; text-decoration-color: #800000\">Quizzes History &amp; Society Science &amp; Tech Biographies Animals &amp; Nature Geography &amp; Travel</span>\n",
       "\n",
       "<span style=\"color: #800000; text-decoration-color: #800000\">Title: Franz Liszt - Wikipedia</span>\n",
       "<span style=\"color: #800000; text-decoration-color: #800000\">Link: </span><span style=\"color: #800000; text-decoration-color: #800000; text-decoration: underline\">https://en.wikipedia.org/wiki/Franz_Liszt</span>\n",
       "<span style=\"color: #800000; text-decoration-color: #800000\">Summary: Franz Liszt - Wikipedia Jump to content Main menu Main menu move to sidebar hide Navigation Main page </span>\n",
       "<span style=\"color: #800000; text-decoration-color: #800000\">Contents Current events Random article About Wikipedia Contact us Donate Contribute Help Learn to edit Community </span>\n",
       "<span style=\"color: #800000; text-decoration-color: #800000\">portal Recent changes Upload file Search Search Appearance Create account Log in Pers</span>\n",
       "\n",
       "<span style=\"color: #800000; text-decoration-color: #800000\">Title: Franz Liszt - World History Encyclopedia</span>\n",
       "<span style=\"color: #800000; text-decoration-color: #800000\">Link: </span><span style=\"color: #800000; text-decoration-color: #800000; text-decoration: underline\">https://www.worldhistory.org/Franz_Liszt/</span>\n",
       "<span style=\"color: #800000; text-decoration-color: #800000\">Summary: Franz Liszt - World History Encyclopedia Facebook Membership No ads Encyclopedia Index Timeline Maps Book </span>\n",
       "<span style=\"color: #800000; text-decoration-color: #800000\">Reviews Weights &amp; Measures Translations Education Teaching Materials Link Database Quizzes Primary Sources </span>\n",
       "<span style=\"color: #800000; text-decoration-color: #800000\">Collections School Subscription Media Media Library Audio Articles Podcast Youtube Chan</span>\n",
       "\n",
       "<span style=\"color: #800000; text-decoration-color: #800000\">Title: Franz Liszt Biography - History of Franz Liszt - CMUSE</span>\n",
       "<span style=\"color: #800000; text-decoration-color: #800000\">Link: </span><span style=\"color: #800000; text-decoration-color: #800000; text-decoration: underline\">https://www.cmuse.org/franz-liszt-biography/</span>\n",
       "<span style=\"color: #800000; text-decoration-color: #800000\">Summary: Franz Liszt Biography - History of Franz Liszt - CMUSE Skip to content Menu HOME CLASSICAL INSPIRATIONAL </span>\n",
       "<span style=\"color: #800000; text-decoration-color: #800000\">LISTS MUSIC PROMOTION MUSICIAN INTERVIEW CONTACT US Franz Liszt Biography – History of Franz Liszt Dec </span><span style=\"color: #800000; text-decoration-color: #800000; font-weight: bold\">18</span><span style=\"color: #800000; text-decoration-color: #800000\">, </span><span style=\"color: #800000; text-decoration-color: #800000; font-weight: bold\">2018</span><span style=\"color: #800000; text-decoration-color: #800000\"> Feb</span>\n",
       "<span style=\"color: #800000; text-decoration-color: #800000; font-weight: bold\">22</span><span style=\"color: #800000; text-decoration-color: #800000\">, </span><span style=\"color: #800000; text-decoration-color: #800000; font-weight: bold\">2018</span><span style=\"color: #800000; text-decoration-color: #800000\"> by CMUSE Franz Liszt Biography Franz Liszt </span><span style=\"color: #800000; text-decoration-color: #800000; font-weight: bold\">(</span><span style=\"color: #800000; text-decoration-color: #800000; font-weight: bold\">1811</span><span style=\"color: #800000; text-decoration-color: #800000\"> – </span><span style=\"color: #800000; text-decoration-color: #800000; font-weight: bold\">1886</span><span style=\"color: #800000; text-decoration-color: #800000; font-weight: bold\">)</span><span style=\"color: #800000; text-decoration-color: #800000\"> was a creativ</span>\n",
       "<span style=\"color: #800000; text-decoration-color: #800000\">        </span>\n",
       "</pre>\n"
      ]
     },
     "metadata": {}
    },
    {
     "output_type": "display_data",
     "data": {
      "text/plain": [
       "\u001B[32m...\u001B[0m\u001B[32m|\u001B[0m"
      ],
      "text/html": [
       "<pre style=\"white-space:pre;overflow-x:auto;line-height:normal;font-family:Menlo,'DejaVu Sans Mono',consolas,'Courier New',monospace\"><span style=\"color: #008000; text-decoration-color: #008000\">...|</span></pre>\n"
      ]
     },
     "metadata": {}
    },
    {
     "output_type": "stream",
     "name": "stdout",
     "text": [
      "\u001B[32m\u001B[32mDONE\u001B[32m Franz\u001B[32m Lis\u001B[32mzt\u001B[32m was\u001B[32m born\u001B[32m in\u001B[32m \u001B[32m181\u001B[32m1\u001B[32m."
     ]
    },
    {
     "output_type": "display_data",
     "data": {
      "text/plain": [
       "\n"
      ],
      "text/html": [
       "<pre style=\"white-space:pre;overflow-x:auto;line-height:normal;font-family:Menlo,'DejaVu Sans Mono',consolas,'Courier New',monospace\">\n",
       "</pre>\n"
      ]
     },
     "metadata": {}
    },
    {
     "output_type": "display_data",
     "data": {
      "text/plain": [
       "\u001B[33m...\u001B[0m|\u001B[1mStats:\u001B[0m \u001B[35mN_MSG\u001B[0m\u001B[35m=\u001B[0m\u001B[1;35m4\u001B[0m\u001B[35m, TOKENS: \u001B[0m\u001B[35min\u001B[0m\u001B[35m=\u001B[0m\u001B[1;35m1005\u001B[0m\u001B[35m, \u001B[0m\u001B[35mout\u001B[0m\u001B[35m=\u001B[0m\u001B[1;35m11\u001B[0m\u001B[35m, \u001B[0m\u001B[35mmax\u001B[0m\u001B[35m=\u001B[0m\u001B[1;35m200\u001B[0m\u001B[35m, \u001B[0m\u001B[35mctx\u001B[0m\u001B[35m=\u001B[0m\u001B[1;35m8192\u001B[0m\u001B[35m, COST: \u001B[0m\u001B[35mnow\u001B[0m\u001B[35m=$\u001B[0m\u001B[1;35m0.0000\u001B[0m\u001B[35m, \u001B[0m\u001B[35mcumul\u001B[0m\u001B[35m=$\u001B[0m\u001B[1;35m0.0000\u001B[0m\u001B[35m, \u001B[0m\u001B[35mtot\u001B[0m\u001B[35m=$\u001B[0m\u001B[1;35m0.0000\u001B[0m\u001B[35m \u001B[0m\n",
       "\u001B[1;35m(\u001B[0m\u001B[1;35mllama3-70b-\u001B[0m\u001B[1;35m8192\u001B[0m\u001B[1;35m)\u001B[0m\n"
      ],
      "text/html": [
       "<pre style=\"white-space:pre;overflow-x:auto;line-height:normal;font-family:Menlo,'DejaVu Sans Mono',consolas,'Courier New',monospace\"><span style=\"color: #808000; text-decoration-color: #808000\">...</span>|<span style=\"font-weight: bold\">Stats:</span> <span style=\"color: #800080; text-decoration-color: #800080\">N_MSG</span><span style=\"color: #800080; text-decoration-color: #800080\">=</span><span style=\"color: #800080; text-decoration-color: #800080; font-weight: bold\">4</span><span style=\"color: #800080; text-decoration-color: #800080\">, TOKENS: </span><span style=\"color: #800080; text-decoration-color: #800080\">in</span><span style=\"color: #800080; text-decoration-color: #800080\">=</span><span style=\"color: #800080; text-decoration-color: #800080; font-weight: bold\">1005</span><span style=\"color: #800080; text-decoration-color: #800080\">, </span><span style=\"color: #800080; text-decoration-color: #800080\">out</span><span style=\"color: #800080; text-decoration-color: #800080\">=</span><span style=\"color: #800080; text-decoration-color: #800080; font-weight: bold\">11</span><span style=\"color: #800080; text-decoration-color: #800080\">, </span><span style=\"color: #800080; text-decoration-color: #800080\">max</span><span style=\"color: #800080; text-decoration-color: #800080\">=</span><span style=\"color: #800080; text-decoration-color: #800080; font-weight: bold\">200</span><span style=\"color: #800080; text-decoration-color: #800080\">, </span><span style=\"color: #800080; text-decoration-color: #800080\">ctx</span><span style=\"color: #800080; text-decoration-color: #800080\">=</span><span style=\"color: #800080; text-decoration-color: #800080; font-weight: bold\">8192</span><span style=\"color: #800080; text-decoration-color: #800080\">, COST: </span><span style=\"color: #800080; text-decoration-color: #800080\">now</span><span style=\"color: #800080; text-decoration-color: #800080\">=$</span><span style=\"color: #800080; text-decoration-color: #800080; font-weight: bold\">0.0000</span><span style=\"color: #800080; text-decoration-color: #800080\">, </span><span style=\"color: #800080; text-decoration-color: #800080\">cumul</span><span style=\"color: #800080; text-decoration-color: #800080\">=$</span><span style=\"color: #800080; text-decoration-color: #800080; font-weight: bold\">0.0000</span><span style=\"color: #800080; text-decoration-color: #800080\">, </span><span style=\"color: #800080; text-decoration-color: #800080\">tot</span><span style=\"color: #800080; text-decoration-color: #800080\">=$</span><span style=\"color: #800080; text-decoration-color: #800080; font-weight: bold\">0.0000</span><span style=\"color: #800080; text-decoration-color: #800080\"> </span>\n",
       "<span style=\"color: #800080; text-decoration-color: #800080; font-weight: bold\">(llama3-70b-</span><span style=\"color: #800080; text-decoration-color: #800080; font-weight: bold\">8192</span><span style=\"color: #800080; text-decoration-color: #800080; font-weight: bold\">)</span>\n",
       "</pre>\n"
      ]
     },
     "metadata": {}
    },
    {
     "output_type": "display_data",
     "data": {
      "text/plain": [
       "\u001B[1;35m...\u001B[0m\u001B[1;35m|<<< Finished Agent Searcher \u001B[0m\u001B[1;35m(\u001B[0m\u001B[1;35m5\u001B[0m\u001B[1;35m)\u001B[0m\u001B[1;35m \u001B[0m\n"
      ],
      "text/html": [
       "<pre style=\"white-space:pre;overflow-x:auto;line-height:normal;font-family:Menlo,'DejaVu Sans Mono',consolas,'Courier New',monospace\"><span style=\"color: #800080; text-decoration-color: #800080; font-weight: bold\">...|&lt;&lt;&lt; Finished Agent Searcher (</span><span style=\"color: #800080; text-decoration-color: #800080; font-weight: bold\">5</span><span style=\"color: #800080; text-decoration-color: #800080; font-weight: bold\">) </span>\n",
       "</pre>\n"
      ]
     },
     "metadata": {}
    },
    {
     "output_type": "display_data",
     "data": {
      "text/plain": [],
      "text/html": [
       "<pre style=\"white-space:pre;overflow-x:auto;line-height:normal;font-family:Menlo,'DejaVu Sans Mono',consolas,'Courier New',monospace\"></pre>\n"
      ]
     },
     "metadata": {}
    },
    {
     "output_type": "stream",
     "name": "stdout",
     "text": [
      "\u001B[32m\u001B[32mNow\u001B[32m that\u001B[32m I\u001B[32m have\u001B[32m Lis\u001B[32mzt\u001B[32m's\u001B[32m birth\u001B[32m year\u001B[32m,\u001B[32m I\u001B[32m can\u001B[32m ask\u001B[32m the\u001B[32m next\u001B[32m question\u001B[32m:\n",
      "\n",
      "\u001B[32mWhat\u001B[32m is\u001B[32m the\u001B[32m birth\u001B[32m year\u001B[32m of\u001B[32m Richard\u001B[32m Wagner\u001B[32m?"
     ]
    },
    {
     "output_type": "display_data",
     "data": {
      "text/plain": [
       "\n"
      ],
      "text/html": [
       "<pre style=\"white-space:pre;overflow-x:auto;line-height:normal;font-family:Menlo,'DejaVu Sans Mono',consolas,'Courier New',monospace\">\n",
       "</pre>\n"
      ]
     },
     "metadata": {}
    },
    {
     "output_type": "display_data",
     "data": {
      "text/plain": [
       "\u001B[1mStats:\u001B[0m \u001B[35mN_MSG\u001B[0m\u001B[35m=\u001B[0m\u001B[1;35m4\u001B[0m\u001B[35m, TOKENS: \u001B[0m\u001B[35min\u001B[0m\u001B[35m=\u001B[0m\u001B[1;35m152\u001B[0m\u001B[35m, \u001B[0m\u001B[35mout\u001B[0m\u001B[35m=\u001B[0m\u001B[1;35m26\u001B[0m\u001B[35m, \u001B[0m\u001B[35mmax\u001B[0m\u001B[35m=\u001B[0m\u001B[1;35m200\u001B[0m\u001B[35m, \u001B[0m\u001B[35mctx\u001B[0m\u001B[35m=\u001B[0m\u001B[1;35m8192\u001B[0m\u001B[35m, COST: \u001B[0m\u001B[35mnow\u001B[0m\u001B[35m=$\u001B[0m\u001B[1;35m0.0000\u001B[0m\u001B[35m, \u001B[0m\u001B[35mcumul\u001B[0m\u001B[35m=$\u001B[0m\u001B[1;35m0.0000\u001B[0m\u001B[35m, \u001B[0m\u001B[35mtot\u001B[0m\u001B[35m=$\u001B[0m\u001B[1;35m0.0000\u001B[0m\u001B[35m \u001B[0m\n",
       "\u001B[1;35m(\u001B[0m\u001B[1;35mllama3-70b-\u001B[0m\u001B[1;35m8192\u001B[0m\u001B[1;35m)\u001B[0m\n"
      ],
      "text/html": [
       "<pre style=\"white-space:pre;overflow-x:auto;line-height:normal;font-family:Menlo,'DejaVu Sans Mono',consolas,'Courier New',monospace\"><span style=\"font-weight: bold\">Stats:</span> <span style=\"color: #800080; text-decoration-color: #800080\">N_MSG</span><span style=\"color: #800080; text-decoration-color: #800080\">=</span><span style=\"color: #800080; text-decoration-color: #800080; font-weight: bold\">4</span><span style=\"color: #800080; text-decoration-color: #800080\">, TOKENS: </span><span style=\"color: #800080; text-decoration-color: #800080\">in</span><span style=\"color: #800080; text-decoration-color: #800080\">=</span><span style=\"color: #800080; text-decoration-color: #800080; font-weight: bold\">152</span><span style=\"color: #800080; text-decoration-color: #800080\">, </span><span style=\"color: #800080; text-decoration-color: #800080\">out</span><span style=\"color: #800080; text-decoration-color: #800080\">=</span><span style=\"color: #800080; text-decoration-color: #800080; font-weight: bold\">26</span><span style=\"color: #800080; text-decoration-color: #800080\">, </span><span style=\"color: #800080; text-decoration-color: #800080\">max</span><span style=\"color: #800080; text-decoration-color: #800080\">=</span><span style=\"color: #800080; text-decoration-color: #800080; font-weight: bold\">200</span><span style=\"color: #800080; text-decoration-color: #800080\">, </span><span style=\"color: #800080; text-decoration-color: #800080\">ctx</span><span style=\"color: #800080; text-decoration-color: #800080\">=</span><span style=\"color: #800080; text-decoration-color: #800080; font-weight: bold\">8192</span><span style=\"color: #800080; text-decoration-color: #800080\">, COST: </span><span style=\"color: #800080; text-decoration-color: #800080\">now</span><span style=\"color: #800080; text-decoration-color: #800080\">=$</span><span style=\"color: #800080; text-decoration-color: #800080; font-weight: bold\">0.0000</span><span style=\"color: #800080; text-decoration-color: #800080\">, </span><span style=\"color: #800080; text-decoration-color: #800080\">cumul</span><span style=\"color: #800080; text-decoration-color: #800080\">=$</span><span style=\"color: #800080; text-decoration-color: #800080; font-weight: bold\">0.0000</span><span style=\"color: #800080; text-decoration-color: #800080\">, </span><span style=\"color: #800080; text-decoration-color: #800080\">tot</span><span style=\"color: #800080; text-decoration-color: #800080\">=$</span><span style=\"color: #800080; text-decoration-color: #800080; font-weight: bold\">0.0000</span><span style=\"color: #800080; text-decoration-color: #800080\"> </span>\n",
       "<span style=\"color: #800080; text-decoration-color: #800080; font-weight: bold\">(llama3-70b-</span><span style=\"color: #800080; text-decoration-color: #800080; font-weight: bold\">8192</span><span style=\"color: #800080; text-decoration-color: #800080; font-weight: bold\">)</span>\n",
       "</pre>\n"
      ]
     },
     "metadata": {}
    },
    {
     "output_type": "display_data",
     "data": {
      "text/plain": [
       "\u001B[1;35m...\u001B[0m\u001B[1;35m|>>> Starting Agent Searcher \u001B[0m\u001B[1;35m(\u001B[0m\u001B[1;35m5\u001B[0m\u001B[1;35m)\u001B[0m\u001B[1;35m llama3-70b-\u001B[0m\u001B[1;35m8192\u001B[0m\u001B[1;35m \u001B[0m\n"
      ],
      "text/html": [
       "<pre style=\"white-space:pre;overflow-x:auto;line-height:normal;font-family:Menlo,'DejaVu Sans Mono',consolas,'Courier New',monospace\"><span style=\"color: #800080; text-decoration-color: #800080; font-weight: bold\">...|&gt;&gt;&gt; Starting Agent Searcher (</span><span style=\"color: #800080; text-decoration-color: #800080; font-weight: bold\">5</span><span style=\"color: #800080; text-decoration-color: #800080; font-weight: bold\">) llama3-70b-</span><span style=\"color: #800080; text-decoration-color: #800080; font-weight: bold\">8192</span><span style=\"color: #800080; text-decoration-color: #800080; font-weight: bold\"> </span>\n",
       "</pre>\n"
      ]
     },
     "metadata": {}
    },
    {
     "output_type": "display_data",
     "data": {
      "text/plain": [
       "\u001B[32m...\u001B[0m\u001B[32m|\u001B[0m"
      ],
      "text/html": [
       "<pre style=\"white-space:pre;overflow-x:auto;line-height:normal;font-family:Menlo,'DejaVu Sans Mono',consolas,'Courier New',monospace\"><span style=\"color: #008000; text-decoration-color: #008000\">...|</span></pre>\n"
      ]
     },
     "metadata": {}
    },
    {
     "output_type": "stream",
     "name": "stdout",
     "text": [
      "\u001B[32m\u001B[32mTO\u001B[32mOL\u001B[32m:\u001B[32m \n",
      "\u001B[32m{\n",
      "\u001B[32m   \u001B[32m \"\u001B[32mrequest\u001B[32m\":\u001B[32m \"\u001B[32mduck\u001B[32mduck\u001B[32mgo\u001B[32m_search\u001B[32m\",\n",
      "\u001B[32m   \u001B[32m \"\u001B[32mquery\u001B[32m\":\u001B[32m \"\u001B[32mWhat\u001B[32m is\u001B[32m the\u001B[32m birth\u001B[32m year\u001B[32m of\u001B[32m Richard\u001B[32m Wagner\u001B[32m?\",\n",
      "\u001B[32m   \u001B[32m \"\u001B[32mnum\u001B[32m_results\u001B[32m\":\u001B[32m \u001B[32m5\u001B[32m\n",
      "\u001B[32m}"
     ]
    },
    {
     "output_type": "display_data",
     "data": {
      "text/plain": [
       "\n"
      ],
      "text/html": [
       "<pre style=\"white-space:pre;overflow-x:auto;line-height:normal;font-family:Menlo,'DejaVu Sans Mono',consolas,'Courier New',monospace\">\n",
       "</pre>\n"
      ]
     },
     "metadata": {}
    },
    {
     "output_type": "display_data",
     "data": {
      "text/plain": [
       "\u001B[33m...\u001B[0m|\u001B[1mStats:\u001B[0m \u001B[35mN_MSG\u001B[0m\u001B[35m=\u001B[0m\u001B[1;35m6\u001B[0m\u001B[35m, TOKENS: \u001B[0m\u001B[35min\u001B[0m\u001B[35m=\u001B[0m\u001B[1;35m1042\u001B[0m\u001B[35m, \u001B[0m\u001B[35mout\u001B[0m\u001B[35m=\u001B[0m\u001B[1;35m38\u001B[0m\u001B[35m, \u001B[0m\u001B[35mmax\u001B[0m\u001B[35m=\u001B[0m\u001B[1;35m200\u001B[0m\u001B[35m, \u001B[0m\u001B[35mctx\u001B[0m\u001B[35m=\u001B[0m\u001B[1;35m8192\u001B[0m\u001B[35m, COST: \u001B[0m\u001B[35mnow\u001B[0m\u001B[35m=$\u001B[0m\u001B[1;35m0.0000\u001B[0m\u001B[35m, \u001B[0m\u001B[35mcumul\u001B[0m\u001B[35m=$\u001B[0m\u001B[1;35m0.0000\u001B[0m\u001B[35m, \u001B[0m\u001B[35mtot\u001B[0m\u001B[35m=$\u001B[0m\u001B[1;35m0.0000\u001B[0m\u001B[35m \u001B[0m\n",
       "\u001B[1;35m(\u001B[0m\u001B[1;35mllama3-70b-\u001B[0m\u001B[1;35m8192\u001B[0m\u001B[1;35m)\u001B[0m\n"
      ],
      "text/html": [
       "<pre style=\"white-space:pre;overflow-x:auto;line-height:normal;font-family:Menlo,'DejaVu Sans Mono',consolas,'Courier New',monospace\"><span style=\"color: #808000; text-decoration-color: #808000\">...</span>|<span style=\"font-weight: bold\">Stats:</span> <span style=\"color: #800080; text-decoration-color: #800080\">N_MSG</span><span style=\"color: #800080; text-decoration-color: #800080\">=</span><span style=\"color: #800080; text-decoration-color: #800080; font-weight: bold\">6</span><span style=\"color: #800080; text-decoration-color: #800080\">, TOKENS: </span><span style=\"color: #800080; text-decoration-color: #800080\">in</span><span style=\"color: #800080; text-decoration-color: #800080\">=</span><span style=\"color: #800080; text-decoration-color: #800080; font-weight: bold\">1042</span><span style=\"color: #800080; text-decoration-color: #800080\">, </span><span style=\"color: #800080; text-decoration-color: #800080\">out</span><span style=\"color: #800080; text-decoration-color: #800080\">=</span><span style=\"color: #800080; text-decoration-color: #800080; font-weight: bold\">38</span><span style=\"color: #800080; text-decoration-color: #800080\">, </span><span style=\"color: #800080; text-decoration-color: #800080\">max</span><span style=\"color: #800080; text-decoration-color: #800080\">=</span><span style=\"color: #800080; text-decoration-color: #800080; font-weight: bold\">200</span><span style=\"color: #800080; text-decoration-color: #800080\">, </span><span style=\"color: #800080; text-decoration-color: #800080\">ctx</span><span style=\"color: #800080; text-decoration-color: #800080\">=</span><span style=\"color: #800080; text-decoration-color: #800080; font-weight: bold\">8192</span><span style=\"color: #800080; text-decoration-color: #800080\">, COST: </span><span style=\"color: #800080; text-decoration-color: #800080\">now</span><span style=\"color: #800080; text-decoration-color: #800080\">=$</span><span style=\"color: #800080; text-decoration-color: #800080; font-weight: bold\">0.0000</span><span style=\"color: #800080; text-decoration-color: #800080\">, </span><span style=\"color: #800080; text-decoration-color: #800080\">cumul</span><span style=\"color: #800080; text-decoration-color: #800080\">=$</span><span style=\"color: #800080; text-decoration-color: #800080; font-weight: bold\">0.0000</span><span style=\"color: #800080; text-decoration-color: #800080\">, </span><span style=\"color: #800080; text-decoration-color: #800080\">tot</span><span style=\"color: #800080; text-decoration-color: #800080\">=$</span><span style=\"color: #800080; text-decoration-color: #800080; font-weight: bold\">0.0000</span><span style=\"color: #800080; text-decoration-color: #800080\"> </span>\n",
       "<span style=\"color: #800080; text-decoration-color: #800080; font-weight: bold\">(llama3-70b-</span><span style=\"color: #800080; text-decoration-color: #800080; font-weight: bold\">8192</span><span style=\"color: #800080; text-decoration-color: #800080; font-weight: bold\">)</span>\n",
       "</pre>\n"
      ]
     },
     "metadata": {}
    },
    {
     "output_type": "display_data",
     "data": {
      "text/plain": [
       "\u001B[31m...\u001B[0m\u001B[31m|\u001B[0m"
      ],
      "text/html": [
       "<pre style=\"white-space:pre;overflow-x:auto;line-height:normal;font-family:Menlo,'DejaVu Sans Mono',consolas,'Courier New',monospace\"><span style=\"color: #800000; text-decoration-color: #800000\">...|</span></pre>\n"
      ]
     },
     "metadata": {}
    },
    {
     "output_type": "display_data",
     "data": {
      "text/plain": [
       "\u001B[31mAgent: \u001B[0m\n",
       "\u001B[31m        BELOW ARE THE RESULTS FROM THE WEB SEARCH. USE THESE TO COMPOSE YOUR RESPONSE:\u001B[0m\n",
       "\u001B[31m        Title: Richard Wagner | Biography, Music, Compositions, Operas, & Facts\u001B[0m\n",
       "\u001B[31mLink: \u001B[0m\u001B[4;31mhttps://www.britannica.com/biography/Richard-Wagner-German-composer\u001B[0m\n",
       "\u001B[31mSummary: Richard Wagner | Biography, Music, Compositions, Operas, & Facts | Britannica Search Britannica Click here\u001B[0m\n",
       "\u001B[31mto search Search Britannica Click here to search Subscribe Now Subscribe Login Home Games & Quizzes History & \u001B[0m\n",
       "\u001B[31mSociety Science & Tech Biographies Animals & Nature Geography & Travel Arts & Cultu\u001B[0m\n",
       "\n",
       "\u001B[31mTitle: Richard Wagner - Wikipedia\u001B[0m\n",
       "\u001B[31mLink: \u001B[0m\u001B[4;31mhttps://en.wikipedia.org/wiki/Richard_Wagner\u001B[0m\n",
       "\u001B[31mSummary: Richard Wagner - Wikipedia Jump to content Main menu Main menu move to sidebar hide Navigation Main page \u001B[0m\n",
       "\u001B[31mContents Current events Random article About Wikipedia Contact us Donate Contribute Help Learn to edit Community \u001B[0m\n",
       "\u001B[31mportal Recent changes Upload file Search Search Appearance Create account Log in P\u001B[0m\n",
       "\n",
       "\u001B[31mTitle: Richard Wagner: Biography, Composer, Anti-Semitic Writings\u001B[0m\n",
       "\u001B[31mLink: \u001B[0m\u001B[4;31mhttps://www.biography.com/musicians/richard-wagner\u001B[0m\n",
       "\u001B[31mSummary: Richard Wagner: Biography, Composer, Anti-Semitic Writings Search LGBTQ Pride History & Culture Musicians \u001B[0m\n",
       "\u001B[31mMovies & TV Athletes Artists Power & Politics Business Scholars & Educators Scientists Activists Notorious Figures \u001B[0m\n",
       "\u001B[31mBIO Buys Newsletter Your Privacy Choices Privacy Notice Terms Of Use Skip to Co\u001B[0m\n",
       "\n",
       "\u001B[31mTitle: Richard Wagner Biography - life, family, death, history, mother \u001B[0m\u001B[31m...\u001B[0m\n",
       "\u001B[31mLink: \u001B[0m\u001B[4;31mhttps://www.notablebiographies.com/Tu-We/Wagner-Richard.html\u001B[0m\n",
       "\u001B[31mSummary: Richard Wagner Biography - life, family, death, history, mother, information, born, siblings, time, year \u001B[0m\n",
       "\u001B[31mToggle navigation World Biography Tu-We Richard Wagner Biography Richard Wagner Biography Born: May \u001B[0m\u001B[1;31m22\u001B[0m\u001B[31m, \u001B[0m\u001B[1;31m1813\u001B[0m\u001B[31m \u001B[0m\n",
       "\u001B[31mLiepzig, Germany Died: February \u001B[0m\u001B[1;31m13\u001B[0m\u001B[31m, \u001B[0m\u001B[1;31m1883\u001B[0m\u001B[31m Venice, Italy German composer The German oper\u001B[0m\n",
       "\n",
       "\u001B[31mTitle: Richard Wagner - World History Encyclopedia\u001B[0m\n",
       "\u001B[31mLink: \u001B[0m\u001B[4;31mhttps://www.worldhistory.org/Richard_Wagner/\u001B[0m\n",
       "\u001B[31mSummary: Richard Wagner - World History Encyclopedia Facebook Membership No ads Encyclopedia Index Timeline Maps \u001B[0m\n",
       "\u001B[31mBook Reviews Weights & Measures Translations Education Teaching Materials Link Database Quizzes Primary Sources \u001B[0m\n",
       "\u001B[31mCollections School Subscription Media Media Library Audio Articles Podcast Youtube C\u001B[0m\n",
       "\u001B[31m        \u001B[0m\n"
      ],
      "text/html": [
       "<pre style=\"white-space:pre;overflow-x:auto;line-height:normal;font-family:Menlo,'DejaVu Sans Mono',consolas,'Courier New',monospace\"><span style=\"color: #800000; text-decoration-color: #800000\">Agent: </span>\n",
       "<span style=\"color: #800000; text-decoration-color: #800000\">        BELOW ARE THE RESULTS FROM THE WEB SEARCH. USE THESE TO COMPOSE YOUR RESPONSE:</span>\n",
       "<span style=\"color: #800000; text-decoration-color: #800000\">        Title: Richard Wagner | Biography, Music, Compositions, Operas, &amp; Facts</span>\n",
       "<span style=\"color: #800000; text-decoration-color: #800000\">Link: </span><span style=\"color: #800000; text-decoration-color: #800000; text-decoration: underline\">https://www.britannica.com/biography/Richard-Wagner-German-composer</span>\n",
       "<span style=\"color: #800000; text-decoration-color: #800000\">Summary: Richard Wagner | Biography, Music, Compositions, Operas, &amp; Facts | Britannica Search Britannica Click here</span>\n",
       "<span style=\"color: #800000; text-decoration-color: #800000\">to search Search Britannica Click here to search Subscribe Now Subscribe Login Home Games &amp; Quizzes History &amp; </span>\n",
       "<span style=\"color: #800000; text-decoration-color: #800000\">Society Science &amp; Tech Biographies Animals &amp; Nature Geography &amp; Travel Arts &amp; Cultu</span>\n",
       "\n",
       "<span style=\"color: #800000; text-decoration-color: #800000\">Title: Richard Wagner - Wikipedia</span>\n",
       "<span style=\"color: #800000; text-decoration-color: #800000\">Link: </span><span style=\"color: #800000; text-decoration-color: #800000; text-decoration: underline\">https://en.wikipedia.org/wiki/Richard_Wagner</span>\n",
       "<span style=\"color: #800000; text-decoration-color: #800000\">Summary: Richard Wagner - Wikipedia Jump to content Main menu Main menu move to sidebar hide Navigation Main page </span>\n",
       "<span style=\"color: #800000; text-decoration-color: #800000\">Contents Current events Random article About Wikipedia Contact us Donate Contribute Help Learn to edit Community </span>\n",
       "<span style=\"color: #800000; text-decoration-color: #800000\">portal Recent changes Upload file Search Search Appearance Create account Log in P</span>\n",
       "\n",
       "<span style=\"color: #800000; text-decoration-color: #800000\">Title: Richard Wagner: Biography, Composer, Anti-Semitic Writings</span>\n",
       "<span style=\"color: #800000; text-decoration-color: #800000\">Link: </span><span style=\"color: #800000; text-decoration-color: #800000; text-decoration: underline\">https://www.biography.com/musicians/richard-wagner</span>\n",
       "<span style=\"color: #800000; text-decoration-color: #800000\">Summary: Richard Wagner: Biography, Composer, Anti-Semitic Writings Search LGBTQ Pride History &amp; Culture Musicians </span>\n",
       "<span style=\"color: #800000; text-decoration-color: #800000\">Movies &amp; TV Athletes Artists Power &amp; Politics Business Scholars &amp; Educators Scientists Activists Notorious Figures </span>\n",
       "<span style=\"color: #800000; text-decoration-color: #800000\">BIO Buys Newsletter Your Privacy Choices Privacy Notice Terms Of Use Skip to Co</span>\n",
       "\n",
       "<span style=\"color: #800000; text-decoration-color: #800000\">Title: Richard Wagner Biography - life, family, death, history, mother ...</span>\n",
       "<span style=\"color: #800000; text-decoration-color: #800000\">Link: </span><span style=\"color: #800000; text-decoration-color: #800000; text-decoration: underline\">https://www.notablebiographies.com/Tu-We/Wagner-Richard.html</span>\n",
       "<span style=\"color: #800000; text-decoration-color: #800000\">Summary: Richard Wagner Biography - life, family, death, history, mother, information, born, siblings, time, year </span>\n",
       "<span style=\"color: #800000; text-decoration-color: #800000\">Toggle navigation World Biography Tu-We Richard Wagner Biography Richard Wagner Biography Born: May </span><span style=\"color: #800000; text-decoration-color: #800000; font-weight: bold\">22</span><span style=\"color: #800000; text-decoration-color: #800000\">, </span><span style=\"color: #800000; text-decoration-color: #800000; font-weight: bold\">1813</span><span style=\"color: #800000; text-decoration-color: #800000\"> </span>\n",
       "<span style=\"color: #800000; text-decoration-color: #800000\">Liepzig, Germany Died: February </span><span style=\"color: #800000; text-decoration-color: #800000; font-weight: bold\">13</span><span style=\"color: #800000; text-decoration-color: #800000\">, </span><span style=\"color: #800000; text-decoration-color: #800000; font-weight: bold\">1883</span><span style=\"color: #800000; text-decoration-color: #800000\"> Venice, Italy German composer The German oper</span>\n",
       "\n",
       "<span style=\"color: #800000; text-decoration-color: #800000\">Title: Richard Wagner - World History Encyclopedia</span>\n",
       "<span style=\"color: #800000; text-decoration-color: #800000\">Link: </span><span style=\"color: #800000; text-decoration-color: #800000; text-decoration: underline\">https://www.worldhistory.org/Richard_Wagner/</span>\n",
       "<span style=\"color: #800000; text-decoration-color: #800000\">Summary: Richard Wagner - World History Encyclopedia Facebook Membership No ads Encyclopedia Index Timeline Maps </span>\n",
       "<span style=\"color: #800000; text-decoration-color: #800000\">Book Reviews Weights &amp; Measures Translations Education Teaching Materials Link Database Quizzes Primary Sources </span>\n",
       "<span style=\"color: #800000; text-decoration-color: #800000\">Collections School Subscription Media Media Library Audio Articles Podcast Youtube C</span>\n",
       "<span style=\"color: #800000; text-decoration-color: #800000\">        </span>\n",
       "</pre>\n"
      ]
     },
     "metadata": {}
    },
    {
     "output_type": "display_data",
     "data": {
      "text/plain": [
       "\u001B[32m...\u001B[0m\u001B[32m|\u001B[0m"
      ],
      "text/html": [
       "<pre style=\"white-space:pre;overflow-x:auto;line-height:normal;font-family:Menlo,'DejaVu Sans Mono',consolas,'Courier New',monospace\"><span style=\"color: #008000; text-decoration-color: #008000\">...|</span></pre>\n"
      ]
     },
     "metadata": {}
    },
    {
     "output_type": "stream",
     "name": "stdout",
     "text": [
      "\u001B[32m\u001B[32mDONE\u001B[32m Richard\u001B[32m Wagner\u001B[32m was\u001B[32m born\u001B[32m in\u001B[32m \u001B[32m181\u001B[32m3\u001B[32m."
     ]
    },
    {
     "output_type": "display_data",
     "data": {
      "text/plain": [
       "\n"
      ],
      "text/html": [
       "<pre style=\"white-space:pre;overflow-x:auto;line-height:normal;font-family:Menlo,'DejaVu Sans Mono',consolas,'Courier New',monospace\">\n",
       "</pre>\n"
      ]
     },
     "metadata": {}
    },
    {
     "output_type": "display_data",
     "data": {
      "text/plain": [
       "\u001B[33m...\u001B[0m|\u001B[1mStats:\u001B[0m \u001B[35mN_MSG\u001B[0m\u001B[35m=\u001B[0m\u001B[1;35m8\u001B[0m\u001B[35m, TOKENS: \u001B[0m\u001B[35min\u001B[0m\u001B[35m=\u001B[0m\u001B[1;35m1541\u001B[0m\u001B[35m, \u001B[0m\u001B[35mout\u001B[0m\u001B[35m=\u001B[0m\u001B[1;35m10\u001B[0m\u001B[35m, \u001B[0m\u001B[35mmax\u001B[0m\u001B[35m=\u001B[0m\u001B[1;35m200\u001B[0m\u001B[35m, \u001B[0m\u001B[35mctx\u001B[0m\u001B[35m=\u001B[0m\u001B[1;35m8192\u001B[0m\u001B[35m, COST: \u001B[0m\u001B[35mnow\u001B[0m\u001B[35m=$\u001B[0m\u001B[1;35m0.0000\u001B[0m\u001B[35m, \u001B[0m\u001B[35mcumul\u001B[0m\u001B[35m=$\u001B[0m\u001B[1;35m0.0000\u001B[0m\u001B[35m, \u001B[0m\u001B[35mtot\u001B[0m\u001B[35m=$\u001B[0m\u001B[1;35m0.0000\u001B[0m\u001B[35m \u001B[0m\n",
       "\u001B[1;35m(\u001B[0m\u001B[1;35mllama3-70b-\u001B[0m\u001B[1;35m8192\u001B[0m\u001B[1;35m)\u001B[0m\n"
      ],
      "text/html": [
       "<pre style=\"white-space:pre;overflow-x:auto;line-height:normal;font-family:Menlo,'DejaVu Sans Mono',consolas,'Courier New',monospace\"><span style=\"color: #808000; text-decoration-color: #808000\">...</span>|<span style=\"font-weight: bold\">Stats:</span> <span style=\"color: #800080; text-decoration-color: #800080\">N_MSG</span><span style=\"color: #800080; text-decoration-color: #800080\">=</span><span style=\"color: #800080; text-decoration-color: #800080; font-weight: bold\">8</span><span style=\"color: #800080; text-decoration-color: #800080\">, TOKENS: </span><span style=\"color: #800080; text-decoration-color: #800080\">in</span><span style=\"color: #800080; text-decoration-color: #800080\">=</span><span style=\"color: #800080; text-decoration-color: #800080; font-weight: bold\">1541</span><span style=\"color: #800080; text-decoration-color: #800080\">, </span><span style=\"color: #800080; text-decoration-color: #800080\">out</span><span style=\"color: #800080; text-decoration-color: #800080\">=</span><span style=\"color: #800080; text-decoration-color: #800080; font-weight: bold\">10</span><span style=\"color: #800080; text-decoration-color: #800080\">, </span><span style=\"color: #800080; text-decoration-color: #800080\">max</span><span style=\"color: #800080; text-decoration-color: #800080\">=</span><span style=\"color: #800080; text-decoration-color: #800080; font-weight: bold\">200</span><span style=\"color: #800080; text-decoration-color: #800080\">, </span><span style=\"color: #800080; text-decoration-color: #800080\">ctx</span><span style=\"color: #800080; text-decoration-color: #800080\">=</span><span style=\"color: #800080; text-decoration-color: #800080; font-weight: bold\">8192</span><span style=\"color: #800080; text-decoration-color: #800080\">, COST: </span><span style=\"color: #800080; text-decoration-color: #800080\">now</span><span style=\"color: #800080; text-decoration-color: #800080\">=$</span><span style=\"color: #800080; text-decoration-color: #800080; font-weight: bold\">0.0000</span><span style=\"color: #800080; text-decoration-color: #800080\">, </span><span style=\"color: #800080; text-decoration-color: #800080\">cumul</span><span style=\"color: #800080; text-decoration-color: #800080\">=$</span><span style=\"color: #800080; text-decoration-color: #800080; font-weight: bold\">0.0000</span><span style=\"color: #800080; text-decoration-color: #800080\">, </span><span style=\"color: #800080; text-decoration-color: #800080\">tot</span><span style=\"color: #800080; text-decoration-color: #800080\">=$</span><span style=\"color: #800080; text-decoration-color: #800080; font-weight: bold\">0.0000</span><span style=\"color: #800080; text-decoration-color: #800080\"> </span>\n",
       "<span style=\"color: #800080; text-decoration-color: #800080; font-weight: bold\">(llama3-70b-</span><span style=\"color: #800080; text-decoration-color: #800080; font-weight: bold\">8192</span><span style=\"color: #800080; text-decoration-color: #800080; font-weight: bold\">)</span>\n",
       "</pre>\n"
      ]
     },
     "metadata": {}
    },
    {
     "output_type": "display_data",
     "data": {
      "text/plain": [
       "\u001B[1;35m...\u001B[0m\u001B[1;35m|<<< Finished Agent Searcher \u001B[0m\u001B[1;35m(\u001B[0m\u001B[1;35m9\u001B[0m\u001B[1;35m)\u001B[0m\u001B[1;35m \u001B[0m\n"
      ],
      "text/html": [
       "<pre style=\"white-space:pre;overflow-x:auto;line-height:normal;font-family:Menlo,'DejaVu Sans Mono',consolas,'Courier New',monospace\"><span style=\"color: #800080; text-decoration-color: #800080; font-weight: bold\">...|&lt;&lt;&lt; Finished Agent Searcher (</span><span style=\"color: #800080; text-decoration-color: #800080; font-weight: bold\">9</span><span style=\"color: #800080; text-decoration-color: #800080; font-weight: bold\">) </span>\n",
       "</pre>\n"
      ]
     },
     "metadata": {}
    },
    {
     "output_type": "display_data",
     "data": {
      "text/plain": [],
      "text/html": [
       "<pre style=\"white-space:pre;overflow-x:auto;line-height:normal;font-family:Menlo,'DejaVu Sans Mono',consolas,'Courier New',monospace\"></pre>\n"
      ]
     },
     "metadata": {}
    },
    {
     "output_type": "stream",
     "name": "stdout",
     "text": [
      "\u001B[32m\u001B[32mNow\u001B[32m that\u001B[32m I\u001B[32m have\u001B[32m both\u001B[32m birth\u001B[32m years\u001B[32m,\u001B[32m I\u001B[32m can\u001B[32m answer\u001B[32m the\u001B[32m original\u001B[32m question\u001B[32m:\n",
      "\n",
      "\u001B[32mDONE\u001B[32m\n",
      "\n",
      "\u001B[32mFran\u001B[32mz\u001B[32m Lis\u001B[32mzt\u001B[32m was\u001B[32m born\u001B[32m before\u001B[32m Richard\u001B[32m Wagner\u001B[32m."
     ]
    },
    {
     "output_type": "display_data",
     "data": {
      "text/plain": [
       "\n"
      ],
      "text/html": [
       "<pre style=\"white-space:pre;overflow-x:auto;line-height:normal;font-family:Menlo,'DejaVu Sans Mono',consolas,'Courier New',monospace\">\n",
       "</pre>\n"
      ]
     },
     "metadata": {}
    },
    {
     "output_type": "display_data",
     "data": {
      "text/plain": [
       "\u001B[1mStats:\u001B[0m \u001B[35mN_MSG\u001B[0m\u001B[35m=\u001B[0m\u001B[1;35m6\u001B[0m\u001B[35m, TOKENS: \u001B[0m\u001B[35min\u001B[0m\u001B[35m=\u001B[0m\u001B[1;35m187\u001B[0m\u001B[35m, \u001B[0m\u001B[35mout\u001B[0m\u001B[35m=\u001B[0m\u001B[1;35m27\u001B[0m\u001B[35m, \u001B[0m\u001B[35mmax\u001B[0m\u001B[35m=\u001B[0m\u001B[1;35m200\u001B[0m\u001B[35m, \u001B[0m\u001B[35mctx\u001B[0m\u001B[35m=\u001B[0m\u001B[1;35m8192\u001B[0m\u001B[35m, COST: \u001B[0m\u001B[35mnow\u001B[0m\u001B[35m=$\u001B[0m\u001B[1;35m0.0000\u001B[0m\u001B[35m, \u001B[0m\u001B[35mcumul\u001B[0m\u001B[35m=$\u001B[0m\u001B[1;35m0.0000\u001B[0m\u001B[35m, \u001B[0m\u001B[35mtot\u001B[0m\u001B[35m=$\u001B[0m\u001B[1;35m0.0000\u001B[0m\u001B[35m \u001B[0m\n",
       "\u001B[1;35m(\u001B[0m\u001B[1;35mllama3-70b-\u001B[0m\u001B[1;35m8192\u001B[0m\u001B[1;35m)\u001B[0m\n"
      ],
      "text/html": [
       "<pre style=\"white-space:pre;overflow-x:auto;line-height:normal;font-family:Menlo,'DejaVu Sans Mono',consolas,'Courier New',monospace\"><span style=\"font-weight: bold\">Stats:</span> <span style=\"color: #800080; text-decoration-color: #800080\">N_MSG</span><span style=\"color: #800080; text-decoration-color: #800080\">=</span><span style=\"color: #800080; text-decoration-color: #800080; font-weight: bold\">6</span><span style=\"color: #800080; text-decoration-color: #800080\">, TOKENS: </span><span style=\"color: #800080; text-decoration-color: #800080\">in</span><span style=\"color: #800080; text-decoration-color: #800080\">=</span><span style=\"color: #800080; text-decoration-color: #800080; font-weight: bold\">187</span><span style=\"color: #800080; text-decoration-color: #800080\">, </span><span style=\"color: #800080; text-decoration-color: #800080\">out</span><span style=\"color: #800080; text-decoration-color: #800080\">=</span><span style=\"color: #800080; text-decoration-color: #800080; font-weight: bold\">27</span><span style=\"color: #800080; text-decoration-color: #800080\">, </span><span style=\"color: #800080; text-decoration-color: #800080\">max</span><span style=\"color: #800080; text-decoration-color: #800080\">=</span><span style=\"color: #800080; text-decoration-color: #800080; font-weight: bold\">200</span><span style=\"color: #800080; text-decoration-color: #800080\">, </span><span style=\"color: #800080; text-decoration-color: #800080\">ctx</span><span style=\"color: #800080; text-decoration-color: #800080\">=</span><span style=\"color: #800080; text-decoration-color: #800080; font-weight: bold\">8192</span><span style=\"color: #800080; text-decoration-color: #800080\">, COST: </span><span style=\"color: #800080; text-decoration-color: #800080\">now</span><span style=\"color: #800080; text-decoration-color: #800080\">=$</span><span style=\"color: #800080; text-decoration-color: #800080; font-weight: bold\">0.0000</span><span style=\"color: #800080; text-decoration-color: #800080\">, </span><span style=\"color: #800080; text-decoration-color: #800080\">cumul</span><span style=\"color: #800080; text-decoration-color: #800080\">=$</span><span style=\"color: #800080; text-decoration-color: #800080; font-weight: bold\">0.0000</span><span style=\"color: #800080; text-decoration-color: #800080\">, </span><span style=\"color: #800080; text-decoration-color: #800080\">tot</span><span style=\"color: #800080; text-decoration-color: #800080\">=$</span><span style=\"color: #800080; text-decoration-color: #800080; font-weight: bold\">0.0000</span><span style=\"color: #800080; text-decoration-color: #800080\"> </span>\n",
       "<span style=\"color: #800080; text-decoration-color: #800080; font-weight: bold\">(llama3-70b-</span><span style=\"color: #800080; text-decoration-color: #800080; font-weight: bold\">8192</span><span style=\"color: #800080; text-decoration-color: #800080; font-weight: bold\">)</span>\n",
       "</pre>\n"
      ]
     },
     "metadata": {}
    },
    {
     "output_type": "display_data",
     "data": {
      "text/plain": [
       "\u001B[35mBye, hope this was useful!\u001B[0m\n"
      ],
      "text/html": [
       "<pre style=\"white-space:pre;overflow-x:auto;line-height:normal;font-family:Menlo,'DejaVu Sans Mono',consolas,'Courier New',monospace\"><span style=\"color: #800080; text-decoration-color: #800080\">Bye, hope this was useful!</span>\n",
       "</pre>\n"
      ]
     },
     "metadata": {}
    },
    {
     "output_type": "display_data",
     "data": {
      "text/plain": [
       "\u001B[1;35m<<< Finished Agent Assistant \u001B[0m\u001B[1;35m(\u001B[0m\u001B[1;35m7\u001B[0m\u001B[1;35m)\u001B[0m\u001B[1;35m \u001B[0m\n"
      ],
      "text/html": [
       "<pre style=\"white-space:pre;overflow-x:auto;line-height:normal;font-family:Menlo,'DejaVu Sans Mono',consolas,'Courier New',monospace\"><span style=\"color: #800080; text-decoration-color: #800080; font-weight: bold\">&lt;&lt;&lt; Finished Agent Assistant (</span><span style=\"color: #800080; text-decoration-color: #800080; font-weight: bold\">7</span><span style=\"color: #800080; text-decoration-color: #800080; font-weight: bold\">) </span>\n",
       "</pre>\n"
      ]
     },
     "metadata": {}
    },
    {
     "output_type": "execute_result",
     "data": {
      "text/plain": [
       "ChatDocument(content='Now that I have both birth years, I can answer the original question:\\n\\n\\n\\nFranz Liszt was born before Richard Wagner.', metadata=ChatDocMetaData(source='User', is_chunk=False, id='d09dc79b-91bc-44a2-9f89-30ea6a112874', window_ids=[], parent_id='8ac09d80-af02-4586-b07e-0029ac9920f4', child_id='', agent_id='default=PydanticUndefined default_factory=<function Agent.<lambda> at 0x7ad76424b7f0> extra={}', msg_idx=-1, sender=<Entity.USER: 'User'>, tool_ids=[], block=None, sender_name='Assistant', recipient='', usage=None, cached=False, displayed=False, has_citation=False, status=<StatusCode.DONE: 'DONE'>), function_call=None, tool_messages=[], attachment=None)"
      ]
     },
     "metadata": {},
     "execution_count": 7
    }
   ]
  },
  {
   "cell_type": "code",
   "source": [],
   "metadata": {
    "id": "0N49j0pxUDw6"
   },
   "execution_count": null,
   "outputs": []
  }
 ]
}
