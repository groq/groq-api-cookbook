{
  "cells": [
    {
      "cell_type": "markdown",
      "metadata": {
        "id": "4F_Nc2bBZ8AG"
      },
      "source": [
        "# Creating an AI newsletter assistant with Composio and Groq"
      ]
    },
    {
      "cell_type": "markdown",
      "metadata": {
        "id": "cHX2G87CaCcG"
      },
      "source": [
        "This notebook demonstrates how to easily connect AI agents to external applications like Gmail, Slack, GitHub and many more using Composio. More specifically, we'll be setting up an assistant that will automatically look for email newsletters in our inbox, summarize and enrich their content with contextually relevant information, and then send these summaries to us in a well-formatted and easy to digest email."
      ]
    },
    {
      "cell_type": "markdown",
      "metadata": {
        "id": "YD_1jZdzaE7e"
      },
      "source": [
        "### About Composio\n",
        "\n",
        "Composio is a toolset designed to streamline and optimize the connection and interaction between AI Agents/LLMs and various APIs/services. Composio supports integrations with a variety of popular apps including Google Apps, Github, Slack, and also system tools like Code Interpreter, File Manager and Databases, in just a few lines of code. It also provides pre-defined actions(functions), allowing agents to interact with these integrations."
      ]
    },
    {
      "cell_type": "markdown",
      "metadata": {
        "id": "3A0CxcXRaHkg"
      },
      "source": [
        "Let's get started!"
      ]
    },
    {
      "cell_type": "markdown",
      "metadata": {
        "id": "Il3L1QslaKBj"
      },
      "source": [
        "### Setup"
      ]
    },
    {
      "cell_type": "markdown",
      "metadata": {
        "id": "16NH4dxcaPGJ"
      },
      "source": [
        "Install necessary packages -"
      ]
    },
    {
      "cell_type": "code",
      "execution_count": null,
      "metadata": {
        "id": "23VnueWYXkp5"
      },
      "outputs": [],
      "source": [
        "!pip install langchain langchain-core langchain-groq composio-langgraph langgraph"
      ]
    },
    {
      "cell_type": "code",
      "execution_count": 9,
      "metadata": {
        "id": "U_aur7ZiXYT2"
      },
      "outputs": [],
      "source": [
        "# Import necessary packages\n",
        "from typing import Literal, Annotated, Sequence, TypedDict\n",
        "import operator\n",
        "import os\n",
        "from datetime import datetime\n",
        "from langchain_core.messages import AIMessage, BaseMessage, HumanMessage, ToolMessage\n",
        "from langchain_core.prompts import ChatPromptTemplate, MessagesPlaceholder\n",
        "from langchain_groq import ChatGroq\n",
        "from langgraph.graph import END, START, StateGraph\n",
        "from langgraph.prebuilt import ToolNode\n",
        "from composio_langgraph import Action, ComposioToolSet\n",
        "\n",
        "# Get you Groq API key here - https://console.groq.com/keys\n",
        "os.environ[\"GROQ_API_KEY\"] = \"your_groq_api_key\""
      ]
    },
    {
      "cell_type": "markdown",
      "metadata": {
        "id": "CFzMVBhAa_CJ"
      },
      "source": [
        "We are going to be using Composio's Gmail and Tavily tools in this guide. To use these tools, we first need to create integrations with these apps. This can be done using the command line. You'll need a Tavily API key, which you can get [here](https://app.tavily.com/)."
      ]
    },
    {
      "cell_type": "markdown",
      "metadata": {
        "id": "eB-hmSwqbG9m"
      },
      "source": [
        "To create an integration with Gmail, run the command below -"
      ]
    },
    {
      "cell_type": "code",
      "execution_count": null,
      "metadata": {
        "id": "A01yXaEwbJXo"
      },
      "outputs": [],
      "source": [
        "!composio add gmail"
      ]
    },
    {
      "cell_type": "markdown",
      "metadata": {
        "id": "m2DOpASqbLxI"
      },
      "source": [
        "Similarly, to create an integration with Tavily -"
      ]
    },
    {
      "cell_type": "code",
      "execution_count": null,
      "metadata": {
        "id": "v-Ojeq7pbPMa"
      },
      "outputs": [],
      "source": [
        "!composio add tavily"
      ]
    },
    {
      "cell_type": "code",
      "execution_count": 13,
      "metadata": {
        "id": "JZkOTvd1ayjh"
      },
      "outputs": [],
      "source": [
        "# Initialize the model\n",
        "llm = ChatGroq(model=\"llama-3.1-70b-versatile\")"
      ]
    },
    {
      "cell_type": "markdown",
      "metadata": {
        "id": "UBTSHecGbt9s"
      },
      "source": [
        "### Initialize Toolset and get tools"
      ]
    },
    {
      "cell_type": "markdown",
      "metadata": {
        "id": "CO3PtNFkb6Z_"
      },
      "source": [
        "Now we initialize Composio's toolset which provides all the necessary tools and actions we need. For this guide, we will get the Gmail and Tavily tools from the toolset. The Gmail tools will allow the agent to perform actions like fetching and sending emails. The tavily tool allows the agent to search the web and gather more information about the topics of the newsletter."
      ]
    },
    {
      "cell_type": "code",
      "execution_count": null,
      "metadata": {
        "colab": {
          "base_uri": "https://localhost:8080/"
        },
        "id": "8ruObEp1bZc8",
        "outputId": "c44a0db8-6641-43da-fc38-0173e0b2ed80"
      },
      "outputs": [],
      "source": [
        "# Initialize the ComposioToolSet\n",
        "composio_toolset = ComposioToolSet()\n",
        "\n",
        "# Get the tools from the ComposioToolSet\n",
        "gmail_tools = composio_toolset.get_tools(\n",
        "    actions=[Action.GMAIL_SEND_EMAIL, Action.GMAIL_FETCH_EMAILS],\n",
        ")\n",
        "\n",
        "tavily_tool = composio_toolset.get_tools(\n",
        "    actions=[Action.TAVILY_TAVILY_SEARCH],\n",
        ")\n",
        "\n",
        "tools = [*gmail_tools, *tavily_tool]\n",
        "\n",
        "# Define Tool Node\n",
        "tool_node = ToolNode(tools)"
      ]
    },
    {
      "cell_type": "markdown",
      "metadata": {
        "id": "-UYfjCeYcT0v"
      },
      "source": [
        "### Define State and Create Agents"
      ]
    },
    {
      "cell_type": "markdown",
      "metadata": {
        "id": "O0OjN1PRcXhL"
      },
      "source": [
        "Now, we define the state of the graph. This will just be a list of messages along with a key to track the most recent sender."
      ]
    },
    {
      "cell_type": "code",
      "execution_count": 20,
      "metadata": {
        "id": "VKriD1bacBin"
      },
      "outputs": [],
      "source": [
        "# This defines the state object that is passed between each node in the graph.\n",
        "class AgentState(TypedDict):\n",
        "    messages: Annotated[Sequence[BaseMessage], operator.add]\n",
        "    sender: str"
      ]
    },
    {
      "cell_type": "markdown",
      "metadata": {
        "id": "2fGkkG8_cvQh"
      },
      "source": [
        "The following helper functions will help create agents. These agents will then be nodes in the graph."
      ]
    },
    {
      "cell_type": "code",
      "execution_count": 22,
      "metadata": {
        "id": "jbQCgDnPcjej"
      },
      "outputs": [],
      "source": [
        "def create_agent(llm, tools, system_message: str):\n",
        "    \"\"\"Create an agent.\"\"\"\n",
        "    prompt = ChatPromptTemplate.from_messages(\n",
        "        [\n",
        "            (\n",
        "                \"system\",\n",
        "                system_message,\n",
        "            ),\n",
        "            MessagesPlaceholder(variable_name=\"messages\"),\n",
        "        ]\n",
        "    )\n",
        "    return prompt | llm.bind_tools(tools)"
      ]
    },
    {
      "cell_type": "markdown",
      "metadata": {
        "id": "yZ_QuVasc7zg"
      },
      "source": [
        "We now define the nodes in the graph."
      ]
    },
    {
      "cell_type": "code",
      "execution_count": 24,
      "metadata": {
        "id": "R7PoaMQHczKP"
      },
      "outputs": [],
      "source": [
        "def create_agent_node(agent, name):\n",
        "    def agent_node(state):\n",
        "        result = agent.invoke(state)\n",
        "        if not isinstance(result, ToolMessage):\n",
        "            result = AIMessage(**result.dict(exclude={\"type\", \"name\"}), name=name)\n",
        "        return {\"messages\": [result], \"sender\": name}\n",
        "    return agent_node\n",
        "\n",
        "email_fetcher_agent = create_agent(\n",
        "    llm,\n",
        "    gmail_tools,\n",
        "    system_message=f\"You are an expert at retrieving and organizing email content, with a keen eye for identifying newsletters. Your goal is to Fetch recent newsletter emails from the inbox. Please look for emails with the words 'newsletter' or 'digest' only for last 7 days. Today's date is {datetime.now().strftime('%B %d, %Y')}. Don't add any other unncessary filters. Pass these emails to email_summarizer_agent.\"\n",
        ")\n",
        "\n",
        "email_fetcher_node = create_agent_node(email_fetcher_agent, \"email_fetcher\")\n",
        "\n",
        "email_summarizer_agent = create_agent(\n",
        "    llm,\n",
        "    tavily_tool,\n",
        "    system_message=\"You are an expert in analyzing and summarizing complex information, with a talent for distilling essential points from various sources. Summarize the content of the fetched newsletter emails, highlighting key information and trends. Create a concise yet comprehensive summary highlighting the key points from each newsletter. Use tavily_tool to search for relevant information and include it in the summary if not already included. This summary will be used by email_sender.\"\n",
        ")\n",
        "\n",
        "email_summarizer_node = create_agent_node(email_summarizer_agent, \"email_summarizer\")\n",
        "\n",
        "email_sender_agent = create_agent(\n",
        "    llm,\n",
        "    gmail_tools,\n",
        "    system_message=f\"\"\"\n",
        "        \"You are an expert in composing and sending emails with well-formatted, visually appealing content. You have a knack for creating engaging subject lines and structuring information for easy readability. Send the summarized newsletter content using the Gmail API to 0arunabh30@gmail.com with a professional and engaging format.\"\n",
        "        \"Use the following structure for the email:\\n\\n\"\n",
        "        \"Subject: Your Weekly News Digest - {datetime.now().strftime('%B %d, %Y')}\\n\\n\"\n",
        "        \"<h1>Weekly News Digest</h1>\\n\\n\"\n",
        "        \"<p>Dear Reader,</p>\\n\\n\"\n",
        "        \"<p>Here's your curated summary of this week's top news items and insights:</p>\\n\\n\"\n",
        "        \"[Insert summarized content here]\\n\\n\"\n",
        "        \"Each main section should be separated by a horizontal rule, like this:\\n\"\n",
        "        \"<hr>\\n\\n\"\n",
        "        \"Structure the content logically, with clear sections for each summarized newsletter or topic area.\\n\"\n",
        "        \"Use appropriate HTML formatting such as <strong> for headlines, \"\n",
        "        \"<ul> and <li> for bullet points, and <br> for line breaks to enhance readability.\\n\\n\"\n",
        "        \"Include a brief introduction at the beginning to set the context and a conclusion at the end \"\n",
        "        \"to summarize the key takeaways and trends observed across the newsletters.\\n\\n\"\n",
        "        \"<footer>\\n\"\n",
        "        \"<p>For more details on these stories, click on the provided links or stay tuned to our next update. \"\n",
        "        \"<p>Best regards,<br>Your Newsletter Summary Team</p>\\n\"\n",
        "        \"</footer>\\n\\n\"\n",
        "        \"Important: Ensure all HTML tags are properly closed and nested correctly.\"\n",
        "    \"\"\"\n",
        ")\n",
        "\n",
        "email_sender_node = create_agent_node(email_sender_agent, \"email_sender\")"
      ]
    },
    {
      "cell_type": "markdown",
      "metadata": {
        "id": "TYdxMjsndJre"
      },
      "source": [
        "### Define Edge logic"
      ]
    },
    {
      "cell_type": "markdown",
      "metadata": {
        "id": "VGcMZj0hdNGH"
      },
      "source": [
        "We can define some edge logic that is needed to decide what to do based on the results of the agents."
      ]
    },
    {
      "cell_type": "code",
      "execution_count": 26,
      "metadata": {
        "id": "UBjRwg5kdAzT"
      },
      "outputs": [],
      "source": [
        "def router(state) -> Literal[\"call_tool\", \"__end__\", \"continue\"]:\n",
        "    last_message = state[\"messages\"][-1]\n",
        "    if last_message.tool_calls:\n",
        "        return \"call_tool\"\n",
        "    if \"FINAL ANSWER\" in last_message.content:\n",
        "        return \"__end__\"\n",
        "    return \"continue\""
      ]
    },
    {
      "cell_type": "markdown",
      "metadata": {
        "id": "bFr9OV55dYWH"
      },
      "source": [
        "### Define the Graph"
      ]
    },
    {
      "cell_type": "code",
      "execution_count": null,
      "metadata": {
        "id": "liLhE-lydQKH"
      },
      "outputs": [],
      "source": [
        "workflow = StateGraph(AgentState)\n",
        "\n",
        "workflow.add_node(\"email_fetcher\", email_fetcher_node)\n",
        "workflow.add_node(\"email_summarizer\", email_summarizer_node)\n",
        "workflow.add_node(\"email_sender\", email_sender_node)\n",
        "workflow.add_node(\"call_tool\", tool_node)\n",
        "\n",
        "workflow.add_edge(START, \"email_fetcher\")\n",
        "workflow.add_edge(\"email_sender\" ,END)\n",
        "\n",
        "workflow.add_conditional_edges(\n",
        "    \"email_fetcher\",\n",
        "    router,\n",
        "    {\"continue\": \"email_summarizer\", \"call_tool\": \"call_tool\"},\n",
        ")\n",
        "workflow.add_conditional_edges(\n",
        "    \"email_summarizer\",\n",
        "    router,\n",
        "    {\"continue\": \"email_sender\", \"call_tool\": \"call_tool\"},\n",
        ")\n",
        "\n",
        "workflow.add_conditional_edges(\n",
        "    \"email_sender\",\n",
        "    router,\n",
        "    {\"continue\": END, \"call_tool\": \"call_tool\"},\n",
        ")\n",
        "\n",
        "workflow.add_conditional_edges(\n",
        "    \"call_tool\",\n",
        "    lambda x: x[\"sender\"],\n",
        "    {\"email_fetcher\": \"email_fetcher\",\n",
        "     \"email_summarizer\": \"email_summarizer\",\n",
        "     \"email_sender\": \"email_sender\",\n",
        "    },\n",
        ")\n",
        "\n",
        "app = workflow.compile()\n",
        "\n",
        "# Invoke the graph!\n",
        "\n",
        "events = app.invoke(\n",
        "    {\n",
        "        \"messages\": [\n",
        "            HumanMessage(\n",
        "                content=\"\"\n",
        "                \"Please begin.\"\n",
        "            )\n",
        "        ],\n",
        "    },\n",
        ")\n",
        "\n",
        "print(events)"
      ]
    },
    {
      "cell_type": "markdown",
      "metadata": {
        "id": "kUDOC6IUgIzn"
      },
      "source": [
        "### Conclusion\n",
        "\n",
        "In this guide, we successfully used Groq to connect to the LLM and Composio allowed us to easily connect to Gmail and Tavily and use their tools to create an AI agent that can fetch newsletter emails, summarize them and then send the summary as a mail to the user. We used Langgraph to orchestrate a multi-agent system where each agent performs a specific task with the tools provided."
      ]
    },
    {
      "cell_type": "markdown",
      "metadata": {
        "id": "7HYoiekcgKpo"
      },
      "source": [
        "### Connect with us\n",
        "\n",
        "Join the [Composio Discord](https://discord.com/invite/cNruWaAhQk) and [Groq Discord](https://discord.com/invite/groq) servers to discuss your ideas and get support from the community."
      ]
    },
    {
      "cell_type": "markdown",
      "metadata": {
        "id": "20YEbIO2gNEb"
      },
      "source": [
        "### Learn More\n",
        "\n",
        "Composio: https://composio.dev/\n",
        "\n",
        "Composio Docs: https://docs.composio.dev/introduction/intro/overview"
      ]
    }
  ],
  "metadata": {
    "colab": {
      "provenance": []
    },
    "kernelspec": {
      "display_name": "Python 3",
      "name": "python3"
    },
    "language_info": {
      "name": "python"
    }
  },
  "nbformat": 4,
  "nbformat_minor": 0
}
