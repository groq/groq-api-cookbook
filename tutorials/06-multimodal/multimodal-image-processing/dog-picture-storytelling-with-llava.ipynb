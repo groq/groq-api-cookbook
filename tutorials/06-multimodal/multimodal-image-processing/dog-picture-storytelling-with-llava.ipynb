{
 "cells": [
  {
   "cell_type": "markdown",
   "id": "6555c580",
   "metadata": {},
   "source": [
    "# Creating Dog Picture Stories with LLaVA and Llama 3.1"
   ]
  },
  {
   "cell_type": "markdown",
   "id": "47670e56",
   "metadata": {},
   "source": [
    "[LLaVA](https://llava-vl.github.io/) (**L**arge **L**anguage-**a**nd-**V**ision **A**ssistant) is a powerful vision model that combines the capabilities of Large Language Models (LLMs) with image analysis. This open-source model can answer visual questions, generate captions, and perform Optical Character\n",
    "Recognition (OCR), making it an ideal solution for applications that require image-based text generation. The `llava-v1.5-7b-4096`model is now available as a preview on [Groq API](https://console.groq.com/docs/vision), allowing for integration of advanced vision capabilities into applications to unlock new possibilities for image-based text generation."
   ]
  },
  {
   "cell_type": "markdown",
   "id": "e441f5a1",
   "metadata": {},
   "source": [
    "In this tutorial, we'll explore the capabilities of LLaVA by analyzing a dataset of dog pictures. We'll demonstrate how to use the model to generate text descriptions of the images, and then use the `llama-3.1-70b-versatile` model powered by Groq to write short children's stories based on the images provided. By the end of this tutorial, you'll be able to use LLaVA to generate text descriptions of images and create engaging stories based on those descriptions."
   ]
  },
  {
   "cell_type": "markdown",
   "id": "942c7579",
   "metadata": {},
   "source": [
    "### Setup"
   ]
  },
  {
   "cell_type": "code",
   "execution_count": 1,
   "id": "7d7113fe",
   "metadata": {},
   "outputs": [],
   "source": [
    "# Import packages\n",
    "from groq import Groq\n",
    "import base64\n",
    "from IPython.display import Image "
   ]
  },
  {
   "cell_type": "markdown",
   "id": "9d4de208",
   "metadata": {},
   "source": [
    "This tutorial requires a Groq API key - if you don't already have one, you can create one a free GroqCloud account [here](https://console.groq.com) to generate a Groq API Key. We will be using the `llava-v1.5-7b-4096-preview` model for image descriptions and the `llama-3.1-70b-versatile` model for storytelling."
   ]
  },
  {
   "cell_type": "code",
   "execution_count": 2,
   "id": "319112fb",
   "metadata": {},
   "outputs": [],
   "source": [
    "client = Groq()\n",
    "llava_model = 'llava-v1.5-7b-4096-preview'\n",
    "llama31_model = 'llama-3.1-70b-versatile'"
   ]
  },
  {
   "cell_type": "markdown",
   "id": "872cc6b6",
   "metadata": {},
   "source": [
    "### Basic LLaVA usage"
   ]
  },
  {
   "cell_type": "markdown",
   "id": "21f865ab",
   "metadata": {},
   "source": [
    "For this tutorial, we'll use a set of dog images from [Britannica](https://www.britannica.com/animal/dog). You can find the images in the [Groq API cookbook repository](https://github.com/groq/groq-api-cookbook/tree/main/tutorials/llava-image-processing/images).\n",
    "\n",
    "We'll be using a local image and encoding it to base64 to use with LLaVA. This is one of two ways to use an image with LLaVA - the other is to provide the actual URL of the image."
   ]
  },
  {
   "cell_type": "code",
   "execution_count": 3,
   "id": "5f96b29e",
   "metadata": {},
   "outputs": [
    {
     "data": {
      "image/png": "[encoded data removed]",
      "text/plain": [
       "<IPython.core.display.Image object>"
      ]
     },
     "execution_count": 3,
     "metadata": {},
     "output_type": "execute_result"
    }
   ],
   "source": [
    "# Load and display image\n",
    "image_path = 'images/labradoodle.png'\n",
    "Image(image_path)"
   ]
  },
  {
   "cell_type": "markdown",
   "id": "16406b6b",
   "metadata": {},
   "source": [
    "To use locally saved images with LLaVA, we'll need to encode them to base64 first:"
   ]
  },
  {
   "cell_type": "code",
   "execution_count": 4,
   "id": "7b202bb0",
   "metadata": {},
   "outputs": [],
   "source": [
    "# Define image encoding function\n",
    "def encode_image(image_path):\n",
    "  with open(image_path, \"rb\") as image_file:\n",
    "    return base64.b64encode(image_file.read()).decode('utf-8')\n",
    "\n",
    "base64_image = encode_image(image_path)"
   ]
  },
  {
   "cell_type": "markdown",
   "id": "96637a40",
   "metadata": {},
   "source": [
    "To use LLaVA with the Groq API, we'll make a request to the `https://api.groq.com/openai/v1/chat/completions` API endpoint. However, when working with images, we need to pass the image and prompt in a slightly different format than what you might be used to. Instead of just passing a text prompt, we need to wrap it in a special JSON structure that includes the image as well. This allows LLaVA to understand that the image is part of the prompt and generate a response accordingly:"
   ]
  },
  {
   "cell_type": "code",
   "execution_count": 5,
   "id": "440fe319",
   "metadata": {},
   "outputs": [
    {
     "data": {
      "text/plain": [
       "'The image is of a white, fluffy dog running through the grass, happily carrying an item in its mouth. The dog is focused and in motion. In addition to the main dog, there are some other smaller figures in the background. It seems to be a warm day with a clear view of the outdoor environment. The overall atmosphere of the scene conveys a playful and energetic dog engaging in activities in a field.'"
      ]
     },
     "execution_count": 5,
     "metadata": {},
     "output_type": "execute_result"
    }
   ],
   "source": [
    "# Define image to text function\n",
    "def image_to_text(client, model, base64_image, prompt):\n",
    "    chat_completion = client.chat.completions.create(\n",
    "        messages=[\n",
    "            {\n",
    "                \"role\": \"user\",\n",
    "                \"content\": [\n",
    "                    {\"type\": \"text\", \"text\": prompt},\n",
    "                    {\n",
    "                        \"type\": \"image_url\",\n",
    "                        \"image_url\": {\n",
    "                            \"url\": f\"data:image/jpeg;base64,{base64_image}\",\n",
    "                        },\n",
    "                    },\n",
    "                ],\n",
    "            }\n",
    "        ],\n",
    "        model=model\n",
    "    )\n",
    "\n",
    "    return chat_completion.choices[0].message.content\n",
    "\n",
    "prompt = \"Describe this image\"\n",
    "image_to_text(client, llava_model, base64_image, prompt)"
   ]
  },
  {
   "cell_type": "markdown",
   "id": "485b6787",
   "metadata": {},
   "source": [
    "### Image Storytelling with Llama 3.1"
   ]
  },
  {
   "cell_type": "markdown",
   "id": "6f9b412d",
   "metadata": {},
   "source": [
    "Now, let's take our image recognition to the next level by creating short stories based on the images used. Since LLaVA is great at broadly describing what's in an image, we will use LLaVA to describe the image and Llama 3.1 70B to write a short children's story based on the image description:"
   ]
  },
  {
   "cell_type": "code",
   "execution_count": 17,
   "id": "11407f39",
   "metadata": {},
   "outputs": [
    {
     "name": "stdout",
     "output_type": "stream",
     "text": [
      "**Buddy's Backyard Adventure**\n",
      "\n",
      "It was a sunny Saturday morning in the small town of Willow Creek. Eight-year-old Emma sat on the porch, watching her energetic white terrier, Buddy, play in the backyard. The air was filled with the sweet scent of blooming flowers and the sound of birds chirping in the trees.\n",
      "\n",
      "Buddy loved playing outside, and today was no exception. In his mouth, he proudly carried a worn-out tennis ball, his favorite toy. With a burst of energy, he suddenly leaped into the air, twirling his body in a joyful spin. The tennis ball wobbled precariously in his jaws, but Buddy held tight.\n",
      "\n",
      "As Buddy landed gently on the lush green grass, he noticed a stick lying nearby. His eyes sparkled with excitement, and he quickly dropped the tennis ball, picked up the stick in his mouth, and ran towards Emma, his tail wagging furiously.\n",
      "\n",
      "Emma laughed and clapped her hands. \"Good boy, Buddy! You're the best retriever ever!\" Buddy proudly pranced around the porch, his head held high, the stick still in his mouth.\n",
      "\n",
      "Emma tossed the tennis ball again, and Buddy eagerly dropped the stick, catching the ball mid-air in his mouth. He jumped back onto the lawn, the tennis ball secure in his jaws. This time, he landed more forcefully, his paws thumping against the grass.\n",
      "\n",
      "Buddy continued his game of fetch, racing around the backyard with infectious enthusiasm. Emma couldn't help but laugh at her energetic companion, feeling grateful for the sunshine and the special bond she shared with her loyal friend Buddy.\n",
      "\n",
      "As the morning sun climbed higher in the sky, Buddy finally began to tire, his tongue lolling out of his mouth. Emma called out to him, \"Time for a break, Buddy! Come and rest in the shade with me.\" Buddy obediently trotted over, dropped the tennis ball at her feet, and settled beside her, his chest heaving happily.\n",
      "\n",
      "As they sat together, watching the clouds drift lazily by, Emma smiled at her dear furry friend. \"I'm so lucky to have you, Buddy. You make every day an adventure.\" Buddy licked her hand, already dreaming of their next playful escapade.\n"
     ]
    }
   ],
   "source": [
    "# Define short story generation function\n",
    "def short_story_generation(client, image_description):\n",
    "    chat_completion = client.chat.completions.create(\n",
    "        messages=[\n",
    "            {\n",
    "                \"role\": \"system\",\n",
    "                \"content\": \"You are a children's book author. Write a short story about the scene depicted in this image or images.\",\n",
    "            },\n",
    "            {\n",
    "                \"role\": \"user\",\n",
    "                \"content\": image_description,\n",
    "            }\n",
    "        ],\n",
    "        model=llama31_model\n",
    "    )\n",
    "    \n",
    "    return chat_completion.choices[0].message.content\n",
    "\n",
    "prompt = '''\n",
    "Describe this image in detail, including the appearance of the dog(s) and any notable actions or behaviors.\n",
    "'''\n",
    "image_description = image_to_text(client, llava_model, base64_image, prompt)\n",
    "\n",
    "print(short_story_generation(client, image_description))"
   ]
  },
  {
   "cell_type": "markdown",
   "id": "11ca2142",
   "metadata": {},
   "source": [
    "Now, let's generate descriptions for multiple images and create a story with both of them. Note that this will have to be done using multiple LLaVA calls as the preview does not currently support multi-image uploads:"
   ]
  },
  {
   "cell_type": "code",
   "execution_count": 26,
   "id": "a7937b8d",
   "metadata": {},
   "outputs": [
    {
     "name": "stdout",
     "output_type": "stream",
     "text": [
      "**The Adventures of Luna and Winston**\n",
      "\n",
      "In a sunny meadow, two canine friends lived exciting lives filled with adventure and friendship. Luna, a majestic gray and white Husky, loved climbing rocks and surveying her surroundings. She felt regal and in charge when perched on a boulder, just like the king of the mountain.\n",
      "\n",
      "One day, while exploring the rolling hills, Luna came across her dear friend Winston. Winston was a charming brown and white bulldog with a heart of gold and a playful spirit to match. He loved making new friends and going on exciting escapades.\n",
      "\n",
      "Luna, proudly standing on her rocky throne, gazed down at Winston, who was enthusiastically barking at her. She couldn't help but laugh at her friend's antics. Winston, with his wrinkly face and twinkling eyes, was always up to something fun.\n",
      "\n",
      "\"Luna, come down!\" Winston yelped, his barks echoing across the meadow. \"Let's go on an adventure! I smell something exciting!\"\n",
      "\n",
      "Luna hesitated for a moment, enjoying the view from her lofty perch. But Winston's infectious energy was too great to resist. With a joyful whoosh, Luna leaped off the rock and landed beside Winston, sending the two friends tumbling in a happy heap.\n",
      "\n",
      "Together, they set off across the meadow, chasing after butterflies, and exploring hidden streams. They discovered a secret garden, hidden behind a waterfall, filled with vibrant wildflowers and sweet-tasting berries.\n",
      "\n",
      "As the sun began to set, casting a warm orange glow across the meadow, Luna and Winston settled down side by side, panting happily. They had shared an unforgettable day of adventure and friendship, and they couldn't wait to see what the next day would bring.\n",
      "\n",
      "From that day on, Luna and Winston roamed the meadows, exploring the world together, their bond growing stronger with each passing day. And whenever Luna climbed onto a rock, Winston would always be by her side, barking encouragement and support, proud to be her loyal companion.\n"
     ]
    }
   ],
   "source": [
    "base64_image1 = encode_image('images/husky.png')\n",
    "base64_image2 = encode_image('images/bulldog.png')\n",
    "\n",
    "image_description1 = image_to_text(client, llava_model, base64_image1, prompt)\n",
    "image_description2 = image_to_text(client, llava_model, base64_image2, prompt)\n",
    "\n",
    "combined_image_description = image_description1 + '\\n\\n' + image_description2\n",
    "\n",
    "print(short_story_generation(client, combined_image_description))"
   ]
  },
  {
   "cell_type": "markdown",
   "id": "77ab2e92",
   "metadata": {},
   "source": [
    "### Conclusion"
   ]
  },
  {
   "cell_type": "markdown",
   "id": "f4f02757",
   "metadata": {},
   "source": [
    "In this tutorial, we've explored the capabilities of LLaVA and Llama 3.1 powered by Groq for lightning-fast inference speed in generating text descriptions of images and creating short stories based on those descriptions. We've seen how to use LLaVA to describe images in detail, and how to use Llama 3.1 to write engaging stories based on those descriptions. By combining these two models hosted on GroqCloud, we can create a powerful tool for generating text-based content from images. Give it a try today!"
   ]
  }
 ],
 "metadata": {
  "kernelspec": {
   "display_name": "Python 3 (ipykernel)",
   "language": "python",
   "name": "python3"
  },
  "language_info": {
   "codemirror_mode": {
    "name": "ipython",
    "version": 3
   },
   "file_extension": ".py",
   "mimetype": "text/x-python",
   "name": "python",
   "nbconvert_exporter": "python",
   "pygments_lexer": "ipython3",
   "version": "3.10.3"
  }
 },
 "nbformat": 4,
 "nbformat_minor": 5
}
