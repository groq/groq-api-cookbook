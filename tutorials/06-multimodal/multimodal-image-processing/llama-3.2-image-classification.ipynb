{
 "cells": [
  {
   "cell_type": "markdown",
   "id": "6555c580",
   "metadata": {},
   "source": [
    "# Using Llama 3.2 Vision for Image Classification"
   ]
  },
  {
   "cell_type": "markdown",
   "id": "47670e56",
   "metadata": {},
   "source": [
    "In our [previous tutorial on Llama 3.2 Vision](https://github.com/groq/groq-api-cookbook/blob/main/tutorials/llama-3.2-vision-function-calling.ipynb), we used function calling capabilities to identify the dog breed from an image and use it to call the [API Ninjas Dogs API](https://api-ninjas.com/api/dogs) to extract additional information about the breed. In this tutorial we'll take it a step further to identify more features about the images and create a robust image classification tool for those same dog pictures."
   ]
  },
  {
   "cell_type": "markdown",
   "id": "e441f5a1",
   "metadata": {},
   "source": [
    "To do so we'll use Llama 3.2 Vision in conjunction with [Groq API's JSON mode](https://console.groq.com/docs/text-chat#json-mode-object-object) to extract specific information from the provided image, such as the breed of dog or its characteristics. By doing so, we'll show how to create a pipeline for image classification and data extraction, converting unstructured images into structured data that can be easily searched, filtered, and analyzed."
   ]
  },
  {
   "cell_type": "markdown",
   "id": "942c7579",
   "metadata": {},
   "source": [
    "### Setup"
   ]
  },
  {
   "cell_type": "code",
   "execution_count": 1,
   "id": "7d7113fe",
   "metadata": {},
   "outputs": [],
   "source": [
    "from groq import Groq\n",
    "import base64\n",
    "from IPython.display import Image \n",
    "import os\n",
    "import pandas as pd\n",
    "import json"
   ]
  },
  {
   "cell_type": "markdown",
   "id": "9d4de208",
   "metadata": {},
   "source": [
    "To complete this tutorial, you'll need a Groq API key. If you don't already have one, you can easily create a free account on GroqCloud by clicking [here](https://console.groq.com) and generating your API key. Once you have your API key, you'll need to set it as an environment variable called GROQ_API_KEY for the tutorial to work. We'll be working with the llama-3.2-11b-vision-dev model throughout this tutorial."
   ]
  },
  {
   "cell_type": "code",
   "execution_count": 3,
   "id": "319112fb",
   "metadata": {},
   "outputs": [],
   "source": [
    "client = Groq()\n",
    "model = 'llama-3.2-11b-vision-preview'"
   ]
  },
  {
   "cell_type": "markdown",
   "id": "872cc6b6",
   "metadata": {},
   "source": [
    "### Basic LLaVA usage"
   ]
  },
  {
   "cell_type": "markdown",
   "id": "21f865ab",
   "metadata": {},
   "source": [
    "For this tutorial, we'll be using the same set of dog images from [Britannica](https://www.britannica.com/animal/dog) that we utilized in the other tutorials. You can access these images in the Groq API cookbook repository, specifically in the [images folder](https://github.com/groq/groq-api-cookbook/tree/main/tutorials/llava-image-processing/images). We'll be encoding a local image to base64 to integrate it with Llama 3.2 Vision. This is one of two methods to use an image with the vision model - the other approach involves providing the actual URL of the image."
   ]
  },
  {
   "cell_type": "code",
   "execution_count": 4,
   "id": "5f96b29e",
   "metadata": {},
   "outputs": [
    {
     "data": {
      "image/png": "[encoded data removed]",
      "text/plain": [
       "<IPython.core.display.Image object>"
      ]
     },
     "execution_count": 4,
     "metadata": {},
     "output_type": "execute_result"
    }
   ],
   "source": [
    "# Load and display the image\n",
    "image_path = 'images/dachshund.png'\n",
    "Image(image_path)"
   ]
  },
  {
   "cell_type": "markdown",
   "id": "16406b6b",
   "metadata": {},
   "source": [
    "To use locally saved images with Llama 3.2 Vision, we'll need to encode them to base64 first:"
   ]
  },
  {
   "cell_type": "code",
   "execution_count": 5,
   "id": "7b202bb0",
   "metadata": {},
   "outputs": [],
   "source": [
    "def encode_image(image_path):\n",
    "  with open(image_path, \"rb\") as image_file:\n",
    "    return base64.b64encode(image_file.read()).decode('utf-8')\n",
    "\n",
    "base64_image = encode_image(image_path)"
   ]
  },
  {
   "cell_type": "markdown",
   "id": "96637a40",
   "metadata": {},
   "source": [
    "Analyzing an image with Llama 3.2 Vision using Groq API functions the same as with LLaVA. We'll make a request to the `https://api.groq.com/openai/v1/chat/completions` API endpoint, passing the image and prompt in a JSON structure that includes the image path:"
   ]
  },
  {
   "cell_type": "code",
   "execution_count": 6,
   "id": "381a9065",
   "metadata": {},
   "outputs": [
    {
     "name": "stdout",
     "output_type": "stream",
     "text": [
      "The image shows a side view of a black and tan dachshund. The dog's dark brown coat is emphasized more on the outer body, with light brown splotches running on its throat, chest, and paws. Its tail is plaited/braided and held over the dog's back, and its ears, which are floppy, are tucked over its head.\n",
      "\n",
      "The dog is standing on a paved surface, indicating that the photo may have been taken in a purpose-built dog training area, dog park, or outside an animal clinic. The background is out of focus and appears to be a white wall made of tiles with a line of darker brown trees. \n",
      "Overall, the image is well-composed, making the dog the clear focus of the shot.\n"
     ]
    }
   ],
   "source": [
    "user_prompt = 'Tell me about this image'\n",
    "chat_completion = client.chat.completions.create(\n",
    "    messages=[\n",
    "        {\n",
    "            \"role\": \"user\",\n",
    "            \"content\": [\n",
    "                {\n",
    "                    \"type\": \"image_url\",\n",
    "                    \"image_url\": {\n",
    "                        \"url\": f\"data:image/jpeg;base64,{base64_image}\"\n",
    "                    },\n",
    "                },\n",
    "                {\"type\": \"text\", \"text\": user_prompt},\n",
    "            ],\n",
    "        }\n",
    "    ],\n",
    "    model=model\n",
    ")\n",
    "\n",
    "print(chat_completion.choices[0].message.content)"
   ]
  },
  {
   "cell_type": "markdown",
   "id": "5ac7dba7-1c46-427a-b822-bf17e5418f94",
   "metadata": {},
   "source": [
    "However, Llama 3.2 Vision offers more functionality beyond just image recognition. It offers most of the functionality of any other chat model, including tool use and JSON mode (the only thing it can't do is process a system prompt). By leveraging JSON mode, we can utilize Llama 3.2 Vision to identify the breed of the dog in the image and return the result in a structured, easily digestible format. Note that to use JSON mode in the Groq API you must include \"JSON\" in your system or user prompt, and specify the desired output (see this [cookbook tutorial](https://github.com/groq/groq-api-cookbook/blob/main/tutorials/json-mode-social-determinants-of-health/SDOH-Json-mode.ipynb) for more information):"
   ]
  },
  {
   "cell_type": "code",
   "execution_count": 7,
   "id": "89563052",
   "metadata": {},
   "outputs": [
    {
     "data": {
      "text/plain": [
       "{'dog_breed': 'Dachshund'}"
      ]
     },
     "execution_count": 7,
     "metadata": {},
     "output_type": "execute_result"
    }
   ],
   "source": [
    "user_prompt='''\n",
    "You are an image classification API specializing in dog photos that responds in JSON. What dog breed is shown in this image? \n",
    "Return in the following JSON format:\n",
    "\n",
    "{\n",
    "  \"dog_breed\": \"string (e.g., 'Golden Retriever', 'German Shepherd', 'Mixed')\"\n",
    "}\n",
    "'''\n",
    "\n",
    "def image_classification(base64_image, user_prompt):\n",
    "    chat_completion = client.chat.completions.create(\n",
    "        messages=[\n",
    "            {\n",
    "                \"role\": \"user\",\n",
    "                \"content\": [\n",
    "                    {\n",
    "                        \"type\": \"image_url\",\n",
    "                        \"image_url\": {\n",
    "                            \"url\": f\"data:image/jpeg;base64,{base64_image}\",\n",
    "                        },\n",
    "                    },\n",
    "                    {\"type\": \"text\", \"text\": user_prompt},\n",
    "                ],\n",
    "            }\n",
    "        ],\n",
    "        model=model,\n",
    "        response_format = {\"type\": \"json_object\"}\n",
    "    )\n",
    "\n",
    "    return json.loads(chat_completion.choices[0].message.content)\n",
    "\n",
    "image_classification(base64_image, user_prompt)"
   ]
  },
  {
   "cell_type": "markdown",
   "id": "485b6787",
   "metadata": {},
   "source": [
    "### Image Classification"
   ]
  },
  {
   "cell_type": "markdown",
   "id": "b2143a88-c7bd-44c7-854e-49d58482bf48",
   "metadata": {},
   "source": [
    "With JSON mode enabled, we can leverage Llama 3.2 Vision for robust image classification at scale, making it easy to analyze and categorize large datasets. By iterating through each image in the folder, we can utilize Llama 3.2 Vision to classify them based on various features, such as breed, color, number of dogs, dog activity, and more. This functionality could be particularly valuable for a pet adoption agency, which could use it to streamline the adoption process by uploading an image of a new adoptable pet and instantly making it searchable and filterable by certain features on their website."
   ]
  },
  {
   "cell_type": "markdown",
   "id": "dae6b951-6a8a-4fc1-8f93-767c61febc4e",
   "metadata": {},
   "source": [
    "First, let's expand our JSON mode prompt to include an array of additional features, and test it on our Dachshund image:"
   ]
  },
  {
   "cell_type": "code",
   "execution_count": 9,
   "id": "060e2c14",
   "metadata": {},
   "outputs": [
    {
     "data": {
      "text/plain": [
       "{'dog_breed': 'Dachshund',\n",
       " 'dog_color': 'Black and Tan',\n",
       " 'number_of_dogs': 1,\n",
       " 'puppies_present': False,\n",
       " 'dog_size': 'Small',\n",
       " 'is_pet': True,\n",
       " 'dog_activity': 'Standing',\n",
       " 'background_environment': 'Outdoors',\n",
       " 'dog_accessories': 'None'}"
      ]
     },
     "execution_count": 9,
     "metadata": {},
     "output_type": "execute_result"
    }
   ],
   "source": [
    "user_prompt = '''\n",
    "Your job is to extract structured data from an image of dogs and output the structured data in JSON.\n",
    "The JSON schema should strictly be the following:\n",
    "  {\n",
    "    \"dog_breed\": \"string (e.g., 'Golden Retriever', 'German Shepherd', 'Mixed')\",\n",
    "    \"dog_color\": \"string (categorical: 'Black', 'White', 'Brown', 'Golden', 'Multiple')\",\n",
    "    \"number_of_dogs\": \"integer (number of dogs in the image)\",\n",
    "    \"puppies_present\": \"boolean (TRUE if there are puppies in the image)\",\n",
    "    \"dog_size\": \"string (categorical: 'Toy', 'Small', 'Medium', 'Large')\",\n",
    "    \"is_pet\": \"boolean (True if the dog is a pet, False if it might be a wild animal like a wolf or coyote)\",\n",
    "    \"dog_activity\": \"string (categorical: 'Sitting', 'Standing', 'Running', 'Playing', 'Sleeping')\",\n",
    "    \"background_environment\": \"string (categorical: 'Indoors', 'Outdoors', 'Park', 'Beach', 'Forest')\",\n",
    "    \"dog_accessories\": \"string (accessories or items the dog is wearing or carrying, e.g., 'Collar', 'Leash', 'Bandana', 'Toy', 'Stick', 'Ball', 'None')\"\n",
    "  } \n",
    "  \n",
    "Use the information from the following dog photo to construct the proper JSON output.\n",
    "'''\n",
    "\n",
    "image_json = image_classification(base64_image, user_prompt)\n",
    "image_json"
   ]
  },
  {
   "cell_type": "markdown",
   "id": "e5c10175-47f1-431d-a79f-a2ff3da1ff88",
   "metadata": {},
   "source": [
    "Looks good! Now, we can apply it to each dog image in our file folder and append the JSON outputs to a list:"
   ]
  },
  {
   "cell_type": "code",
   "execution_count": 21,
   "id": "d7a26062-c0c8-41bd-9679-8e97c182bd69",
   "metadata": {},
   "outputs": [],
   "source": [
    "image_folder = 'images/'\n",
    "image_files = [f for f in os.listdir(image_folder) if f.endswith('.png')]\n",
    "image_json_list = []\n",
    "\n",
    "for image_file in sorted(image_files):   \n",
    "    image_path = image_folder + image_file\n",
    "\n",
    "    # Encode Image\n",
    "    base64_image = encode_image(image_path)\n",
    "\n",
    "    # Classify image in JSON mode\n",
    "    image_json = image_classification(base64_image, user_prompt)\n",
    "\n",
    "    # Add image file name as a feature\n",
    "    image_json['image_file'] = image_file\n",
    "\n",
    "    # Append to image JSON list\n",
    "    image_json_list.append(image_json)\n"
   ]
  },
  {
   "cell_type": "markdown",
   "id": "bb4332ee-5a80-4de0-a589-2b89591c2b20",
   "metadata": {},
   "source": [
    "Finally, we'll convert the results to a pandas dataframe. Now we have a structured table of features from all 18 dog images that can be processed, analyzed, or stored in a database:"
   ]
  },
  {
   "cell_type": "code",
   "execution_count": 22,
   "id": "c6046950-0487-4208-ae22-780a9c6cc23b",
   "metadata": {},
   "outputs": [
    {
     "data": {
      "text/html": [
       "<div>\n",
       "<style scoped>\n",
       "    .dataframe tbody tr th:only-of-type {\n",
       "        vertical-align: middle;\n",
       "    }\n",
       "\n",
       "    .dataframe tbody tr th {\n",
       "        vertical-align: top;\n",
       "    }\n",
       "\n",
       "    .dataframe thead th {\n",
       "        text-align: right;\n",
       "    }\n",
       "</style>\n",
       "<table border=\"1\" class=\"dataframe\">\n",
       "  <thead>\n",
       "    <tr style=\"text-align: right;\">\n",
       "      <th></th>\n",
       "      <th>dog_breed</th>\n",
       "      <th>dog_color</th>\n",
       "      <th>number_of_dogs</th>\n",
       "      <th>puppies_present</th>\n",
       "      <th>dog_size</th>\n",
       "      <th>is_pet</th>\n",
       "      <th>dog_activity</th>\n",
       "      <th>background_environment</th>\n",
       "      <th>dog_accessories</th>\n",
       "      <th>image_file</th>\n",
       "    </tr>\n",
       "  </thead>\n",
       "  <tbody>\n",
       "    <tr>\n",
       "      <th>0</th>\n",
       "      <td>Australian Shepherd</td>\n",
       "      <td>Multi</td>\n",
       "      <td>6</td>\n",
       "      <td>True</td>\n",
       "      <td>Small</td>\n",
       "      <td>True</td>\n",
       "      <td>Sitting</td>\n",
       "      <td>Outdoors</td>\n",
       "      <td>None</td>\n",
       "      <td>australian_shepherd_puppies.png</td>\n",
       "    </tr>\n",
       "    <tr>\n",
       "      <th>1</th>\n",
       "      <td>Basset Hound</td>\n",
       "      <td>Brown and White</td>\n",
       "      <td>2</td>\n",
       "      <td>True</td>\n",
       "      <td>Medium</td>\n",
       "      <td>True</td>\n",
       "      <td>Sitting</td>\n",
       "      <td>Outdoors</td>\n",
       "      <td>None</td>\n",
       "      <td>basset_hounds.png</td>\n",
       "    </tr>\n",
       "    <tr>\n",
       "      <th>2</th>\n",
       "      <td>English Bulldog</td>\n",
       "      <td>White and Brown</td>\n",
       "      <td>1</td>\n",
       "      <td>False</td>\n",
       "      <td>Medium</td>\n",
       "      <td>True</td>\n",
       "      <td>Standing</td>\n",
       "      <td>Outdoors</td>\n",
       "      <td>None</td>\n",
       "      <td>bulldog.png</td>\n",
       "    </tr>\n",
       "    <tr>\n",
       "      <th>3</th>\n",
       "      <td>Chihuahua/Mixed</td>\n",
       "      <td>Brown</td>\n",
       "      <td>3</td>\n",
       "      <td>False</td>\n",
       "      <td>Small</td>\n",
       "      <td>True</td>\n",
       "      <td>Standing</td>\n",
       "      <td>Outdoors</td>\n",
       "      <td>None</td>\n",
       "      <td>chihuahuas.png</td>\n",
       "    </tr>\n",
       "    <tr>\n",
       "      <th>4</th>\n",
       "      <td>Coyote</td>\n",
       "      <td>Brown/Golden</td>\n",
       "      <td>1</td>\n",
       "      <td>False</td>\n",
       "      <td>Large</td>\n",
       "      <td>False</td>\n",
       "      <td>Running</td>\n",
       "      <td>Outdoors</td>\n",
       "      <td>None</td>\n",
       "      <td>coyote.png</td>\n",
       "    </tr>\n",
       "  </tbody>\n",
       "</table>\n",
       "</div>"
      ],
      "text/plain": [
       "             dog_breed        dog_color  number_of_dogs  puppies_present   \n",
       "0  Australian Shepherd            Multi               6             True  \\\n",
       "1         Basset Hound  Brown and White               2             True   \n",
       "2      English Bulldog  White and Brown               1            False   \n",
       "3      Chihuahua/Mixed            Brown               3            False   \n",
       "4               Coyote     Brown/Golden               1            False   \n",
       "\n",
       "  dog_size  is_pet dog_activity background_environment dog_accessories   \n",
       "0    Small    True      Sitting               Outdoors            None  \\\n",
       "1   Medium    True      Sitting               Outdoors            None   \n",
       "2   Medium    True     Standing               Outdoors            None   \n",
       "3    Small    True     Standing               Outdoors            None   \n",
       "4    Large   False      Running               Outdoors            None   \n",
       "\n",
       "                        image_file  \n",
       "0  australian_shepherd_puppies.png  \n",
       "1                basset_hounds.png  \n",
       "2                      bulldog.png  \n",
       "3                   chihuahuas.png  \n",
       "4                       coyote.png  "
      ]
     },
     "execution_count": 22,
     "metadata": {},
     "output_type": "execute_result"
    }
   ],
   "source": [
    "dog_image_df = pd.DataFrame(image_json_list)\n",
    "dog_image_df.head()"
   ]
  },
  {
   "cell_type": "markdown",
   "id": "149e4063-8472-47e4-909b-58197d71bdfc",
   "metadata": {},
   "source": [
    "### Conclusion"
   ]
  },
  {
   "cell_type": "markdown",
   "id": "ae4d9e2a-9c03-4f90-a572-3e7affa45ab4",
   "metadata": {},
   "source": [
    "One of the most valuable things LLMs can do is convert unstructured data to structured data, and as we've seen in this tutorial, you can use Llama 3.2 Vision to do just that with image data. This ability to extract meaningful features from images opens up a wide range of possibilities for applications such as image classification, object detection, and more, and we're excited to see the innovative solutions that developers will create using Llama 3.2 Vision on Groq API!"
   ]
  }
 ],
 "metadata": {
  "kernelspec": {
   "display_name": "Python 3 (ipykernel)",
   "language": "python",
   "name": "python3"
  },
  "language_info": {
   "codemirror_mode": {
    "name": "ipython",
    "version": 3
   },
   "file_extension": ".py",
   "mimetype": "text/x-python",
   "name": "python",
   "nbconvert_exporter": "python",
   "pygments_lexer": "ipython3",
   "version": "3.11.9"
  }
 },
 "nbformat": 4,
 "nbformat_minor": 5
}
