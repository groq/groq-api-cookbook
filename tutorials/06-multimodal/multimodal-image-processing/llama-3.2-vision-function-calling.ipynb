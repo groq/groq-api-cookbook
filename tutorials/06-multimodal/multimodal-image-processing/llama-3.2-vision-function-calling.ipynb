{
 "cells": [
  {
   "cell_type": "markdown",
   "id": "6555c580",
   "metadata": {},
   "source": [
    "# Using Llama 3.2 Vision for Function Calling"
   ]
  },
  {
   "cell_type": "markdown",
   "id": "47670e56",
   "metadata": {},
   "source": [
    "In our [previous tutorial on multimodal image processing](https://github.com/groq/groq-api-cookbook/blob/main/tutorials/multimodal-image-processing/dog-picture-storytelling-with-llava.ipynb), we explored the capabilities of [LLaVA](https://llava-vl.github.io/) (**L**arge **L**anguage-**a**nd-**V**ision **A**ssistant) by using it to analyze images of dogs and then write short childrens stories about them. In this tutorial we'll explore using Llama 3.2 Vision - a more powerful and functional multimodal model - to retrieve facts and information about dogs by calling the [API Ninjas' Dogs API](https://api-ninjas.com/api/dogs) using features gathered from the dog image."
   ]
  },
  {
   "cell_type": "markdown",
   "id": "e441f5a1",
   "metadata": {},
   "source": [
    "To do so we'll use Llama 3.2 Vision in conjunction with [Groq API's JSON mode](https://console.groq.com/docs/text-chat#json-mode-object-object) to extract specific information from the provided image, such as the breed of dog or its characteristics. By doing so, we'll show how to create a pipeline for image classification and data extraction, converting unstructured images into structured data that can be easily searched, filtered, and analyzed."
   ]
  },
  {
   "cell_type": "markdown",
   "id": "942c7579",
   "metadata": {},
   "source": [
    "### Setup"
   ]
  },
  {
   "cell_type": "code",
   "execution_count": 1,
   "id": "7d7113fe",
   "metadata": {},
   "outputs": [],
   "source": [
    "from groq import Groq\n",
    "import base64\n",
    "from IPython.display import Image \n",
    "import os\n",
    "import requests\n",
    "import json"
   ]
  },
  {
   "cell_type": "markdown",
   "id": "9d4de208",
   "metadata": {},
   "source": [
    "To complete this tutorial, you'll need a Groq API key. If you don't already have one, you can easily create a free account on GroqCloud by clicking [here](https://console.groq.com) and generating your API key. You'll also need an API Key from [API Ninjas](https://api-ninjas.com/api), which you can also generate for free by signing up. Once you have your Groq API key, you'll need to set it as an environment variable called GROQ_API_KEY for the tutorial to work. We'll be working with the llama-3.2-11b-vision-preview model throughout this tutorial."
   ]
  },
  {
   "cell_type": "code",
   "execution_count": 3,
   "id": "319112fb",
   "metadata": {},
   "outputs": [],
   "source": [
    "client = Groq()\n",
    "model = 'llama-3.2-11b-vision-preview'\n",
    "ninja_api_key = os.getenv('NINJA_API_KEY')"
   ]
  },
  {
   "cell_type": "markdown",
   "id": "872cc6b6",
   "metadata": {},
   "source": [
    "### Basic Llama 3.2 Vision usage"
   ]
  },
  {
   "cell_type": "markdown",
   "id": "21f865ab",
   "metadata": {},
   "source": [
    "For this tutorial, we'll be using the same set of dog images from [Britannica](https://www.britannica.com/animal/dog) that we utilized in the previous tutorial. You can access these images in the Groq API cookbook repository, specifically in the [images folder](https://github.com/groq/groq-api-cookbook/tree/main/tutorials/llava-image-processing/images). We'll be encoding a local image to base64 to integrate it with Llama 3.2 Vision. This is one of two methods to use an image with the vision model - the other approach involves providing the actual URL of the image."
   ]
  },
  {
   "cell_type": "code",
   "execution_count": 4,
   "id": "5f96b29e",
   "metadata": {},
   "outputs": [
    {
     "data": {
      "image/png": "[encoded data removed]",
      "text/plain": [
       "<IPython.core.display.Image object>"
      ]
     },
     "execution_count": 4,
     "metadata": {},
     "output_type": "execute_result"
    }
   ],
   "source": [
    "# Load and display the image\n",
    "image_path = 'images/maltese.png'\n",
    "Image(image_path)"
   ]
  },
  {
   "cell_type": "markdown",
   "id": "16406b6b",
   "metadata": {},
   "source": [
    "To use locally saved images with Llama 3.2 Vision, we'll need to encode them to base64 first:"
   ]
  },
  {
   "cell_type": "code",
   "execution_count": 5,
   "id": "7b202bb0",
   "metadata": {},
   "outputs": [],
   "source": [
    "def encode_image(image_path):\n",
    "  with open(image_path, \"rb\") as image_file:\n",
    "    return base64.b64encode(image_file.read()).decode('utf-8')\n",
    "\n",
    "base64_image = encode_image(image_path)"
   ]
  },
  {
   "cell_type": "markdown",
   "id": "96637a40",
   "metadata": {},
   "source": [
    "Analyzing an image with Llama 3.2 Vision using Groq API functions the same as with LLaVA. We'll make a request to the `https://api.groq.com/openai/v1/chat/completions` API endpoint, passing the image and prompt in a JSON structure that includes the image path:"
   ]
  },
  {
   "cell_type": "code",
   "execution_count": 7,
   "id": "381a9065",
   "metadata": {},
   "outputs": [
    {
     "name": "stdout",
     "output_type": "stream",
     "text": [
      "The dog breed in the image is a Maltese.\n"
     ]
    }
   ],
   "source": [
    "user_prompt = 'What is the dog breed in this image?'\n",
    "chat_completion = client.chat.completions.create(\n",
    "    messages=[\n",
    "        {\n",
    "            \"role\": \"user\",\n",
    "            \"content\": [\n",
    "                {\n",
    "                    \"type\": \"image_url\",\n",
    "                    \"image_url\": {\n",
    "                        \"url\": f\"data:image/jpeg;base64,{base64_image}\"\n",
    "                    },\n",
    "                },\n",
    "                {\"type\": \"text\", \"text\": user_prompt},\n",
    "            ],\n",
    "        }\n",
    "    ],\n",
    "    model=model\n",
    ")\n",
    "\n",
    "print(chat_completion.choices[0].message.content)"
   ]
  },
  {
   "cell_type": "markdown",
   "id": "5ac7dba7-1c46-427a-b822-bf17e5418f94",
   "metadata": {},
   "source": [
    "However, Llama 3.2 Vision offers more functionality than LLaVA. It offers most of the functionality of any other chat model, including tool use and JSON mode (the only thing it can't do is process a system prompt). By leveraging function calling, we can utilize Llama 3.2 Vision to identify the breed of the dog in the image and use it to call the dogs API endpoint, which will return a set of facts for that breed. For a more detailed primer on function calling, check out this [Function Calling 101 cookbook](https://github.com/groq/groq-api-cookbook/blob/main/tutorials/function-calling-101-ecommerce/Function-Calling-101-Ecommerce.ipynb)."
   ]
  },
  {
   "cell_type": "markdown",
   "id": "485b6787",
   "metadata": {},
   "source": [
    "### Function Calling"
   ]
  },
  {
   "cell_type": "markdown",
   "id": "b2143a88-c7bd-44c7-854e-49d58482bf48",
   "metadata": {},
   "source": [
    "First, we'll define our function to be used by Llama 3.2 Vision. This function will take in the dog breed name as a parameter and use it to call the dogs API:"
   ]
  },
  {
   "cell_type": "code",
   "execution_count": 8,
   "id": "060e2c14",
   "metadata": {},
   "outputs": [],
   "source": [
    "def get_dog_facts(breed_name):\n",
    "    # Format the API URL with the specific breed name for the API request\n",
    "    api_url = 'https://api.api-ninjas.com/v1/dogs?name={}'.format(breed_name)\n",
    "    \n",
    "    # Perform a GET request to the API with the API key in the headers for authentication\n",
    "    response = requests.get(api_url, headers={'X-Api-Key': ninja_api_key})\n",
    "    \n",
    "    # Check if the response from the server is OK (status code 200)\n",
    "    if response.status_code == requests.codes.ok:\n",
    "        # Extract the first dog breed match from the response JSON array\n",
    "        top_match = response.json()[0] # Multiple top matches may be returned; take the first result\n",
    "        return top_match\n",
    "    else:\n",
    "        # Return an error message with the status code and text if the request was not successful\n",
    "        return \"Error:\", response.status_code, response.text\n"
   ]
  },
  {
   "cell_type": "markdown",
   "id": "70c08bed-30f7-451e-8d73-c0279d841127",
   "metadata": {},
   "source": [
    "Next, we'll define our tools for Llama 3.2 Vision to use. Note that when defining your tool, the function description is used to determine which tool to call, and the parameter description is used to fill in the parameter of the function:"
   ]
  },
  {
   "cell_type": "code",
   "execution_count": 9,
   "id": "d7a26062-c0c8-41bd-9679-8e97c182bd69",
   "metadata": {},
   "outputs": [],
   "source": [
    "tools = [\n",
    "    {\n",
    "        \"type\": \"function\",\n",
    "        \"function\": {\n",
    "            \"name\": \"get_dog_facts\",\n",
    "            \"description\": \"Gets facts about a given dog breed\",\n",
    "            \"parameters\": {\n",
    "                \"type\": \"object\",\n",
    "                \"properties\": {\n",
    "                    \"breed_name\": {\n",
    "                        \"type\": \"string\",\n",
    "                        \"description\": \"The name of the dog breed\",\n",
    "                    }\n",
    "                },\n",
    "                \"required\": [\"breed_name\"],\n",
    "            },\n",
    "        },\n",
    "    }\n",
    "]"
   ]
  },
  {
   "cell_type": "markdown",
   "id": "5801e42e-04c9-40cf-ae48-9e14b159a3cb",
   "metadata": {},
   "source": [
    "Now we can use the tool use functionality with Llama 3.2 Vision to extract the dog breed from the picture, and use that to call the `get_dog_facts` function. Note that the image itself is serving as the lone user message in this function call, with no additional user prompt:"
   ]
  },
  {
   "cell_type": "code",
   "execution_count": 11,
   "id": "a1e6e858",
   "metadata": {},
   "outputs": [
    {
     "name": "stdout",
     "output_type": "stream",
     "text": [
      "{'image_link': 'https://api-ninjas.com/images/dogs/maltese.jpg', 'good_with_children': 3, 'good_with_other_dogs': 3, 'shedding': 1, 'grooming': 4, 'drooling': 1, 'coat_length': 1, 'good_with_strangers': 3, 'playfulness': 3, 'protectiveness': 4, 'trainability': 3, 'energy': 3, 'barking': 3, 'min_life_expectancy': 12.0, 'max_life_expectancy': 15.0, 'max_height_male': 9.0, 'max_height_female': 9.0, 'max_weight_male': 8.8, 'max_weight_female': 8.8, 'min_height_male': 7.0, 'min_height_female': 7.0, 'min_weight_male': 6.6, 'min_weight_female': 6.6, 'name': 'Maltese'}\n"
     ]
    }
   ],
   "source": [
    "# Function to call the LLaMA Vision Tool\n",
    "def llama_vision_tool_call(client, model, base64_image, available_functions):\n",
    "\n",
    "    chat_completion = client.chat.completions.create(\n",
    "        # The user message containing the image\n",
    "        messages=[\n",
    "            {\n",
    "                \"role\": \"user\",\n",
    "                \"content\": [\n",
    "                    {\n",
    "                        \"type\": \"image_url\",\n",
    "                        \"image_url\": {\n",
    "                            \"url\": f\"data:image/jpeg;base64,{base64_image}\"  # Decode the base64 image\n",
    "                        },\n",
    "                    },\n",
    "                ],\n",
    "            }\n",
    "        ],\n",
    "        model=model,\n",
    "        tools=tools, # The tools to be used\n",
    "        tool_choice=\"auto\" # Automatically choose the tool\n",
    "    )\n",
    "\n",
    "    response_message = chat_completion.choices[0].message\n",
    "\n",
    "    # Get the tool calls from the response message\n",
    "    tool_calls = response_message.tool_calls\n",
    "\n",
    "    # Call each available function\n",
    "    for tool_call in tool_calls:\n",
    "        # Get the function name from the tool call\n",
    "        function_name = tool_call.function.name\n",
    "\n",
    "        # Get the function to call from the available functions dictionary\n",
    "        function_to_call = available_functions[function_name]\n",
    "\n",
    "        # Parse the function arguments from the tool call\n",
    "        function_args = json.loads(tool_call.function.arguments)\n",
    "\n",
    "        # Call the function with the breed name\n",
    "        function_response = function_to_call(\n",
    "            breed_name=function_args.get(\"breed_name\")\n",
    "        )\n",
    "\n",
    "    # Return the response from the called function\n",
    "    return function_response\n",
    "\n",
    "\n",
    "# Define available functions\n",
    "available_functions = {\n",
    "    \"get_dog_facts\": get_dog_facts,  # Example function to get dog facts\n",
    "}\n",
    "\n",
    "dog_breed_json = llama_vision_tool_call(client, model, base64_image, available_functions)\n",
    "print(dog_breed_json)"
   ]
  },
  {
   "cell_type": "markdown",
   "id": "26b99463-19d5-4744-87ae-2c066e51adf6",
   "metadata": {},
   "source": [
    "Finally, we'll run the API output back through Llama 3.2 Vision, along with the field descriptions of the API output, so that it can provide a written assessment of the breed:"
   ]
  },
  {
   "cell_type": "code",
   "execution_count": 12,
   "id": "22c16876-cfd4-487f-8741-b38b13dd8379",
   "metadata": {},
   "outputs": [
    {
     "name": "stdout",
     "output_type": "stream",
     "text": [
      "**Assessment of the Maltese Breed**\n",
      "\n",
      "The Maltese is a gentle, playful, and affectionate breed that makes an excellent companion for families. They are adaptable to living in small spaces, such as apartments, but require regular grooming to prevent matting and tangling of their coats.\n",
      "\n",
      "**Temperament**\n",
      "\n",
      "The Maltese has a friendly and outgoing personality, making them great with children and other pets. They are relatively low-maintenance and don't require excessive exercise, making them a perfect fit for busy owners. However, they do benefit from regular playtime to keep them entertained and stimulated.\n",
      "\n",
      "**Shedding and Grooming**\n",
      "\n",
      "As a low-shedding breed, the Maltese is hypoallergenic and suitable for owners with allergies. However, their long, silky coats require regular brushing and grooming to prevent matting and tangling. Expect to spend around 30 minutes a day on grooming, including brushing, bathing, and trimming.\n",
      "\n",
      "**Vocalization**\n",
      "\n",
      "The Maltese is a vocal breed, but they are not excessive barkers. They may alert their owners to potential strangers or noises, but they do not make a lot of noise. This makes them a great fit for owners who live in apartments or have noise restrictions.\n",
      "\n",
      "**Energy Level**\n",
      "\n",
      "The Maltese has a moderate energy level, requiring daily walks and playtime to keep them happy and healthy. However, they are not high-energy dogs and can adjust to a relatively sedentary lifestyle.\n",
      "\n",
      "**Protectiveness**\n",
      "\n",
      "The Maltese is not naturally protective of their owners or territory. They are friendly and outgoing, which makes them less likely to alert strangers. However, they can make great watchdogs if socialized properly and given the confidence to defend their owners.\n",
      "\n",
      "**Trainability**\n",
      "\n",
      "The Maltese can be a bit stubborn at times, but they are highly trainable. Consistent, positive reinforcement training and early socialization are key to developing good behavior and habits.\n",
      "\n",
      "**Health and Maintenance**\n",
      "\n",
      "The Maltese is generally a healthy breed, but they can be prone to certain health issues, such as dental problems, patellar luxation, and kidney problems. Regular veterinary check-ups, proper care, and attention to health issues can help prevent or manage these problems.\n",
      "\n",
      "**In Conclusion**\n",
      "\n",
      "The Maltese is a delightful, adaptable breed that makes an excellent companion for families and individuals alike. With proper care, attention, and training, they can thrive in a variety of living situations. Whether you're looking for a playful companion or a gentle lap dog, the Maltese is an excellent choice.\n",
      "\n",
      "**Recommendations**\n",
      "\n",
      "* Suitable for: Families with children, individuals, and retirees\n",
      "* Living Situation: Apartments, houses, and condos\n",
      "* Exercise: Daily walks and playtime, moderate energy level\n",
      "* Grooming: Regular brushing, bathing, and trimming\n",
      "* Training: Consistent, positive reinforcement training and socialization\n",
      "* Health: Regular veterinary check-ups, proper care, and attention to potential health issues\n"
     ]
    }
   ],
   "source": [
    "def assess_dog_breed(client, model, dog_breed_json):\n",
    "\n",
    "    user_message = f\"\"\"\n",
    "    Write an assessment of this dog breed given the JSON info provided; below is a description of the fields in the JSON:\n",
    "    \n",
    "    {dog_breed_json}\n",
    "    \n",
    "    Description:\n",
    "    \n",
    "    1. Shedding:\n",
    "       - Description: How much hair the breed sheds.\n",
    "       - Possible values: 1 to 5 (where 1 indicates no shedding and 5 indicates maximum shedding).\n",
    "    \n",
    "    2. Barking:\n",
    "       - Description: How vocal the breed is.\n",
    "       - Possible values: 1 to 5 (where 1 indicates minimal barking and 5 indicates maximum barking).\n",
    "    \n",
    "    3. Energy:\n",
    "       - Description: How much energy the breed has.\n",
    "       - Possible values: 1 to 5 (where 1 indicates low energy and 5 indicates high energy).\n",
    "    \n",
    "    4. Protectiveness:\n",
    "       - Description: How likely the breed is to alert strangers.\n",
    "       - Possible values: 1 to 5 (where 1 indicates minimal alerting and 5 indicates maximum alerting).\n",
    "    \n",
    "    5. Trainability:\n",
    "       - Description: How easy it is to train the breed.\n",
    "       - Possible values: 1 to 5 (where 1 indicates the breed is very difficult to train and 5 indicates the breed is very easy to train).\n",
    "    \n",
    "    6. Name:\n",
    "       - Description: The name of the breed.\n",
    "    \n",
    "    7. Min Height:\n",
    "       - Description: Minimum height in inches.\n",
    "    \n",
    "    8. Max Height:\n",
    "       - Description: Maximum height in inches.\n",
    "    \n",
    "    9. Min Weight:\n",
    "       - Description: Minimum weight in pounds.\n",
    "    \n",
    "    10. Max Weight:\n",
    "       - Description: Maximum weight in pounds.\n",
    "    \n",
    "    11. Min Life Expectancy:\n",
    "       - Description: Minimum life expectancy in years.\n",
    "    \n",
    "    12. Max Life Expectancy:\n",
    "       - Description: Maximum life expectancy in years.\n",
    "    \n",
    "    (do not mention the JSON data, just use it to inform your response)\n",
    "    \"\"\"\n",
    "    \n",
    "    chat_completion = client.chat.completions.create(\n",
    "        messages=[\n",
    "            {\n",
    "                \"role\": \"user\",\n",
    "                \"content\": user_message\n",
    "            }\n",
    "        ],\n",
    "        model=model\n",
    "    )\n",
    "    \n",
    "    return chat_completion.choices[0].message.content\n",
    "\n",
    "dog_breed_assessment = assess_dog_breed(client, model, dog_breed_json)\n",
    "print(dog_breed_assessment)"
   ]
  },
  {
   "cell_type": "markdown",
   "id": "c647e9cf-3489-4cb7-9188-05443209349a",
   "metadata": {},
   "source": [
    "Let's try it with a few additional images:"
   ]
  },
  {
   "cell_type": "code",
   "execution_count": 13,
   "id": "341382ab-cb88-4399-a7e1-126db5084149",
   "metadata": {},
   "outputs": [
    {
     "data": {
      "image/png": "[encoded data removed]",
      "text/plain": [
       "<IPython.core.display.Image object>"
      ]
     },
     "execution_count": 13,
     "metadata": {},
     "output_type": "execute_result"
    }
   ],
   "source": [
    "image_path = 'images/golden_retriever_puppies.png'\n",
    "Image(image_path)"
   ]
  },
  {
   "cell_type": "code",
   "execution_count": 14,
   "id": "59bde540-d4f2-4156-a880-f7b84624768a",
   "metadata": {},
   "outputs": [
    {
     "name": "stdout",
     "output_type": "stream",
     "text": [
      "**Assessment of the Golden Retriever Breed**\n",
      "\n",
      "**Overall Impression:**\n",
      "The Golden Retriever is a loving, loyal, and energetic breed that requires regular grooming and exercise. With its high trainability, affectionate nature, and protective instincts, it makes for a wonderful family pet.\n",
      "\n",
      "**Key Traits:**\n",
      "\n",
      "* **Energy:** 3/5 - Average energy level, requiring regular exercise but not excessive physical activity.\n",
      "* **Protectiveness:** 3/5 - Will alert strangers with a moderate level of protectiveness, making it a great breed for families.\n",
      "* **Trainability:** 5/5 - Exceptionally easy to train, making it a great breed for new dog owners.\n",
      "* **Barking:** 1/5 - Minimal barking, suitable for families who value quiet living.\n",
      "* **Shedding:** 4/5 - Moderate shedding, requiring regular grooming to prevent matting.\n",
      "\n",
      "**Health and Longevity:**\n",
      "\n",
      "* **Life Expectancy:** 10-12 years - Average to above-average lifespan for a medium-sized breed.\n",
      "* **Height and Weight:** The Golden Retriever stands between 23 and 24 inches tall at the shoulder, with a weight range of 65-75 pounds for males and 55-65 pounds for females.\n",
      "\n",
      "**Recommendations:**\n",
      "\n",
      "* **Families with Children:** The Golden Retriever is an excellent breed for families with children, offering a loving and playful companion.\n",
      "* **First-Time Dog Owners:** The breed's trainability and adaptability make it an ideal choice for new dog owners.\n",
      "* **Active Owners:** While moderate exercise is required, the Golden Retriever is not a high maintenance breed, allowing owners to balance their lifestyle with their love for the dog.\n",
      "\n",
      "**In Conclusion:**\n",
      "The Golden Retriever is a loyal, friendly, and energetic breed that excels as a family pet. Its average energy level, ease of training, and minimal barking make it a great choice for many families. Regular grooming and exercise are essential to maintaining their health and coat condition. With proper care and attention, the Golden Retriever will provide years of companionship and affection.\n"
     ]
    }
   ],
   "source": [
    "base64_image = encode_image(image_path)\n",
    "dog_breed_json = llama_vision_tool_call(client, model, base64_image, available_functions)\n",
    "dog_breed_assessment = assess_dog_breed(client, model, dog_breed_json)\n",
    "print(dog_breed_assessment)"
   ]
  },
  {
   "cell_type": "code",
   "execution_count": 15,
   "id": "83fc89e5-22aa-417b-bd34-685672ce27b0",
   "metadata": {},
   "outputs": [
    {
     "data": {
      "image/png": "[encoded data removed]",
      "text/plain": [
       "<IPython.core.display.Image object>"
      ]
     },
     "execution_count": 15,
     "metadata": {},
     "output_type": "execute_result"
    }
   ],
   "source": [
    "image_path = 'images/bulldog.png'\n",
    "Image(image_path)"
   ]
  },
  {
   "cell_type": "code",
   "execution_count": 17,
   "id": "ad432375-4bd6-4e01-8243-62d609cb3f18",
   "metadata": {},
   "outputs": [
    {
     "name": "stdout",
     "output_type": "stream",
     "text": [
      "**American Bulldog Breed Assessment**\n",
      "\n",
      "The American Bulldog is a sturdy and affectionate breed that makes a great companion for families. Here's an overview of its characteristics:\n",
      "\n",
      "**Appearance:** The American Bulldog is a strong and muscular dog with a wide range of height and weight. Males can weigh up to 100 pounds and stand as tall as 28 inches, while females can weigh up to 80 pounds and stand up to 24 inches. With its short, easy-to-maintain coat and minimal shedding, it's an ideal choice for those who want a low-maintenance dog.\n",
      "\n",
      "**Temperament:** The American Bulldog is known for its friendly and outgoing nature. It's generally good with children and other dogs, although its shedding rating of 2 indicates that it may not be suitable for families with severe allergies. While it's not particularly protective, it will alert its owner to strangers.\n",
      "\n",
      "**Vocalization:** American Bulldogs are not excessively vocal dogs, with a barking rating of 1 out of 5. This makes them a great choice for those who want a quiet companion.\n",
      "\n",
      "**Playfulness and Energy:** This breed has a moderate level of energy, which means it needs regular exercise to stay happy and healthy. However, it's not an overly demanding dog and can adapt to a range of living situations.\n",
      "\n",
      "**Trainability:** American Bulldogs are known for their intelligence and trainability, with a trainability rating of 4 out of 5. They respond well to positive reinforcement and consistent training, making them a great choice for first-time dog owners.\n",
      "\n",
      "**Life Expectancy:** The American Bulldog has a minimum life expectancy of 10 years and a maximum life expectancy of 12 years, which is relatively long compared to other breeds.\n",
      "\n",
      "**Overall:** The American Bulldog is a loyal, loving, and adaptable breed that makes a great companion for many families. While it may require regular exercise and consistent training, its low-maintenance coat and minimal shedding make it an ideal choice for those who want a low-maintenance dog. With proper care and attention, the American Bulldog can live a long and happy life as a beloved member of your family.\n"
     ]
    }
   ],
   "source": [
    "base64_image = encode_image(image_path)\n",
    "dog_breed_json = llama_vision_tool_call(client, model, base64_image, available_functions)\n",
    "dog_breed_assessment = assess_dog_breed(client, model, dog_breed_json)\n",
    "print(dog_breed_assessment)"
   ]
  },
  {
   "cell_type": "markdown",
   "id": "149e4063-8472-47e4-909b-58197d71bdfc",
   "metadata": {},
   "source": [
    "### Conclusion"
   ]
  },
  {
   "cell_type": "markdown",
   "id": "ae4d9e2a-9c03-4f90-a572-3e7affa45ab4",
   "metadata": {},
   "source": [
    "Llama 3.2 Vision showcases the versatility and power of LLMs in Groq API, enabling developers to not just process an image but unlock new capabilities through function calling. In our demo, we demonstrated the ability to use Llama 3.2 Vision to identify dog breeds from images and call an API to retrieve additional information, and then write an assessment of that breed from the information extracted. This seamless integration highlights Llama 3.2 Vision's flexibility and power, making it a valuable tool for applications like image classification, object detection, and more. We're excited to see what you build with Llama 3.2 Vision on Groq API!"
   ]
  }
 ],
 "metadata": {
  "kernelspec": {
   "display_name": "Python 3 (ipykernel)",
   "language": "python",
   "name": "python3"
  },
  "language_info": {
   "codemirror_mode": {
    "name": "ipython",
    "version": 3
   },
   "file_extension": ".py",
   "mimetype": "text/x-python",
   "name": "python",
   "nbconvert_exporter": "python",
   "pygments_lexer": "ipython3",
   "version": "3.11.9"
  }
 },
 "nbformat": 4,
 "nbformat_minor": 5
}
