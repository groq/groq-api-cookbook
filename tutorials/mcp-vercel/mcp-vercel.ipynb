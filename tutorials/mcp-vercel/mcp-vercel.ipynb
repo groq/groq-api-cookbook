{
  "cells": [
    {
      "cell_type": "markdown",
      "metadata": {},
      "source": [
        "# Groq + Vercel MCP\n",
        "\n",
        "Build, deploy, and manage your applications with Groq and Vercel MCP. This tutorial shows you how to integrate Groq's AI with Vercel's infrastructure through the Model Context Protocol (MCP).\n",
        "\n",
        "**What you'll learn:**\n",
        "- Deploy applications to Vercel using AI assistance\n",
        "- Monitor deployments and project health in real-time\n",
        "- Access Vercel's documentation and resources through AI\n",
        "\n",
        "---\n",
        "\n",
        "## Setup and Configuration\n",
        "\n",
        "Before you begin, you'll need to configure your development environment with the necessary API credentials.\n",
        "\n",
        "### Step 1: Create Your Accounts\n",
        "\n",
        "1. **Vercel Account**: Sign up at [vercel.com](https://vercel.com)\n",
        "2. **Groq Account**: Create an account at [console.groq.com](https://console.groq.com/keys)\n",
        "\n",
        "### Step 2: Generate API Credentials\n",
        "\n",
        "**Vercel API Token:**\n",
        "- Navigate to [Account Settings > Tokens](https://vercel.com/account/tokens)\n",
        "- Enter a name, scope, and description\n",
        "- Click \"Create\"\n",
        "- Copy the generated token (you won't see it again)\n",
        "\n",
        "**Groq API Key:**\n",
        "- Visit [Groq Console](https://console.groq.com/keys)\n",
        "- Generate a new API key from your dashboard\n",
        "- Copy the key for use in this tutorial\n",
        "\n",
        "### Step 3: Configure Your Environment\n",
        "\n",
        "Set up your API keys in the environment variables below:\n"
      ]
    },
    {
      "cell_type": "code",
      "execution_count": null,
      "metadata": {},
      "outputs": [],
      "source": [
        "# Configure your API credentials\n",
        "\n",
        "# Set your API keys here (replace with your actual values)\n",
        "VERCEL_ACCESS_TOKEN = \"your_vercel_access_token\"\n",
        "GROQ_API_KEY = \"your_groq_api_key\"\n"
      ]
    },
    {
      "cell_type": "code",
      "execution_count": null,
      "metadata": {},
      "outputs": [
        {
          "name": "stdout",
          "output_type": "stream",
          "text": [
            "✅ Groq API key configured\n",
            "✅ Vercel access token configured\n",
            "\n",
            "🎉 All credentials configured successfully!\n"
          ]
        }
      ],
      "source": [
        "# Validate API key configuration\n",
        "def validate_credentials():\n",
        "    \"\"\"Validate that both API keys are properly configured.\"\"\"\n",
        "    issues = []\n",
        "    \n",
        "    if not GROQ_API_KEY or GROQ_API_KEY == \"your-groq-api-key-here\":\n",
        "        issues.append(\"❌ Groq API key not configured\")\n",
        "    else:\n",
        "        print(\"✅ Groq API key configured\")\n",
        "        \n",
        "    if not VERCEL_ACCESS_TOKEN or VERCEL_ACCESS_TOKEN == \"your-vercel-access-token-here\":\n",
        "        issues.append(\"❌ Vercel access token not configured\")\n",
        "    else:\n",
        "        print(\"✅ Vercel access token configured\")\n",
        "    \n",
        "    if issues:\n",
        "        print(\"\\n⚠️  Configuration Issues:\")\n",
        "        for issue in issues:\n",
        "            print(f\"   {issue}\")\n",
        "        print(\"\\nPlease update your API keys in the previous cell before continuing.\")\n",
        "        return False\n",
        "    else:\n",
        "        print(\"\\n🎉 All credentials configured successfully!\")\n",
        "        return True\n",
        "\n",
        "# Run validation\n",
        "credentials_valid = validate_credentials()\n"
      ]
    },
    {
      "cell_type": "markdown",
      "metadata": {},
      "source": [
        "## Initialize the Groq Client\n",
        "\n",
        "We'll start by initializing the Groq MCP client."
      ]
    },
    {
      "cell_type": "code",
      "execution_count": 32,
      "metadata": {},
      "outputs": [],
      "source": [
        "import openai\n",
        "\n",
        "client = openai.OpenAI(base_url=\"https://api.groq.com/api/openai/v1\", api_key=GROQ_API_KEY)\n"
      ]
    },
    {
      "cell_type": "markdown",
      "metadata": {},
      "source": [
        "## Configure Vercel MCP as a tool\n",
        "\n",
        "The Vercel MCP server provides direct access to Vercel's platform capabilities through AI. \n",
        "\n",
        "In this tutorial, we'll configure it with your API token. Howeer, you can also use OAuth if preferred."
      ]
    },
    {
      "cell_type": "code",
      "execution_count": 33,
      "metadata": {},
      "outputs": [],
      "source": [
        "# set up Vercel MCP server with API token authentication\n",
        "tools = [\n",
        "    {\n",
        "        \"type\": \"mcp\",\n",
        "        \"server_url\": \"https://mcp.vercel.com\",\n",
        "        \"server_label\": \"vercel\",\n",
        "        \"require_approval\": \"never\",\n",
        "        \"headers\": {\n",
        "            \"Authorization\": f\"Bearer {VERCEL_ACCESS_TOKEN}\"\n",
        "        }\n",
        "    }\n",
        "]\n"
      ]
    },
    {
      "cell_type": "markdown",
      "metadata": {},
      "source": [
        "## Connect Groq with Vercel MCP\n",
        "\n",
        "Now we'll establish the connection between Groq's AI and Vercel's platform. This integration enables your AI to search Vercel docs, monitor deployments, search domain availability, and more.\n"
      ]
    },
    {
      "cell_type": "code",
      "execution_count": 47,
      "metadata": {},
      "outputs": [
        {
          "ename": "AttributeError",
          "evalue": "'OpenAI' object has no attribute 'responses'",
          "output_type": "error",
          "traceback": [
            "\u001b[0;31m---------------------------------------------------------------------------\u001b[0m",
            "\u001b[0;31mAttributeError\u001b[0m                            Traceback (most recent call last)",
            "Cell \u001b[0;32mIn[47], line 1\u001b[0m\n\u001b[0;32m----> 1\u001b[0m response \u001b[38;5;241m=\u001b[39m \u001b[43mclient\u001b[49m\u001b[38;5;241;43m.\u001b[39;49m\u001b[43mresponses\u001b[49m\u001b[38;5;241m.\u001b[39mcreate(\n\u001b[1;32m      2\u001b[0m     model\u001b[38;5;241m=\u001b[39m\u001b[38;5;124m\"\u001b[39m\u001b[38;5;124mopenai/gpt-oss-120b\u001b[39m\u001b[38;5;124m\"\u001b[39m,\n\u001b[1;32m      3\u001b[0m     \u001b[38;5;28minput\u001b[39m\u001b[38;5;241m=\u001b[39m\u001b[38;5;124m\"\u001b[39m\u001b[38;5;124mWhat are the best models for agentic workflows on Groq? Search only on console.groq.com\u001b[39m\u001b[38;5;124m\"\u001b[39m,\n\u001b[1;32m      4\u001b[0m     tools\u001b[38;5;241m=\u001b[39mtools\n\u001b[1;32m      5\u001b[0m )\n\u001b[1;32m      7\u001b[0m \u001b[38;5;28mprint\u001b[39m(response)\n",
            "\u001b[0;31mAttributeError\u001b[0m: 'OpenAI' object has no attribute 'responses'"
          ]
        }
      ],
      "source": [
        "response = client.responses.create(\n",
        "    model=\"openai/gpt-oss-120b\",\n",
        "    input=\"What are the best models for agentic workflows on Groq? Search only on console.groq.com\",\n",
        "    tools=tools\n",
        ")\n",
        "\n",
        "print(response)\n"
      ]
    },
    {
      "cell_type": "markdown",
      "metadata": {},
      "source": [
        "## Vercel Platform Capabilities\n",
        "\n",
        "The Vercel MCP integration provides comprehensive access to Vercel's deployment platform through AI. Here are the key capabilities available:\n",
        "\n",
        "### Project Management\n",
        "- **`list_projects`** - View all projects in your Vercel account\n",
        "- **`get_project`** - Get detailed project information and settings\n",
        "- **`list_teams`** - Access team and organization information\n",
        "\n",
        "### Deployment Operations\n",
        "- **`list_deployments`** - Monitor deployment history and status\n",
        "- **`get_deployment`** - Get detailed deployment information\n",
        "- **`get_deployment_build_logs`** - Access build logs for debugging\n",
        "- **`deploy_to_vercel`** - Trigger new deployments\n",
        "\n",
        "### Domain & Access Management\n",
        "- **`check_domain_availability_and_price`** - Domain availability and pricing\n",
        "- **`get_access_to_vercel_url`** - Create temporary access links\n",
        "- **`web_fetch_vercel_url`** - Fetch content from deployment URLs\n",
        "\n",
        "### Documentation & Support\n",
        "- **`search_vercel_documentation`** - Search Vercel's comprehensive documentation\n",
        "\n",
        "Keep up to date with the [Vercel MCP tools docs](https://vercel.com/docs/mcp/vercel-mcp/tools).\n",
        "\n",
        "---\n"
      ]
    },
    {
      "cell_type": "markdown",
      "metadata": {},
      "source": [
        "## Next Steps\n",
        "\n",
        "You've successfully integrated Groq's AI capabilities with Vercel's deployment platform. This powerful combination enables you to:\n",
        "\n",
        "- **Automate deployment workflows** with AI assistance\n",
        "- **Access Vercel documentation** through intelligent search\n",
        "- **Manage teams and domains** programmatically\n",
        "\n",
        "## 🚀 Vercel MCP Integration\n",
        "\n",
        "**Platform**: Vercel's Model Context Protocol server provides comprehensive access to deployment infrastructure through AI.\n",
        "\n",
        "**Server**: `https://mcp.vercel.com`\n",
        "\n",
        "**Authentication Methods**:\n",
        "- **API Token** (Recommended): `Authorization: Bearer <token>`\n",
        "- **OAuth**: Interactive authentication flows\n",
        "\n",
        "## 📚 Additional Resources\n",
        "\n",
        "### Vercel Platform\n",
        "- [Vercel MCP Docs](https://vercel.com/docs/mcp/vercel-mcp/overview)\n",
        "- [Vercel Documentation](https://vercel.com/docs) - Complete platform guide\n",
        "- [API Reference](https://vercel.com/docs/api) - REST API documentation\n",
        "\n",
        "### Authentication & Security\n",
        "- [API Tokens](https://vercel.com/guides/how-do-i-use-a-vercel-api-access-token) - Token management\n",
        "- [Team Management](https://vercel.com/docs/accounts/teams) - Organization setup\n",
        "- [Security Best Practices](https://vercel.com/docs/security) - Platform security\n",
        "\n",
        "---\n",
        "\n",
        "**Ready to deploy?** Start building with [Vercel](https://vercel.com) and scale with AI-powered automation.\n"
      ]
    }
  ],
  "metadata": {
    "kernelspec": {
      "display_name": "Python 3",
      "language": "python",
      "name": "python3"
    },
    "language_info": {
      "codemirror_mode": {
        "name": "ipython",
        "version": 3
      },
      "file_extension": ".py",
      "mimetype": "text/x-python",
      "name": "python",
      "nbconvert_exporter": "python",
      "pygments_lexer": "ipython3",
      "version": "3.9.6"
    }
  },
  "nbformat": 4,
  "nbformat_minor": 2
}
